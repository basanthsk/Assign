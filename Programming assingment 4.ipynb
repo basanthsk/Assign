{
 "cells": [
  {
   "cell_type": "markdown",
   "id": "3b9c4121",
   "metadata": {},
   "source": [
    "1.\tWrite a Python Program to Find the Factorial of a Number?"
   ]
  },
  {
   "cell_type": "code",
   "execution_count": 21,
   "id": "e1baade2",
   "metadata": {},
   "outputs": [
    {
     "name": "stdout",
     "output_type": "stream",
     "text": [
      "enter a number\n",
      "4\n",
      "The factorial of num : 24\n"
     ]
    }
   ],
   "source": [
    "num = int(input(\"enter the number\"))\n",
    "if num == 0 or num ==1:\n",
    "    print(f'The factorial of num : {1} ')\n",
    "else:\n",
    "    fact=1\n",
    "    for i in range(1,num+1):\n",
    "        fact = i*fact\n",
    "    print(f'The factorial of num : {fact}')\n",
    "    "
   ]
  },
  {
   "cell_type": "markdown",
   "id": "fa2ddbde",
   "metadata": {},
   "source": [
    "2.\tWrite a Python Program to Display the multiplication Table?"
   ]
  },
  {
   "cell_type": "code",
   "execution_count": 5,
   "id": "a3cb386d",
   "metadata": {},
   "outputs": [
    {
     "name": "stdout",
     "output_type": "stream",
     "text": [
      "enter a number\n",
      "3\n",
      "Multiplaction Table\n",
      "3*1 = 3\n",
      "3*2 = 6\n",
      "3*3 = 9\n",
      "3*4 = 12\n",
      "3*5 = 15\n",
      "3*6 = 18\n",
      "3*7 = 21\n",
      "3*8 = 24\n",
      "3*9 = 27\n",
      "3*10 = 30\n"
     ]
    }
   ],
   "source": [
    "num = int(input(\"enter the number\"))\n",
    "print(\"Multiplaction Table\")\n",
    "for i in range(1,11):\n",
    "    print(f'{num}*{i} = {i*num}')"
   ]
  },
  {
   "cell_type": "markdown",
   "id": "3db25e99",
   "metadata": {},
   "source": [
    "3.\tWrite a Python Program to Print the Fibonacci sequence?"
   ]
  },
  {
   "cell_type": "code",
   "execution_count": 17,
   "id": "0e20c51b",
   "metadata": {},
   "outputs": [
    {
     "name": "stdout",
     "output_type": "stream",
     "text": [
      "enter a number\n",
      "6\n",
      "0,1,1,2,3,5,"
     ]
    }
   ],
   "source": [
    "print(\"enter the number\")\n",
    "num = int(input())\n",
    "f1=0\n",
    "f2=1\n",
    "if num<=0:\n",
    "    print(\"The fibonacci series is\",f)\n",
    "else:\n",
    "    print(f'{f1},{f2}',end=\",\")\n",
    "    for x in range(2,num):\n",
    "        fibo=f1+f2                           \n",
    "        print(fibo,end=\",\")\n",
    "        f1=f2\n",
    "        f2=fibo"
   ]
  },
  {
   "cell_type": "markdown",
   "id": "b32f103d",
   "metadata": {},
   "source": [
    "4.\tWrite a Python Program to Check Armstrong Number?"
   ]
  },
  {
   "cell_type": "code",
   "execution_count": 33,
   "id": "df51c59f",
   "metadata": {},
   "outputs": [
    {
     "name": "stdout",
     "output_type": "stream",
     "text": [
      "enter the number 407\n",
      "Armstrong number\n"
     ]
    }
   ],
   "source": [
    "num = int(input(\"enter the number \")) \n",
    "order = len(str(num))\n",
    "sum = 0 \n",
    "temp = num \n",
    "while (temp > 0): \n",
    "    digit = temp % 10 \n",
    "    sum = sum+ digit ** order\n",
    "    temp = temp//10 \n",
    "if (num == sum): \n",
    "    print(\"Armstrong number\") \n",
    "else: \n",
    "    print(\"Not an Armstrong number\")"
   ]
  },
  {
   "cell_type": "markdown",
   "id": "b335331a",
   "metadata": {},
   "source": [
    "5.\tWrite a Python Program to Find Armstrong Number in an Interval?"
   ]
  },
  {
   "cell_type": "code",
   "execution_count": 30,
   "id": "539a1281",
   "metadata": {},
   "outputs": [
    {
     "name": "stdout",
     "output_type": "stream",
     "text": [
      "enter lower range: 100\n",
      "enter upper range: 500\n",
      "153,370,371,407,"
     ]
    }
   ],
   "source": [
    "lower = int(input(\"enter lower range: \"))\n",
    "upper = int(input(\"enter upper range: \"))\n",
    "for num in range(lower, upper + 1):\n",
    "    order = len(str(num))\n",
    "    sum = 0\n",
    "    temp = num\n",
    "    while temp > 0:\n",
    "        digit = temp % 10\n",
    "        sum += digit ** order \n",
    "        temp //= 10\n",
    "    if num == sum:\n",
    "        print(num, end = ',')"
   ]
  },
  {
   "cell_type": "markdown",
   "id": "a610d359",
   "metadata": {},
   "source": [
    " 6.\tWrite a Python Program to Find the Sum of Natural Numbers?"
   ]
  },
  {
   "cell_type": "code",
   "execution_count": 36,
   "id": "55872df6",
   "metadata": {},
   "outputs": [
    {
     "name": "stdout",
     "output_type": "stream",
     "text": [
      "enter the number 10\n",
      "sum of natural numbers: 55\n"
     ]
    }
   ],
   "source": [
    "num = int(input(\"enter the number \")) \n",
    "sum = 0\n",
    "for i in range(num+1):\n",
    "    sum=sum+i\n",
    "print(f'sum of natural numbers: {sum}')    "
   ]
  },
  {
   "cell_type": "code",
   "execution_count": null,
   "id": "074fe1cb",
   "metadata": {},
   "outputs": [],
   "source": []
  }
 ],
 "metadata": {
  "kernelspec": {
   "display_name": "Python 3",
   "language": "python",
   "name": "python3"
  },
  "language_info": {
   "codemirror_mode": {
    "name": "ipython",
    "version": 3
   },
   "file_extension": ".py",
   "mimetype": "text/x-python",
   "name": "python",
   "nbconvert_exporter": "python",
   "pygments_lexer": "ipython3",
   "version": "3.8.5"
  }
 },
 "nbformat": 4,
 "nbformat_minor": 5
}
