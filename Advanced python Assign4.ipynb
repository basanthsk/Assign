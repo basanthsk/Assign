{
 "cells": [
  {
   "cell_type": "markdown",
   "id": "1750ed88",
   "metadata": {},
   "source": [
    "1. In mathematics, the Fibonacci numbers, commonly denoted Fn, form a sequence, called the Fibonacci sequence, such that each number is the sum of the two preceding ones, starting from 0 and 1:"
   ]
  },
  {
   "cell_type": "code",
   "execution_count": 17,
   "id": "76eca1f5",
   "metadata": {},
   "outputs": [],
   "source": [
    "def fib_fast(num):\n",
    "    f1=0\n",
    "    f2=1\n",
    "    count=1\n",
    "    if num == 1:\n",
    "        return f2\n",
    "    else:\n",
    "        for _ in range(1,num):\n",
    "            fib = f1+f2\n",
    "            f1=f2\n",
    "            f2= fib\n",
    "    return fib    "
   ]
  },
  {
   "cell_type": "code",
   "execution_count": 18,
   "id": "41df3fb1",
   "metadata": {},
   "outputs": [
    {
     "data": {
      "text/plain": [
       "5"
      ]
     },
     "execution_count": 18,
     "metadata": {},
     "output_type": "execute_result"
    }
   ],
   "source": [
    "fib_fast(5) "
   ]
  },
  {
   "cell_type": "code",
   "execution_count": 19,
   "id": "013408ba",
   "metadata": {},
   "outputs": [
    {
     "data": {
      "text/plain": [
       "55"
      ]
     },
     "execution_count": 19,
     "metadata": {},
     "output_type": "execute_result"
    }
   ],
   "source": [
    "fib_fast(10) "
   ]
  },
  {
   "cell_type": "code",
   "execution_count": 20,
   "id": "332b96ab",
   "metadata": {},
   "outputs": [
    {
     "data": {
      "text/plain": [
       "6765"
      ]
     },
     "execution_count": 20,
     "metadata": {},
     "output_type": "execute_result"
    }
   ],
   "source": [
    "fib_fast(20) "
   ]
  },
  {
   "cell_type": "code",
   "execution_count": 21,
   "id": "b2bcbe6f",
   "metadata": {},
   "outputs": [
    {
     "data": {
      "text/plain": [
       "12586269025"
      ]
     },
     "execution_count": 21,
     "metadata": {},
     "output_type": "execute_result"
    }
   ],
   "source": [
    "fib_fast(50) "
   ]
  },
  {
   "cell_type": "markdown",
   "id": "23985c1e",
   "metadata": {},
   "source": [
    "2. Create a function that takes a strings characters as ASCII and returns each characters hexadecimal value as a string."
   ]
  },
  {
   "cell_type": "code",
   "execution_count": 40,
   "id": "2fc6059c",
   "metadata": {},
   "outputs": [],
   "source": [
    "def convert_to_hex(string):\n",
    "    h=''\n",
    "    for ch in string:\n",
    "        h+=hex(ord(ch)).lstrip(\"0x\").rstrip(\"L\")+\" \"\n",
    "    return h\n",
    "    "
   ]
  },
  {
   "cell_type": "code",
   "execution_count": 41,
   "id": "1ef18e83",
   "metadata": {},
   "outputs": [
    {
     "data": {
      "text/plain": [
       "'68 65 6c 6c 6f 20 77 6f 72 6c 64 '"
      ]
     },
     "execution_count": 41,
     "metadata": {},
     "output_type": "execute_result"
    }
   ],
   "source": [
    "convert_to_hex(\"hello world\") "
   ]
  },
  {
   "cell_type": "code",
   "execution_count": 43,
   "id": "e28bdf94",
   "metadata": {},
   "outputs": [
    {
     "data": {
      "text/plain": [
       "'42 69 67 20 42 6f 69 '"
      ]
     },
     "execution_count": 43,
     "metadata": {},
     "output_type": "execute_result"
    }
   ],
   "source": [
    "convert_to_hex(\"Big Boi\") "
   ]
  },
  {
   "cell_type": "code",
   "execution_count": 45,
   "id": "66ba8cbd",
   "metadata": {},
   "outputs": [
    {
     "data": {
      "text/plain": [
       "'4d 61 72 74 79 20 50 6f 70 70 69 6e 73 6f 6e '"
      ]
     },
     "execution_count": 45,
     "metadata": {},
     "output_type": "execute_result"
    }
   ],
   "source": [
    "convert_to_hex(\"Marty Poppinson\") "
   ]
  },
  {
   "cell_type": "markdown",
   "id": "680fa2c2",
   "metadata": {},
   "source": [
    "3. Someone has attempted to censor my strings by replacing every vowel with a *, l*k* th*s. Luckily, I've been able to find the vowels that were removed.\n",
    "\n",
    "Given a censored string and a string of the censored vowels, return the original uncensored string.\n"
   ]
  },
  {
   "cell_type": "code",
   "execution_count": 49,
   "id": "04b3d993",
   "metadata": {},
   "outputs": [],
   "source": [
    "def uncensor(censored_str,missing_str):\n",
    "    count=0\n",
    "    uncen_string = ''\n",
    "    for ch in censored_str:\n",
    "        if ch==\"*\":\n",
    "            uncen_string+=missing_str[count]\n",
    "            count+=1\n",
    "        else:\n",
    "            uncen_string+=ch\n",
    "    return uncen_string"
   ]
  },
  {
   "cell_type": "code",
   "execution_count": 50,
   "id": "437a66ea",
   "metadata": {},
   "outputs": [
    {
     "data": {
      "text/plain": [
       "'Where did my vowels go?'"
      ]
     },
     "execution_count": 50,
     "metadata": {},
     "output_type": "execute_result"
    }
   ],
   "source": [
    "uncensor(\"Wh*r* d*d my v*w*ls g*?\", \"eeioeo\")"
   ]
  },
  {
   "cell_type": "code",
   "execution_count": 52,
   "id": "e021a513",
   "metadata": {},
   "outputs": [
    {
     "data": {
      "text/plain": [
       "'abcd'"
      ]
     },
     "execution_count": 52,
     "metadata": {},
     "output_type": "execute_result"
    }
   ],
   "source": [
    "uncensor(\"abcd\", \"\")"
   ]
  },
  {
   "cell_type": "code",
   "execution_count": 53,
   "id": "dc932132",
   "metadata": {},
   "outputs": [
    {
     "data": {
      "text/plain": [
       "'UPPERCASE'"
      ]
     },
     "execution_count": 53,
     "metadata": {},
     "output_type": "execute_result"
    }
   ],
   "source": [
    "uncensor(\"*PP*RC*S*\", \"UEAE\") "
   ]
  },
  {
   "cell_type": "markdown",
   "id": "c66bbcbf",
   "metadata": {},
   "source": [
    "4. Write a function that takes an IP address and returns the domain name using PTR DNS records."
   ]
  },
  {
   "cell_type": "code",
   "execution_count": 60,
   "id": "e46c3f27",
   "metadata": {},
   "outputs": [],
   "source": [
    "import socket\n",
    "def get_domain(ip):\n",
    "    return socket.gethostbyaddr(ip)[0]"
   ]
  },
  {
   "cell_type": "code",
   "execution_count": 61,
   "id": "36df16b0",
   "metadata": {},
   "outputs": [
    {
     "data": {
      "text/plain": [
       "'dns.google'"
      ]
     },
     "execution_count": 61,
     "metadata": {},
     "output_type": "execute_result"
    }
   ],
   "source": [
    "get_domain(\"8.8.8.8\") "
   ]
  },
  {
   "cell_type": "code",
   "execution_count": 62,
   "id": "351fbae4",
   "metadata": {},
   "outputs": [
    {
     "data": {
      "text/plain": [
       "'dns.google'"
      ]
     },
     "execution_count": 62,
     "metadata": {},
     "output_type": "execute_result"
    }
   ],
   "source": [
    "get_domain(\"8.8.4.4\")"
   ]
  },
  {
   "cell_type": "markdown",
   "id": "7e8e24f7",
   "metadata": {},
   "source": [
    "5. Create a function that takes an integer n and returns the factorial of factorials. See below examples for a better understanding:"
   ]
  },
  {
   "cell_type": "code",
   "execution_count": 46,
   "id": "3bde73e2",
   "metadata": {},
   "outputs": [],
   "source": [
    "def fact_of_fact(num):\n",
    "    fact = 1\n",
    "    for i in range(1,num+1):\n",
    "        for j in range(1,i+1):\n",
    "              fact*=j\n",
    "    return fact"
   ]
  },
  {
   "cell_type": "code",
   "execution_count": 47,
   "id": "ac807b12",
   "metadata": {},
   "outputs": [
    {
     "data": {
      "text/plain": [
       "288"
      ]
     },
     "execution_count": 47,
     "metadata": {},
     "output_type": "execute_result"
    }
   ],
   "source": [
    "fact_of_fact(4) "
   ]
  },
  {
   "cell_type": "code",
   "execution_count": 48,
   "id": "511d0b46",
   "metadata": {},
   "outputs": [
    {
     "data": {
      "text/plain": [
       "34560"
      ]
     },
     "execution_count": 48,
     "metadata": {},
     "output_type": "execute_result"
    }
   ],
   "source": [
    "fact_of_fact(5) "
   ]
  },
  {
   "cell_type": "code",
   "execution_count": 49,
   "id": "ce1327ba",
   "metadata": {},
   "outputs": [
    {
     "data": {
      "text/plain": [
       "24883200"
      ]
     },
     "execution_count": 49,
     "metadata": {},
     "output_type": "execute_result"
    }
   ],
   "source": [
    "fact_of_fact(6)"
   ]
  },
  {
   "cell_type": "code",
   "execution_count": null,
   "id": "3bfe853f",
   "metadata": {},
   "outputs": [],
   "source": []
  }
 ],
 "metadata": {
  "kernelspec": {
   "display_name": "Python 3",
   "language": "python",
   "name": "python3"
  },
  "language_info": {
   "codemirror_mode": {
    "name": "ipython",
    "version": 3
   },
   "file_extension": ".py",
   "mimetype": "text/x-python",
   "name": "python",
   "nbconvert_exporter": "python",
   "pygments_lexer": "ipython3",
   "version": "3.8.5"
  }
 },
 "nbformat": 4,
 "nbformat_minor": 5
}
