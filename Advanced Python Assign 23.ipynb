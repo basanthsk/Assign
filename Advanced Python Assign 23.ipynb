{
 "cells": [
  {
   "cell_type": "markdown",
   "id": "20653f3f",
   "metadata": {},
   "source": [
    "1. Create a class Sudoku that takes a string as an argument. The string will contain the numbers of a regular 9x9 sudoku board left to right and top to bottom, with zeros filling up the empty cells."
   ]
  },
  {
   "cell_type": "code",
   "execution_count": 92,
   "id": "1f78a197",
   "metadata": {},
   "outputs": [],
   "source": [
    "class Sudoku:\n",
    "    def __init__(self,string):\n",
    "        self.string = string\n",
    "        self.board_list()\n",
    "    def board_list(self):    \n",
    "        self.board=[]\n",
    "        l=[]\n",
    "        for i in range(len(self.string)):\n",
    "            if i%9==0 and i!=0:\n",
    "                self.board.append(l)\n",
    "                l =[]\n",
    "            l.append(self.string[i])  \n",
    "        self.board.append(l)    \n",
    "        \n",
    "    def get_row(self,n):\n",
    "        return self.board[n]\n",
    "    \n",
    "    def get_col(self,n):\n",
    "        return [line[n] for line in self.board]\n",
    "    \n",
    "    def get_sqr(self,n=0,m=0):\n",
    "        l=[]\n",
    "        if m == 0:\n",
    "            for k in range(9):\n",
    "                i=k//3+3*(n//3)\n",
    "                j = k%3+3*(n%3)\n",
    "                l.append(self.board[i][j])\n",
    "        else:\n",
    "            for k in range(9):\n",
    "                i=k//3+3*(n//3)\n",
    "                j = k%3+3*(m%3)\n",
    "                l.append(self.board[i][j])\n",
    "        return l        \n"
   ]
  },
  {
   "cell_type": "code",
   "execution_count": 95,
   "id": "c486a87f",
   "metadata": {},
   "outputs": [],
   "source": [
    "game = Sudoku(\"417950030000000700060007000050009106800600000000003400900005000000430000200701580\")"
   ]
  },
  {
   "cell_type": "code",
   "execution_count": 96,
   "id": "4e646402",
   "metadata": {},
   "outputs": [
    {
     "data": {
      "text/plain": [
       "[['4', '1', '7', '9', '5', '0', '0', '3', '0'],\n",
       " ['0', '0', '0', '0', '0', '0', '7', '0', '0'],\n",
       " ['0', '6', '0', '0', '0', '7', '0', '0', '0'],\n",
       " ['0', '5', '0', '0', '0', '9', '1', '0', '6'],\n",
       " ['8', '0', '0', '6', '0', '0', '0', '0', '0'],\n",
       " ['0', '0', '0', '0', '0', '3', '4', '0', '0'],\n",
       " ['9', '0', '0', '0', '0', '5', '0', '0', '0'],\n",
       " ['0', '0', '0', '4', '3', '0', '0', '0', '0'],\n",
       " ['2', '0', '0', '7', '0', '1', '5', '8', '0']]"
      ]
     },
     "execution_count": 96,
     "metadata": {},
     "output_type": "execute_result"
    }
   ],
   "source": [
    "game.board "
   ]
  },
  {
   "cell_type": "code",
   "execution_count": 97,
   "id": "42182e0c",
   "metadata": {},
   "outputs": [
    {
     "data": {
      "text/plain": [
       "['4', '1', '7', '9', '5', '0', '0', '3', '0']"
      ]
     },
     "execution_count": 97,
     "metadata": {},
     "output_type": "execute_result"
    }
   ],
   "source": [
    "game.get_row(0)       "
   ]
  },
  {
   "cell_type": "code",
   "execution_count": 98,
   "id": "5aba74ec",
   "metadata": {},
   "outputs": [
    {
     "data": {
      "text/plain": [
       "['0', '0', '0', '6', '0', '0', '0', '0', '0']"
      ]
     },
     "execution_count": 98,
     "metadata": {},
     "output_type": "execute_result"
    }
   ],
   "source": [
    "game.get_col(8)"
   ]
  },
  {
   "cell_type": "code",
   "execution_count": 99,
   "id": "dac744eb",
   "metadata": {},
   "outputs": [
    {
     "data": {
      "text/plain": [
       "['0', '0', '5', '4', '3', '0', '7', '0', '1']"
      ]
     },
     "execution_count": 99,
     "metadata": {},
     "output_type": "execute_result"
    }
   ],
   "source": [
    "game.get_sqr(8,1)"
   ]
  },
  {
   "cell_type": "code",
   "execution_count": 100,
   "id": "6271ceaf",
   "metadata": {},
   "outputs": [
    {
     "data": {
      "text/plain": [
       "['9', '5', '0', '0', '0', '0', '0', '0', '7']"
      ]
     },
     "execution_count": 100,
     "metadata": {},
     "output_type": "execute_result"
    }
   ],
   "source": [
    "game.get_sqr(1) "
   ]
  },
  {
   "cell_type": "code",
   "execution_count": 101,
   "id": "d4c47cce",
   "metadata": {},
   "outputs": [
    {
     "data": {
      "text/plain": [
       "['0', '3', '0', '7', '0', '0', '0', '0', '0']"
      ]
     },
     "execution_count": 101,
     "metadata": {},
     "output_type": "execute_result"
    }
   ],
   "source": [
    "game.get_sqr(1, 8) "
   ]
  },
  {
   "cell_type": "markdown",
   "id": "cbd76811",
   "metadata": {},
   "source": [
    "2. The function input is two non-empty linked lists representing two non-negative integers. The digits are stored in reverse order, and each of their nodes contains a single digit. Add the two numbers and return the sum as a linked list, in which the digits are also stored in reversed order. The class ListNode, building block of the linked list, is defined in the Tests tab."
   ]
  },
  {
   "cell_type": "code",
   "execution_count": 1,
   "id": "6cf3024f",
   "metadata": {},
   "outputs": [],
   "source": [
    "class ListNode:\n",
    "    def __init__(self, val=0, next=None):\n",
    "        self.val = [val]\n",
    "        self.next = next\n",
    "\n",
    "    def add_data(self,lst):\n",
    "        self.val +=lst\n",
    "    \n",
    "    def get_data(self):\n",
    "        return self.val"
   ]
  },
  {
   "cell_type": "code",
   "execution_count": 46,
   "id": "12808cb8",
   "metadata": {},
   "outputs": [],
   "source": [
    "class add_two_numbers():\n",
    "    def __init__(self,l1,l2):\n",
    "        self.l1 = l1.get_data()\n",
    "        self.l2 = l2.get_data()\n",
    "        self.add()\n",
    "        \n",
    "    def get_data(self):\n",
    "        return self.sum\n",
    "   \n",
    "    \n",
    "    def add(self):\n",
    "        a = int(''.join([str(x) for x in self.l1]))\n",
    "        b = int(''.join([str(x) for x in self.l2]))\n",
    "        self.sum = [int(x) for x in list(str(a+b))[::-1]]"
   ]
  },
  {
   "cell_type": "code",
   "execution_count": 47,
   "id": "08456552",
   "metadata": {},
   "outputs": [],
   "source": [
    "lt1 = ListNode(2)\n",
    "lt1.add_data([4, 3])\n",
    "lt2 = ListNode(5)\n",
    "lt2.add_data([6, 4])\n"
   ]
  },
  {
   "cell_type": "code",
   "execution_count": 48,
   "id": "8aed51c2",
   "metadata": {},
   "outputs": [
    {
     "data": {
      "text/plain": [
       "[2, 4, 3]"
      ]
     },
     "execution_count": 48,
     "metadata": {},
     "output_type": "execute_result"
    }
   ],
   "source": [
    "lt1.get_data()"
   ]
  },
  {
   "cell_type": "code",
   "execution_count": 49,
   "id": "99b7e270",
   "metadata": {},
   "outputs": [
    {
     "data": {
      "text/plain": [
       "[5, 6, 4]"
      ]
     },
     "execution_count": 49,
     "metadata": {},
     "output_type": "execute_result"
    }
   ],
   "source": [
    "lt2.get_data()"
   ]
  },
  {
   "cell_type": "code",
   "execution_count": 50,
   "id": "888a17d3",
   "metadata": {},
   "outputs": [
    {
     "data": {
      "text/plain": [
       "[7, 0, 8]"
      ]
     },
     "execution_count": 50,
     "metadata": {},
     "output_type": "execute_result"
    }
   ],
   "source": [
    "add_two_numbers(lt1, lt2).get_data() "
   ]
  },
  {
   "cell_type": "code",
   "execution_count": 51,
   "id": "b4333e6d",
   "metadata": {},
   "outputs": [],
   "source": [
    "lt1 = ListNode(0)\n",
    "lt2 = ListNode(0)\n"
   ]
  },
  {
   "cell_type": "code",
   "execution_count": 52,
   "id": "5345b5e3",
   "metadata": {},
   "outputs": [
    {
     "data": {
      "text/plain": [
       "[0]"
      ]
     },
     "execution_count": 52,
     "metadata": {},
     "output_type": "execute_result"
    }
   ],
   "source": [
    "add_two_numbers(lt1, lt2).get_data()"
   ]
  },
  {
   "cell_type": "code",
   "execution_count": 53,
   "id": "c8d104a8",
   "metadata": {},
   "outputs": [],
   "source": [
    "lt1 = ListNode(9)\n",
    "lt1.add_data([9,9,9,9,9,9])\n",
    "lt2 = ListNode(9)\n",
    "lt2.add_data([9,9,9])\n"
   ]
  },
  {
   "cell_type": "code",
   "execution_count": 54,
   "id": "e99a040d",
   "metadata": {},
   "outputs": [
    {
     "data": {
      "text/plain": [
       "[8, 9, 9, 9, 0, 0, 0, 1]"
      ]
     },
     "execution_count": 54,
     "metadata": {},
     "output_type": "execute_result"
    }
   ],
   "source": [
    "add_two_numbers(lt1, lt2).get_data()"
   ]
  }
 ],
 "metadata": {
  "kernelspec": {
   "display_name": "Python 3",
   "language": "python",
   "name": "python3"
  },
  "language_info": {
   "codemirror_mode": {
    "name": "ipython",
    "version": 3
   },
   "file_extension": ".py",
   "mimetype": "text/x-python",
   "name": "python",
   "nbconvert_exporter": "python",
   "pygments_lexer": "ipython3",
   "version": "3.8.5"
  }
 },
 "nbformat": 4,
 "nbformat_minor": 5
}
