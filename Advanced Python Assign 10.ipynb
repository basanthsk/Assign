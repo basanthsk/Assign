{
 "cells": [
  {
   "cell_type": "markdown",
   "id": "21e1f810",
   "metadata": {},
   "source": [
    "1. Create a function that takes the width, height and character and returns a picture frame as a 2D list."
   ]
  },
  {
   "cell_type": "code",
   "execution_count": 27,
   "id": "31c37d8f",
   "metadata": {},
   "outputs": [],
   "source": [
    "def get_frame(w, h, ch):\n",
    "    lst=[]\n",
    "    if w<3:\n",
    "        return \"# Frame's width is not more than 2\"\n",
    "    for i in range(h):\n",
    "        if i==0 or i==(h-1):\n",
    "            lst.append([ch*w])\n",
    "        else:\n",
    "            n= (w-2)//2\n",
    "            lst.append([ch+n*' '+ch])\n",
    "    return lst        "
   ]
  },
  {
   "cell_type": "code",
   "execution_count": 28,
   "id": "087f0836",
   "metadata": {},
   "outputs": [
    {
     "data": {
      "text/plain": [
       "[['####'], ['# #'], ['# #'], ['# #'], ['####']]"
      ]
     },
     "execution_count": 28,
     "metadata": {},
     "output_type": "execute_result"
    }
   ],
   "source": [
    "get_frame(4, 5, \"#\") "
   ]
  },
  {
   "cell_type": "code",
   "execution_count": 20,
   "id": "54e84112",
   "metadata": {},
   "outputs": [
    {
     "data": {
      "text/plain": [
       "\"# Frame's width is not more than 2\""
      ]
     },
     "execution_count": 20,
     "metadata": {},
     "output_type": "execute_result"
    }
   ],
   "source": [
    "get_frame(2, 5, \"0\") "
   ]
  },
  {
   "cell_type": "code",
   "execution_count": 29,
   "id": "b2e45a9a",
   "metadata": {},
   "outputs": [
    {
     "data": {
      "text/plain": [
       "[['**********'], ['*    *'], ['**********']]"
      ]
     },
     "execution_count": 29,
     "metadata": {},
     "output_type": "execute_result"
    }
   ],
   "source": [
    "get_frame(10, 3, \"*\") "
   ]
  },
  {
   "cell_type": "markdown",
   "id": "c3ba9baf",
   "metadata": {},
   "source": [
    "2. Write three functions:\n",
    "\n",
    "  1. boolean_and\n",
    "  2. boolean_or\n",
    "  3. boolean_xor\n",
    "These functions should evaluate a list of True and False values, starting from the leftmost element and evaluating pairwise.\n"
   ]
  },
  {
   "cell_type": "code",
   "execution_count": 4,
   "id": "6e743f54",
   "metadata": {},
   "outputs": [],
   "source": [
    "def boolean_and(lst):\n",
    "    eval = lst[0]\n",
    "    for i in range(1,len(lst)):\n",
    "        eval =eval and lst[i]\n",
    "    return eval    "
   ]
  },
  {
   "cell_type": "code",
   "execution_count": 5,
   "id": "cc6a085a",
   "metadata": {},
   "outputs": [
    {
     "data": {
      "text/plain": [
       "False"
      ]
     },
     "execution_count": 5,
     "metadata": {},
     "output_type": "execute_result"
    }
   ],
   "source": [
    "boolean_and([True, True, False, True])"
   ]
  },
  {
   "cell_type": "code",
   "execution_count": 7,
   "id": "bb8c36f1",
   "metadata": {},
   "outputs": [],
   "source": [
    "def boolean_or(lst):\n",
    "    eval = lst[0]\n",
    "    for i in range(1,len(lst)):\n",
    "        eval =eval or lst[i]\n",
    "    return eval"
   ]
  },
  {
   "cell_type": "code",
   "execution_count": 9,
   "id": "0e1fa34d",
   "metadata": {},
   "outputs": [],
   "source": [
    "def boolean_xor(lst):\n",
    "    eval = lst[0]\n",
    "    for i in range(1,len(lst)):\n",
    "        eval =eval^lst[i]\n",
    "    return eval"
   ]
  },
  {
   "cell_type": "code",
   "execution_count": 10,
   "id": "d224fb48",
   "metadata": {},
   "outputs": [
    {
     "data": {
      "text/plain": [
       "True"
      ]
     },
     "execution_count": 10,
     "metadata": {},
     "output_type": "execute_result"
    }
   ],
   "source": [
    "boolean_or([True, True, False, False]) "
   ]
  },
  {
   "cell_type": "code",
   "execution_count": 11,
   "id": "06a7edca",
   "metadata": {},
   "outputs": [
    {
     "data": {
      "text/plain": [
       "False"
      ]
     },
     "execution_count": 11,
     "metadata": {},
     "output_type": "execute_result"
    }
   ],
   "source": [
    "boolean_xor([True, True, False, False]) "
   ]
  },
  {
   "cell_type": "markdown",
   "id": "dfa90a30",
   "metadata": {},
   "source": [
    "3. Create a function that creates a box based on dimension n."
   ]
  },
  {
   "cell_type": "code",
   "execution_count": 17,
   "id": "e1047c0c",
   "metadata": {},
   "outputs": [],
   "source": [
    "def make_box(dim):\n",
    "    lst=[]\n",
    "    ch='#'\n",
    "    for i in range(dim):\n",
    "        if i==0 or i==(dim-1):\n",
    "            lst.append(ch*dim)\n",
    "        else:\n",
    "            n= (dim-2)//2\n",
    "            lst.append(ch+n*' '+ch)\n",
    "    return lst"
   ]
  },
  {
   "cell_type": "code",
   "execution_count": 18,
   "id": "149ec256",
   "metadata": {},
   "outputs": [
    {
     "data": {
      "text/plain": [
       "['#####', '# #', '# #', '# #', '#####']"
      ]
     },
     "execution_count": 18,
     "metadata": {},
     "output_type": "execute_result"
    }
   ],
   "source": [
    "make_box(5) "
   ]
  },
  {
   "cell_type": "code",
   "execution_count": 19,
   "id": "2fdfba5c",
   "metadata": {},
   "outputs": [
    {
     "data": {
      "text/plain": [
       "['###', '##', '###']"
      ]
     },
     "execution_count": 19,
     "metadata": {},
     "output_type": "execute_result"
    }
   ],
   "source": [
    "make_box(3) "
   ]
  },
  {
   "cell_type": "code",
   "execution_count": 20,
   "id": "ce1ffc26",
   "metadata": {},
   "outputs": [
    {
     "data": {
      "text/plain": [
       "['##', '##']"
      ]
     },
     "execution_count": 20,
     "metadata": {},
     "output_type": "execute_result"
    }
   ],
   "source": [
    "make_box(2) "
   ]
  },
  {
   "cell_type": "code",
   "execution_count": 21,
   "id": "d6e5da1d",
   "metadata": {},
   "outputs": [
    {
     "data": {
      "text/plain": [
       "['#']"
      ]
     },
     "execution_count": 21,
     "metadata": {},
     "output_type": "execute_result"
    }
   ],
   "source": [
    "make_box(1) "
   ]
  },
  {
   "cell_type": "markdown",
   "id": "b2b10f92",
   "metadata": {},
   "source": [
    "4. Given a common phrase, return False if any individual word in the phrase contains duplicate letters. Return True otherwise."
   ]
  },
  {
   "cell_type": "code",
   "execution_count": 175,
   "id": "c41cc5e4",
   "metadata": {},
   "outputs": [],
   "source": [
    "def no_duplicate_letters(sentence):\n",
    "    word_lst = sentence.split()\n",
    "    for word in word_lst:\n",
    "        for ch in word:\n",
    "            if word.count(ch) >1:\n",
    "                return False\n",
    "                break\n",
    "    else:\n",
    "        return True"
   ]
  },
  {
   "cell_type": "code",
   "execution_count": 176,
   "id": "287731ec",
   "metadata": {},
   "outputs": [
    {
     "data": {
      "text/plain": [
       "True"
      ]
     },
     "execution_count": 176,
     "metadata": {},
     "output_type": "execute_result"
    }
   ],
   "source": [
    "no_duplicate_letters(\"Fortune favours the bold.\")"
   ]
  },
  {
   "cell_type": "code",
   "execution_count": 177,
   "id": "b749f743",
   "metadata": {},
   "outputs": [
    {
     "data": {
      "text/plain": [
       "True"
      ]
     },
     "execution_count": 177,
     "metadata": {},
     "output_type": "execute_result"
    }
   ],
   "source": [
    "no_duplicate_letters(\"You can lead a horse to water, but you can't make him drink.\")"
   ]
  },
  {
   "cell_type": "code",
   "execution_count": 178,
   "id": "f391760a",
   "metadata": {},
   "outputs": [
    {
     "data": {
      "text/plain": [
       "False"
      ]
     },
     "execution_count": 178,
     "metadata": {},
     "output_type": "execute_result"
    }
   ],
   "source": [
    "no_duplicate_letters(\"Look before you leap.\") "
   ]
  },
  {
   "cell_type": "code",
   "execution_count": 179,
   "id": "7f1d0fab",
   "metadata": {},
   "outputs": [
    {
     "data": {
      "text/plain": [
       "False"
      ]
     },
     "execution_count": 179,
     "metadata": {},
     "output_type": "execute_result"
    }
   ],
   "source": [
    "no_duplicate_letters(\"An apple a day keeps the doctor away.\") "
   ]
  },
  {
   "cell_type": "markdown",
   "id": "9e587ebf",
   "metadata": {},
   "source": [
    "5. Write a regular expression that will match the states that voted yes to President Trump's impeachment. You must use RegEx positive lookahead."
   ]
  },
  {
   "cell_type": "code",
   "execution_count": 123,
   "id": "056d2530",
   "metadata": {},
   "outputs": [],
   "source": [
    "import re \n",
    "txt = \"Texas = no, California = yes, Florida = yes, Michigan = no\"\n",
    "# pattern = \"/? <= yes/\""
   ]
  },
  {
   "cell_type": "code",
   "execution_count": 127,
   "id": "a7ffc9d9",
   "metadata": {},
   "outputs": [
    {
     "data": {
      "text/plain": [
       "['California', 'Florida']"
      ]
     },
     "execution_count": 127,
     "metadata": {},
     "output_type": "execute_result"
    }
   ],
   "source": [
    "re.findall('\\w+(?=\\s*=\\s*yes)', txt) "
   ]
  },
  {
   "cell_type": "code",
   "execution_count": null,
   "id": "23486996",
   "metadata": {},
   "outputs": [],
   "source": []
  },
  {
   "cell_type": "code",
   "execution_count": null,
   "id": "640409c9",
   "metadata": {},
   "outputs": [],
   "source": []
  }
 ],
 "metadata": {
  "kernelspec": {
   "display_name": "Python 3",
   "language": "python",
   "name": "python3"
  },
  "language_info": {
   "codemirror_mode": {
    "name": "ipython",
    "version": 3
   },
   "file_extension": ".py",
   "mimetype": "text/x-python",
   "name": "python",
   "nbconvert_exporter": "python",
   "pygments_lexer": "ipython3",
   "version": "3.8.5"
  }
 },
 "nbformat": 4,
 "nbformat_minor": 5
}
