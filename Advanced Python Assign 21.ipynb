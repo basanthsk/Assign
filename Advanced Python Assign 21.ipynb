{
 "cells": [
  {
   "cell_type": "markdown",
   "id": "985c75a0",
   "metadata": {},
   "source": [
    "1. Given a sentence, return the number of words which have the same first and last letter."
   ]
  },
  {
   "cell_type": "code",
   "execution_count": 90,
   "id": "df1c0bb2",
   "metadata": {},
   "outputs": [],
   "source": [
    "import re\n",
    "def count_same_ends(sentence):\n",
    "    s = sentence.lower().split()\n",
    "    count = 0\n",
    "    for word in s:\n",
    "        if len(word) >1:\n",
    "            word = re.sub(r\"[^a-z]\",\"\",word)\n",
    "            if word[0] == word[-1]:\n",
    "                count+=1\n",
    "    return count        "
   ]
  },
  {
   "cell_type": "code",
   "execution_count": 91,
   "id": "8a758c23",
   "metadata": {},
   "outputs": [
    {
     "data": {
      "text/plain": [
       "1"
      ]
     },
     "execution_count": 91,
     "metadata": {},
     "output_type": "execute_result"
    }
   ],
   "source": [
    "count_same_ends(\"Pop! goes the balloon\") "
   ]
  },
  {
   "cell_type": "code",
   "execution_count": 92,
   "id": "97b35c62",
   "metadata": {},
   "outputs": [
    {
     "data": {
      "text/plain": [
       "0"
      ]
     },
     "execution_count": 92,
     "metadata": {},
     "output_type": "execute_result"
    }
   ],
   "source": [
    "count_same_ends(\"And the crowd goes wild!\")"
   ]
  },
  {
   "cell_type": "code",
   "execution_count": 93,
   "id": "45c7bfdd",
   "metadata": {},
   "outputs": [
    {
     "data": {
      "text/plain": [
       "1"
      ]
     },
     "execution_count": 93,
     "metadata": {},
     "output_type": "execute_result"
    }
   ],
   "source": [
    "count_same_ends(\"No I am not in a gang.\") "
   ]
  },
  {
   "cell_type": "markdown",
   "id": "7f9c2e82",
   "metadata": {},
   "source": [
    "2. The Atbash cipher is an encryption method in which each letter of a word is replaced with its \"mirror\" letter in the alphabet: A <=> Z; B <=> Y; C <=> X; etc.\n",
    "\n",
    "Create a function that takes a string and applies the Atbash cipher to it.\n"
   ]
  },
  {
   "cell_type": "code",
   "execution_count": 152,
   "id": "68ed2079",
   "metadata": {},
   "outputs": [],
   "source": [
    "import re \n",
    "def atbash(string):\n",
    "    s = string.split()\n",
    "    bash = []\n",
    "    \n",
    "    for word in s:\n",
    "        deciper=''\n",
    "        for c in list(word):\n",
    "            if c.isalpha():\n",
    "                if 96 < ord(c) <123:\n",
    "                    n = ord(c)+25\n",
    "                    m =(122-n%122)\n",
    "                elif 64<ord(c)<91:\n",
    "                    n = ord(c)+25\n",
    "                    m =(90-n%90)\n",
    "                deciper+=chr(m)\n",
    "            else:\n",
    "                deciper+=c\n",
    "        bash.append(deciper)    \n",
    "    return ' '.join(bash)       "
   ]
  },
  {
   "cell_type": "code",
   "execution_count": 153,
   "id": "efbf2bf3",
   "metadata": {},
   "outputs": [
    {
     "data": {
      "text/plain": [
       "'zkkov'"
      ]
     },
     "execution_count": 153,
     "metadata": {},
     "output_type": "execute_result"
    }
   ],
   "source": [
    "atbash(\"apple\")"
   ]
  },
  {
   "cell_type": "code",
   "execution_count": 154,
   "id": "4d4eb4bd",
   "metadata": {},
   "outputs": [
    {
     "data": {
      "text/plain": [
       "'Svool dliow!'"
      ]
     },
     "execution_count": 154,
     "metadata": {},
     "output_type": "execute_result"
    }
   ],
   "source": [
    "atbash(\"Hello world!\") "
   ]
  },
  {
   "cell_type": "code",
   "execution_count": 155,
   "id": "411a8549",
   "metadata": {},
   "outputs": [
    {
     "data": {
      "text/plain": [
       "'Xsirhgnzh rh gsv 25gs lu Wvxvnyvi'"
      ]
     },
     "execution_count": 155,
     "metadata": {},
     "output_type": "execute_result"
    }
   ],
   "source": [
    "atbash(\"Christmas is the 25th of December\") "
   ]
  },
  {
   "cell_type": "markdown",
   "id": "eea76fbb",
   "metadata": {},
   "source": [
    "3. Create a class Employee that will take a full name as argument, as well as a set of none, one or more keywords. Each instance should have a name and a lastname attributes plus one more attribute for each of the keywords, if any.\n",
    "\n"
   ]
  },
  {
   "cell_type": "code",
   "execution_count": 174,
   "id": "c0c14d52",
   "metadata": {},
   "outputs": [],
   "source": [
    "class Employee:\n",
    "    def __init__(self,name,**kwargs):\n",
    "        self.name = name.split()[0]\n",
    "        self.lastname = name.split()[1]\n",
    "        self.salary = kwargs.get('salary',0)\n",
    "        self.height = kwargs.get('height',0)\n",
    "        self.nationality = kwargs.get('nationality','')\n",
    "        "
   ]
  },
  {
   "cell_type": "code",
   "execution_count": 175,
   "id": "68216314",
   "metadata": {},
   "outputs": [],
   "source": [
    "john = Employee(\"John Doe\")\n",
    "mary = Employee(\"Mary Major\", salary=120000)\n",
    "richard = Employee(\"Richard Roe\", salary=110000, height=178)\n",
    "giancarlo = Employee(\"Giancarlo Rossi\", salary=115000, height=182, nationality=\"Italian\")\n"
   ]
  },
  {
   "cell_type": "code",
   "execution_count": 176,
   "id": "3a1b8bf9",
   "metadata": {},
   "outputs": [
    {
     "data": {
      "text/plain": [
       "'John'"
      ]
     },
     "execution_count": 176,
     "metadata": {},
     "output_type": "execute_result"
    }
   ],
   "source": [
    "john.name "
   ]
  },
  {
   "cell_type": "code",
   "execution_count": 177,
   "id": "29446cf3",
   "metadata": {},
   "outputs": [
    {
     "data": {
      "text/plain": [
       "'Major'"
      ]
     },
     "execution_count": 177,
     "metadata": {},
     "output_type": "execute_result"
    }
   ],
   "source": [
    "mary.lastname"
   ]
  },
  {
   "cell_type": "code",
   "execution_count": 178,
   "id": "309eaa9d",
   "metadata": {},
   "outputs": [
    {
     "data": {
      "text/plain": [
       "178"
      ]
     },
     "execution_count": 178,
     "metadata": {},
     "output_type": "execute_result"
    }
   ],
   "source": [
    "richard.height "
   ]
  },
  {
   "cell_type": "code",
   "execution_count": 179,
   "id": "fe33ea05",
   "metadata": {},
   "outputs": [
    {
     "data": {
      "text/plain": [
       "'Italian'"
      ]
     },
     "execution_count": 179,
     "metadata": {},
     "output_type": "execute_result"
    }
   ],
   "source": [
    "giancarlo.nationality "
   ]
  },
  {
   "cell_type": "markdown",
   "id": "a79e5fc8",
   "metadata": {},
   "source": [
    "4. Create a function that determines whether each seat can \"see\" the front-stage. A number can \"see\" the front-stage if it is strictly greater than the number before it.\n",
    "\n",
    "Everyone can see the front-stage in the example below:\n"
   ]
  },
  {
   "cell_type": "code",
   "execution_count": 203,
   "id": "82afd319",
   "metadata": {},
   "outputs": [],
   "source": [
    "def can_see_stage(lst):\n",
    "    n = len(lst)\n",
    "    m = len(lst[0])\n",
    "    for i in range(n):\n",
    "        for j in range(m):\n",
    "            if j == 0:\n",
    "                small = lst[j][i] \n",
    "            else:\n",
    "                if small<lst[j][i]:\n",
    "                    small = lst[j][i]\n",
    "                else:\n",
    "                    return False\n",
    "    else:\n",
    "        return True"
   ]
  },
  {
   "cell_type": "code",
   "execution_count": 204,
   "id": "c01effa3",
   "metadata": {},
   "outputs": [
    {
     "data": {
      "text/plain": [
       "False"
      ]
     },
     "execution_count": 204,
     "metadata": {},
     "output_type": "execute_result"
    }
   ],
   "source": [
    "can_see_stage([\n",
    "  [2, 0, 0], \n",
    "  [1, 1, 1], \n",
    "  [2, 2, 2]\n",
    "])\n"
   ]
  },
  {
   "cell_type": "code",
   "execution_count": 205,
   "id": "08c7153f",
   "metadata": {},
   "outputs": [
    {
     "data": {
      "text/plain": [
       "True"
      ]
     },
     "execution_count": 205,
     "metadata": {},
     "output_type": "execute_result"
    }
   ],
   "source": [
    "can_see_stage([\n",
    "  [0, 0, 0],\n",
    "  [1, 1, 1],\n",
    "  [2, 2, 2]\n",
    "]) \n"
   ]
  },
  {
   "cell_type": "code",
   "execution_count": 206,
   "id": "fd15c919",
   "metadata": {},
   "outputs": [
    {
     "data": {
      "text/plain": [
       "False"
      ]
     },
     "execution_count": 206,
     "metadata": {},
     "output_type": "execute_result"
    }
   ],
   "source": [
    "  can_see_stage([\n",
    "  [1, 0, 0],\n",
    "  [1, 1, 1],\n",
    "  [2, 2, 2]\n",
    "]) \n",
    "\n"
   ]
  },
  {
   "cell_type": "code",
   "execution_count": 207,
   "id": "ec4767d8",
   "metadata": {},
   "outputs": [
    {
     "data": {
      "text/plain": [
       "True"
      ]
     },
     "execution_count": 207,
     "metadata": {},
     "output_type": "execute_result"
    }
   ],
   "source": [
    "can_see_stage([\n",
    "  [1, 2, 3],\n",
    "  [4, 5, 6],\n",
    "  [7, 8, 9]\n",
    "]) \n"
   ]
  },
  {
   "cell_type": "markdown",
   "id": "db3d5521",
   "metadata": {},
   "source": [
    "5. Create a Pizza class with the attributes order_number and ingredients (which is given as a list). Only the ingredients will be given as input.\n",
    "\n",
    "You should also make it so that its possible to choose a ready made pizza flavour rather than typing out the ingredients manually! As well as creating this Pizza class, hard-code the following pizza flavours.\n"
   ]
  },
  {
   "cell_type": "code",
   "execution_count": 404,
   "id": "847d5f4f",
   "metadata": {},
   "outputs": [],
   "source": [
    "class Pizza:\n",
    "    order = 0\n",
    "    def __init__(self,ingredients):\n",
    "        self.ingredients = ingredients\n",
    "        self.__class__.order +=1\n",
    "        self.order_number = self.__class__.order\n",
    "    \n",
    "    @classmethod\n",
    "    def hawaiian(cls):\n",
    "        return cls(['ham', 'pineapple'])\n",
    "        \n",
    "    @classmethod\n",
    "    def meat_festival(cls):\n",
    "        return cls(['beef', 'meatball', 'bacon'])\n",
    "    \n",
    "    @classmethod\n",
    "    def garden_feast(cls):\n",
    "        return cls(['spinach', 'olives', 'mushroom'])\n",
    "  "
   ]
  },
  {
   "cell_type": "code",
   "execution_count": 405,
   "id": "e3c0e050",
   "metadata": {},
   "outputs": [],
   "source": [
    "p1 = Pizza([\"bacon\", \"parmesan\", \"ham\"])"
   ]
  },
  {
   "cell_type": "code",
   "execution_count": 406,
   "id": "90d19983",
   "metadata": {},
   "outputs": [],
   "source": [
    "p2 = Pizza.garden_feast()"
   ]
  },
  {
   "cell_type": "code",
   "execution_count": 407,
   "id": "69604d78",
   "metadata": {},
   "outputs": [
    {
     "data": {
      "text/plain": [
       "['spinach', 'olives', 'mushroom']"
      ]
     },
     "execution_count": 407,
     "metadata": {},
     "output_type": "execute_result"
    }
   ],
   "source": [
    "p2.ingredients "
   ]
  },
  {
   "cell_type": "code",
   "execution_count": 408,
   "id": "ef7a967d",
   "metadata": {},
   "outputs": [
    {
     "data": {
      "text/plain": [
       "1"
      ]
     },
     "execution_count": 408,
     "metadata": {},
     "output_type": "execute_result"
    }
   ],
   "source": [
    "p1.order_number "
   ]
  },
  {
   "cell_type": "code",
   "execution_count": 409,
   "id": "a8888642",
   "metadata": {},
   "outputs": [
    {
     "data": {
      "text/plain": [
       "2"
      ]
     },
     "execution_count": 409,
     "metadata": {},
     "output_type": "execute_result"
    }
   ],
   "source": [
    "p2.order_number "
   ]
  },
  {
   "cell_type": "code",
   "execution_count": 410,
   "id": "9cfb2607",
   "metadata": {},
   "outputs": [],
   "source": [
    "p3 = Pizza.meat_festival()"
   ]
  },
  {
   "cell_type": "code",
   "execution_count": 411,
   "id": "891d50ac",
   "metadata": {},
   "outputs": [
    {
     "data": {
      "text/plain": [
       "3"
      ]
     },
     "execution_count": 411,
     "metadata": {},
     "output_type": "execute_result"
    }
   ],
   "source": [
    "p3.order_number"
   ]
  },
  {
   "cell_type": "code",
   "execution_count": 412,
   "id": "89718c24",
   "metadata": {},
   "outputs": [
    {
     "data": {
      "text/plain": [
       "1"
      ]
     },
     "execution_count": 412,
     "metadata": {},
     "output_type": "execute_result"
    }
   ],
   "source": [
    "p1.order_number "
   ]
  },
  {
   "cell_type": "code",
   "execution_count": null,
   "id": "c682238b",
   "metadata": {},
   "outputs": [],
   "source": []
  }
 ],
 "metadata": {
  "kernelspec": {
   "display_name": "Python 3",
   "language": "python",
   "name": "python3"
  },
  "language_info": {
   "codemirror_mode": {
    "name": "ipython",
    "version": 3
   },
   "file_extension": ".py",
   "mimetype": "text/x-python",
   "name": "python",
   "nbconvert_exporter": "python",
   "pygments_lexer": "ipython3",
   "version": "3.8.5"
  }
 },
 "nbformat": 4,
 "nbformat_minor": 5
}
