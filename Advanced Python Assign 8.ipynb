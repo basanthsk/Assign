{
 "cells": [
  {
   "cell_type": "markdown",
   "id": "5c779f05",
   "metadata": {},
   "source": [
    "1. Given a sentence as txt, return True if any two adjacent words have this property: One word ends with a vowel, while the word immediately after begins with a vowel (a e i o u)."
   ]
  },
  {
   "cell_type": "code",
   "execution_count": 46,
   "id": "60f44c56",
   "metadata": {},
   "outputs": [],
   "source": [
    "def vowel_links(word):\n",
    "    word_lower = word.lower().replace(\" \",\"\")\n",
    "    vowels = \"aeiou\"\n",
    "    n = len(word_lower)\n",
    "    for i in range(n-1):\n",
    "        if word_lower[i]  in vowels and word_lower[i+1] in vowels:\n",
    "            return True\n",
    "    else:\n",
    "        return False"
   ]
  },
  {
   "cell_type": "code",
   "execution_count": 47,
   "id": "da6e18e2",
   "metadata": {},
   "outputs": [
    {
     "data": {
      "text/plain": [
       "True"
      ]
     },
     "execution_count": 47,
     "metadata": {},
     "output_type": "execute_result"
    }
   ],
   "source": [
    "vowel_links(\"a very large appliance\") "
   ]
  },
  {
   "cell_type": "code",
   "execution_count": 48,
   "id": "8c31de12",
   "metadata": {},
   "outputs": [
    {
     "data": {
      "text/plain": [
       "True"
      ]
     },
     "execution_count": 48,
     "metadata": {},
     "output_type": "execute_result"
    }
   ],
   "source": [
    "vowel_links(\"go to edabit\")"
   ]
  },
  {
   "cell_type": "code",
   "execution_count": 49,
   "id": "eda08a91",
   "metadata": {},
   "outputs": [
    {
     "data": {
      "text/plain": [
       "False"
      ]
     },
     "execution_count": 49,
     "metadata": {},
     "output_type": "execute_result"
    }
   ],
   "source": [
    "vowel_links(\"an open fire\") "
   ]
  },
  {
   "cell_type": "code",
   "execution_count": 50,
   "id": "6ddad7c6",
   "metadata": {},
   "outputs": [
    {
     "data": {
      "text/plain": [
       "True"
      ]
     },
     "execution_count": 50,
     "metadata": {},
     "output_type": "execute_result"
    }
   ],
   "source": [
    "vowel_links(\"a sudden applause\") "
   ]
  },
  {
   "cell_type": "markdown",
   "id": "bd357b2d",
   "metadata": {},
   "source": [
    "2. You are given three inputs: a string, one letter, and a second letter.\n",
    "\n",
    "Write a function that returns True if every instance of the first letter occurs before every instance of the second letter.\n"
   ]
  },
  {
   "cell_type": "code",
   "execution_count": 84,
   "id": "48b4cb01",
   "metadata": {},
   "outputs": [],
   "source": [
    "def first_before_second(word,ch1,ch2):\n",
    "    count = 0\n",
    "    idx = 0\n",
    "    flag =False\n",
    "    while count < word.count(ch1):\n",
    "        next_idx = word.find(ch1,idx)\n",
    "        idx=next_idx+1\n",
    "        if idx< word.find(ch2):\n",
    "            flag =True\n",
    "        else:\n",
    "            flag =False    \n",
    "        count+=1\n",
    "    return flag   "
   ]
  },
  {
   "cell_type": "code",
   "execution_count": 85,
   "id": "37b95598",
   "metadata": {},
   "outputs": [
    {
     "data": {
      "text/plain": [
       "True"
      ]
     },
     "execution_count": 85,
     "metadata": {},
     "output_type": "execute_result"
    }
   ],
   "source": [
    "first_before_second(\"a rabbit jumps joyfully\", \"a\", \"j\") "
   ]
  },
  {
   "cell_type": "code",
   "execution_count": 86,
   "id": "50abcfb3",
   "metadata": {},
   "outputs": [
    {
     "data": {
      "text/plain": [
       "False"
      ]
     },
     "execution_count": 86,
     "metadata": {},
     "output_type": "execute_result"
    }
   ],
   "source": [
    "first_before_second(\"happy birthday\", \"a\", \"y\") "
   ]
  },
  {
   "cell_type": "code",
   "execution_count": 87,
   "id": "b8d5f0e3",
   "metadata": {},
   "outputs": [
    {
     "data": {
      "text/plain": [
       "True"
      ]
     },
     "execution_count": 87,
     "metadata": {},
     "output_type": "execute_result"
    }
   ],
   "source": [
    "first_before_second(\"knaves knew about waterfalls\", \"k\", \"w\") "
   ]
  },
  {
   "cell_type": "code",
   "execution_count": 88,
   "id": "a4f09735",
   "metadata": {},
   "outputs": [
    {
     "data": {
      "text/plain": [
       "False"
      ]
     },
     "execution_count": 88,
     "metadata": {},
     "output_type": "execute_result"
    }
   ],
   "source": [
    "first_before_second(\"precarious kangaroos\", \"k\", \"a\") "
   ]
  },
  {
   "cell_type": "markdown",
   "id": "dce7c8d0",
   "metadata": {},
   "source": [
    "3. Create a function that returns the characters from a list or string r on odd or even positions, depending on the specifier s. The specifier will be \"odd\" for items on odd positions (1, 3, 5, ...) and \"even\" for items on even positions (2, 4, 6, ...)."
   ]
  },
  {
   "cell_type": "code",
   "execution_count": 21,
   "id": "b6d4c1b2",
   "metadata": {},
   "outputs": [],
   "source": [
    "def char_at_pos(lst, pos):\n",
    "    pos_lst=[]\n",
    "    n= len(lst)\n",
    "    if pos == 'even':\n",
    "        pos_lst = [lst[i] for i in range(1,n,2)]\n",
    "    elif pos == 'odd':\n",
    "        pos_lst = [lst[i] for i in range(0,n,2)]\n",
    "   \n",
    "    if type(lst) == str:\n",
    "        return ''.join(pos_lst)\n",
    "    else:\n",
    "        return pos_lst        "
   ]
  },
  {
   "cell_type": "code",
   "execution_count": 22,
   "id": "f9cb2a85",
   "metadata": {},
   "outputs": [
    {
     "data": {
      "text/plain": [
       "[4, 8]"
      ]
     },
     "execution_count": 22,
     "metadata": {},
     "output_type": "execute_result"
    }
   ],
   "source": [
    "char_at_pos([2, 4, 6, 8, 10], \"even\") "
   ]
  },
  {
   "cell_type": "code",
   "execution_count": 23,
   "id": "ddcf43d2",
   "metadata": {},
   "outputs": [
    {
     "data": {
      "text/plain": [
       "'EAI'"
      ]
     },
     "execution_count": 23,
     "metadata": {},
     "output_type": "execute_result"
    }
   ],
   "source": [
    "char_at_pos(\"EDABIT\", \"odd\") "
   ]
  },
  {
   "cell_type": "code",
   "execution_count": 24,
   "id": "c1c2012f",
   "metadata": {},
   "outputs": [
    {
     "data": {
      "text/plain": [
       "['A', 'B', 'T', 'A', 'I', 'Y']"
      ]
     },
     "execution_count": 24,
     "metadata": {},
     "output_type": "execute_result"
    }
   ],
   "source": [
    "char_at_pos([\"A\", \"R\", \"B\", \"I\", \"T\", \"R\", \"A\", \"R\", \"I\", \"L\", \"Y\"], \"odd\") "
   ]
  },
  {
   "cell_type": "markdown",
   "id": "b3aec622",
   "metadata": {},
   "source": [
    "4. Write a function that returns the greatest common divisor of all list elements. If the greatest common divisor is 1, return 1."
   ]
  },
  {
   "cell_type": "code",
   "execution_count": 25,
   "id": "919e2144",
   "metadata": {},
   "outputs": [],
   "source": [
    "def GCD(lst):\n",
    "    sort_lst = sorted(lst)\n",
    "    if sort_lst[0]==1:\n",
    "        return 1\n",
    "    gcd_num = sort_lst[0]\n",
    "    for x in sort_lst[1:]:\n",
    "        if gcd_num < x:\n",
    "            temp = gcd_num\n",
    "            gcd_num = x\n",
    "            x = temp\n",
    "        while x != 0:\n",
    "            temp = x\n",
    "            x = gcd_num % x\n",
    "            gcd_num = temp\n",
    "    return gcd_num \n",
    "                   \n"
   ]
  },
  {
   "cell_type": "code",
   "execution_count": 26,
   "id": "6892634f",
   "metadata": {},
   "outputs": [
    {
     "data": {
      "text/plain": [
       "10"
      ]
     },
     "execution_count": 26,
     "metadata": {},
     "output_type": "execute_result"
    }
   ],
   "source": [
    "GCD([10, 20, 40]) "
   ]
  },
  {
   "cell_type": "code",
   "execution_count": 27,
   "id": "2fd24219",
   "metadata": {},
   "outputs": [
    {
     "data": {
      "text/plain": [
       "64"
      ]
     },
     "execution_count": 27,
     "metadata": {},
     "output_type": "execute_result"
    }
   ],
   "source": [
    "GCD([1024, 192, 2048, 512]) "
   ]
  },
  {
   "cell_type": "code",
   "execution_count": 29,
   "id": "03285557",
   "metadata": {},
   "outputs": [
    {
     "data": {
      "text/plain": [
       "1"
      ]
     },
     "execution_count": 29,
     "metadata": {},
     "output_type": "execute_result"
    }
   ],
   "source": [
    "GCD([1, 2, 3, 100])"
   ]
  },
  {
   "cell_type": "markdown",
   "id": "9c8470f5",
   "metadata": {},
   "source": [
    "5. A number/string is a palindrome if the digits/characters are the same when read both forward and backward. Examples include \"racecar\" and 12321. Given a positive number n, check if n or the binary representation of n is palindromic. Return the following:"
   ]
  },
  {
   "cell_type": "code",
   "execution_count": 66,
   "id": "b8c5c8b3",
   "metadata": {},
   "outputs": [],
   "source": [
    "def palindrome_type(num):\n",
    "    bin_num = f'{num:b}'\n",
    "    dec_pali = False \n",
    "    bin_pali = False\n",
    "    if str(num)==str(num)[::-1]:\n",
    "        dec_pali = True\n",
    "    if bin_num == bin_num[::-1]:\n",
    "        bin_pali = True\n",
    "    if dec_pali and bin_pali:\n",
    "        return \"Decimal and binary.\"\n",
    "    elif dec_pali:\n",
    "        return \"Decimal only\"\n",
    "    elif bin_pali:\n",
    "        return \"Binary only\"\n",
    "    else:\n",
    "        return \"Neither!\"\n",
    "    "
   ]
  },
  {
   "cell_type": "code",
   "execution_count": 59,
   "id": "4c05975d",
   "metadata": {},
   "outputs": [
    {
     "data": {
      "text/plain": [
       "'Decimal only'"
      ]
     },
     "execution_count": 59,
     "metadata": {},
     "output_type": "execute_result"
    }
   ],
   "source": [
    "palindrome_type(1306031) "
   ]
  },
  {
   "cell_type": "code",
   "execution_count": 60,
   "id": "177dc5b7",
   "metadata": {},
   "outputs": [
    {
     "data": {
      "text/plain": [
       "'Binary only'"
      ]
     },
     "execution_count": 60,
     "metadata": {},
     "output_type": "execute_result"
    }
   ],
   "source": [
    "palindrome_type(427787) "
   ]
  },
  {
   "cell_type": "code",
   "execution_count": 61,
   "id": "77ea23c2",
   "metadata": {},
   "outputs": [
    {
     "data": {
      "text/plain": [
       "'Decimal and binary.'"
      ]
     },
     "execution_count": 61,
     "metadata": {},
     "output_type": "execute_result"
    }
   ],
   "source": [
    "palindrome_type(313) "
   ]
  },
  {
   "cell_type": "code",
   "execution_count": 67,
   "id": "98d587b9",
   "metadata": {},
   "outputs": [
    {
     "data": {
      "text/plain": [
       "'Neither!'"
      ]
     },
     "execution_count": 67,
     "metadata": {},
     "output_type": "execute_result"
    }
   ],
   "source": [
    "palindrome_type(934)"
   ]
  }
 ],
 "metadata": {
  "kernelspec": {
   "display_name": "Python 3",
   "language": "python",
   "name": "python3"
  },
  "language_info": {
   "codemirror_mode": {
    "name": "ipython",
    "version": 3
   },
   "file_extension": ".py",
   "mimetype": "text/x-python",
   "name": "python",
   "nbconvert_exporter": "python",
   "pygments_lexer": "ipython3",
   "version": "3.8.5"
  }
 },
 "nbformat": 4,
 "nbformat_minor": 5
}
