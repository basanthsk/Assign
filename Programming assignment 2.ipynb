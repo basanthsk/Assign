{
 "cells": [
  {
   "cell_type": "markdown",
   "id": "809a7f12",
   "metadata": {},
   "source": [
    "1.\tWrite a Python program to convert kilometers to miles?\n"
   ]
  },
  {
   "cell_type": "code",
   "execution_count": 1,
   "id": "ae3c85dd",
   "metadata": {},
   "outputs": [
    {
     "name": "stdout",
     "output_type": "stream",
     "text": [
      "Enter the value in kilometers4\n",
      "Value in miles\n",
      "2.485484\n"
     ]
    }
   ],
   "source": [
    "km = float(input(\"Enter the value in kilometers: \"))\n",
    "miles = 0.621371*km\n",
    "print(\"Value in miles\")\n",
    "print(miles)"
   ]
  },
  {
   "cell_type": "markdown",
   "id": "ee2370cb",
   "metadata": {},
   "source": [
    "2.\tWrite a Python program to convert Celsius to Fahrenheit?\n"
   ]
  },
  {
   "cell_type": "code",
   "execution_count": 2,
   "id": "d58b0837",
   "metadata": {},
   "outputs": [
    {
     "name": "stdout",
     "output_type": "stream",
     "text": [
      "Enter the value in Celsius56\n",
      "Temparature in Fahrenheit\n",
      "132.8 F\n"
     ]
    }
   ],
   "source": [
    "c=float(input(\"Enter the value in Celsius: \"))\n",
    "f=(c*9/5)+32\n",
    "print(\"Temparature in Fahrenheit\")\n",
    "print(f'{f} F')"
   ]
  },
  {
   "cell_type": "markdown",
   "id": "ee09aab5",
   "metadata": {},
   "source": [
    "3.\tWrite a Python program to display calendar?\n"
   ]
  },
  {
   "cell_type": "code",
   "execution_count": 8,
   "id": "99c4e6f7",
   "metadata": {},
   "outputs": [
    {
     "name": "stdout",
     "output_type": "stream",
     "text": [
      "Enter the Year\n",
      "2014\n",
      "Enter the month\n",
      "2\n",
      "   February 2014\n",
      "Mo Tu We Th Fr Sa Su\n",
      "                1  2\n",
      " 3  4  5  6  7  8  9\n",
      "10 11 12 13 14 15 16\n",
      "17 18 19 20 21 22 23\n",
      "24 25 26 27 28\n",
      "\n"
     ]
    }
   ],
   "source": [
    "import calendar\n",
    "year = int(input(\"Enter the Year: \"))\n",
    "print(\"Enter the month\")\n",
    "month = int(input())\n",
    "print(calendar.month(year, month))"
   ]
  },
  {
   "cell_type": "markdown",
   "id": "3a574e71",
   "metadata": {},
   "source": [
    "4.\tWrite a Python program to solve quadratic equation?"
   ]
  },
  {
   "cell_type": "code",
   "execution_count": 3,
   "id": "db108b42",
   "metadata": {},
   "outputs": [
    {
     "name": "stdout",
     "output_type": "stream",
     "text": [
      "Enter the coefficients of a: 1\n",
      "Enter the coefficients of b:  2\n",
      "Enter the coefficients of c: 3\n",
      "roots complex and distinct\n",
      "x1=(-1+1.4142135623730951j) and x2 = (-1-1.4142135623730951j)\n"
     ]
    }
   ],
   "source": [
    "import cmath as m\n",
    "\n",
    "a=float(input(\"Enter the coefficients of a: \"))\n",
    "b=float(input(\"Enter the coefficients of b: \"))\n",
    "c=float(input(\"Enter the coefficients of c: \"))\n",
    "dec=(b*b-4*a*c)\n",
    "if dec==0:\n",
    "    print(\"roots are real and equal\")\n",
    "    x=-b/(2*a)\n",
    "    print(f'x1={x} and x2 = {x}')\n",
    "elif dec >0:\n",
    "    print(\"roots real and distinct\")\n",
    "    x1= (-b+m.sqrt(dec))/(2*a)\n",
    "    x2=(-b-m.sqrt(dec))/(2*a)\n",
    "    print(f'x1={x1} and x2 = {x2}')\n",
    "elif dec < 0:\n",
    "    print(\"roots complex and distinct\")\n",
    "    x1= (-b+m.sqrt(dec))/(2*a)\n",
    "    x2=(-b-m.sqrt(dec))/(2*a)\n",
    "    print(f'x1={x1} and x2 = {x2}')    "
   ]
  },
  {
   "cell_type": "markdown",
   "id": "7b2b77b4",
   "metadata": {},
   "source": [
    "5.\tWrite a Python program to swap two variables without temp variable?"
   ]
  },
  {
   "cell_type": "code",
   "execution_count": 4,
   "id": "aafd48a1",
   "metadata": {},
   "outputs": [
    {
     "name": "stdout",
     "output_type": "stream",
     "text": [
      "Enter the first variable a: 2\n",
      "Enter the first variable b: 3\n",
      "the value in varaibles of before swap\n",
      "a = 2 and b =3\n",
      "the value of varaible after swap\n",
      "a = 3 and b =2\n"
     ]
    }
   ],
   "source": [
    "a=int(input(\"Enter the first variable a: \"))\n",
    "b=int(input(\"Enter the first variable b: \"))\n",
    "\n",
    "print(\"the value in varaibles of before swap\")\n",
    "print(f\"a = {a} and b ={b}\")\n",
    "a,b = b,a\n",
    "print(\"the value of varaible after swap\" )\n",
    "print(f\"a = {a} and b ={b}\")"
   ]
  },
  {
   "cell_type": "code",
   "execution_count": null,
   "id": "3c99bf52",
   "metadata": {},
   "outputs": [],
   "source": []
  }
 ],
 "metadata": {
  "kernelspec": {
   "display_name": "Python 3",
   "language": "python",
   "name": "python3"
  },
  "language_info": {
   "codemirror_mode": {
    "name": "ipython",
    "version": 3
   },
   "file_extension": ".py",
   "mimetype": "text/x-python",
   "name": "python",
   "nbconvert_exporter": "python",
   "pygments_lexer": "ipython3",
   "version": "3.8.5"
  }
 },
 "nbformat": 4,
 "nbformat_minor": 5
}
