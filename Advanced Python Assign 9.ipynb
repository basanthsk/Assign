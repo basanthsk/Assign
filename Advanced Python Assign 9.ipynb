{
 "cells": [
  {
   "cell_type": "markdown",
   "id": "0bab257e",
   "metadata": {},
   "source": [
    "1. YouTube offers different playback speed options for users. This allows users to increase or decrease the speed of the video content. Given the actual duration and playback speed of the video, calculate the playback duration of the video."
   ]
  },
  {
   "cell_type": "code",
   "execution_count": 79,
   "id": "c6402cb8",
   "metadata": {},
   "outputs": [],
   "source": [
    "import datetime,time\n",
    "def playback_duration(duration ,speed):\n",
    "    h,m,s = map(int,duration.split(\":\"))\n",
    "    seconds=(h*3600+m*60+s)/speed\n",
    "    playback_duration = str(datetime.timedelta(seconds=seconds))\n",
    "    min, sec = divmod(seconds, 60)\n",
    "    hour, min = divmod(min, 60)\n",
    "    return (f'{int(hour)}:{int(min)}:{int(sec)}')"
   ]
  },
  {
   "cell_type": "code",
   "execution_count": 80,
   "id": "fc4001ba",
   "metadata": {},
   "outputs": [
    {
     "data": {
      "text/plain": [
       "'0:15:0'"
      ]
     },
     "execution_count": 80,
     "metadata": {},
     "output_type": "execute_result"
    }
   ],
   "source": [
    "playback_duration(\"00:30:00\", 2) "
   ]
  },
  {
   "cell_type": "code",
   "execution_count": 81,
   "id": "371f055b",
   "metadata": {},
   "outputs": [
    {
     "data": {
      "text/plain": [
       "'0:53:20'"
      ]
     },
     "execution_count": 81,
     "metadata": {},
     "output_type": "execute_result"
    }
   ],
   "source": [
    "playback_duration(\"01:20:00\", 1.5)"
   ]
  },
  {
   "cell_type": "code",
   "execution_count": 82,
   "id": "3f3b2e06",
   "metadata": {},
   "outputs": [
    {
     "data": {
      "text/plain": [
       "'102:40:18'"
      ]
     },
     "execution_count": 82,
     "metadata": {},
     "output_type": "execute_result"
    }
   ],
   "source": [
    "playback_duration(\"51:20:09\", 0.5)"
   ]
  },
  {
   "cell_type": "markdown",
   "id": "344534a7",
   "metadata": {},
   "source": [
    "2. We needs your help to construct a building which will be a pile of n cubes. The cube at the bottom will have a volume of n^3, the cube above will have volume of (n-1)^3 and so on until the top which will have a volume of 1^3.\n",
    "\n",
    "Given the total volume m of the building, can you find the number of cubes n required for the building?\n"
   ]
  },
  {
   "cell_type": "code",
   "execution_count": 97,
   "id": "4583b8e9",
   "metadata": {},
   "outputs": [],
   "source": [
    "import math\n",
    "# soulution is based on the Faulhaber's formula\n",
    "def pile_of_cubes(k):\n",
    "    x=(-1+math.sqrt(1+8*math.sqrt(k)))*0.5\n",
    "    if x == int(x):\n",
    "        return int(x)\n",
    "    else:\n",
    "        return 'None'"
   ]
  },
  {
   "cell_type": "code",
   "execution_count": 99,
   "id": "ae17337e",
   "metadata": {},
   "outputs": [
    {
     "data": {
      "text/plain": [
       "45"
      ]
     },
     "execution_count": 99,
     "metadata": {},
     "output_type": "execute_result"
    }
   ],
   "source": [
    "pile_of_cubes(1071225)"
   ]
  },
  {
   "cell_type": "code",
   "execution_count": 100,
   "id": "3a3b8a2e",
   "metadata": {},
   "outputs": [
    {
     "data": {
      "text/plain": [
       "2022"
      ]
     },
     "execution_count": 100,
     "metadata": {},
     "output_type": "execute_result"
    }
   ],
   "source": [
    "pile_of_cubes(4183059834009) "
   ]
  },
  {
   "cell_type": "code",
   "execution_count": 101,
   "id": "3822c775",
   "metadata": {},
   "outputs": [
    {
     "data": {
      "text/plain": [
       "'None'"
      ]
     },
     "execution_count": 101,
     "metadata": {},
     "output_type": "execute_result"
    }
   ],
   "source": [
    "pile_of_cubes(16)"
   ]
  },
  {
   "cell_type": "markdown",
   "id": "d22c3fbd",
   "metadata": {},
   "source": [
    "3. A fulcrum of a list is an integer such that all elements to the left of it and all elements to the right of it sum to the same value. Write a function that finds the fulcrum of a list."
   ]
  },
  {
   "cell_type": "code",
   "execution_count": 132,
   "id": "fde59fcc",
   "metadata": {},
   "outputs": [],
   "source": [
    "def find_fulcrum(lst):\n",
    "    for i in range(len(lst)):\n",
    "        if sum(lst[:i]) == sum(lst[i+1:]):\n",
    "            return lst[i]\n",
    "    else:\n",
    "        return -1\n"
   ]
  },
  {
   "cell_type": "code",
   "execution_count": 133,
   "id": "892d7e5a",
   "metadata": {},
   "outputs": [
    {
     "data": {
      "text/plain": [
       "2"
      ]
     },
     "execution_count": 133,
     "metadata": {},
     "output_type": "execute_result"
    }
   ],
   "source": [
    "find_fulcrum([3, 1, 5, 2, 4, 6, -1]) "
   ]
  },
  {
   "cell_type": "code",
   "execution_count": 134,
   "id": "9eca55a4",
   "metadata": {},
   "outputs": [
    {
     "data": {
      "text/plain": [
       "4"
      ]
     },
     "execution_count": 134,
     "metadata": {},
     "output_type": "execute_result"
    }
   ],
   "source": [
    "find_fulcrum([1, 2, 4, 9, 10, -10, -9, 3]) "
   ]
  },
  {
   "cell_type": "code",
   "execution_count": 135,
   "id": "4b40ef9b",
   "metadata": {},
   "outputs": [
    {
     "data": {
      "text/plain": [
       "1"
      ]
     },
     "execution_count": 135,
     "metadata": {},
     "output_type": "execute_result"
    }
   ],
   "source": [
    "find_fulcrum([9, 1, 9]) "
   ]
  },
  {
   "cell_type": "code",
   "execution_count": 137,
   "id": "832e7ef4",
   "metadata": {},
   "outputs": [
    {
     "data": {
      "text/plain": [
       "0"
      ]
     },
     "execution_count": 137,
     "metadata": {},
     "output_type": "execute_result"
    }
   ],
   "source": [
    "find_fulcrum([7, -1, 0, -1, 1, 1, 2, 3]) "
   ]
  },
  {
   "cell_type": "code",
   "execution_count": 138,
   "id": "a908ecc3",
   "metadata": {},
   "outputs": [
    {
     "data": {
      "text/plain": [
       "-1"
      ]
     },
     "execution_count": 138,
     "metadata": {},
     "output_type": "execute_result"
    }
   ],
   "source": [
    "find_fulcrum([8, 8, 8, 8]) "
   ]
  },
  {
   "cell_type": "markdown",
   "id": "1520aaaa",
   "metadata": {},
   "source": [
    "4. Given a list of integers representing the color of each sock, determine how many pairs of socks with matching colors there are. For example, there are 7 socks with colors [1, 2, 1, 2, 1, 3, 2]. There is one pair of color 1 and one of color 2. There are three odd socks left, one of each color. The number of pairs is 2."
   ]
  },
  {
   "cell_type": "code",
   "execution_count": 151,
   "id": "b91e194e",
   "metadata": {},
   "outputs": [],
   "source": [
    "def sock_merchant(socks):\n",
    "    count =0\n",
    "    for el in set(socks):\n",
    "        x=socks.count(el)\n",
    "        if x>1:\n",
    "            if x%2 == 0:\n",
    "                count=count+x//2\n",
    "            else:\n",
    "                count=count+x%2\n",
    "    print(count)\n"
   ]
  },
  {
   "cell_type": "code",
   "execution_count": 152,
   "id": "eaaf30ed",
   "metadata": {},
   "outputs": [
    {
     "name": "stdout",
     "output_type": "stream",
     "text": [
      "3\n"
     ]
    }
   ],
   "source": [
    "sock_merchant([10, 20, 20, 10, 10, 30, 50, 10, 20]) "
   ]
  },
  {
   "cell_type": "code",
   "execution_count": 153,
   "id": "4ee0536a",
   "metadata": {},
   "outputs": [
    {
     "name": "stdout",
     "output_type": "stream",
     "text": [
      "4\n"
     ]
    }
   ],
   "source": [
    "sock_merchant([50, 20, 30, 90, 30, 20, 50, 20, 90])"
   ]
  },
  {
   "cell_type": "code",
   "execution_count": 154,
   "id": "83510ae5",
   "metadata": {},
   "outputs": [
    {
     "name": "stdout",
     "output_type": "stream",
     "text": [
      "2\n"
     ]
    }
   ],
   "source": [
    "sock_merchant([1, 2, 1, 2, 1, 3, 2])"
   ]
  },
  {
   "cell_type": "code",
   "execution_count": 155,
   "id": "65c76ea4",
   "metadata": {},
   "outputs": [
    {
     "name": "stdout",
     "output_type": "stream",
     "text": [
      "0\n"
     ]
    }
   ],
   "source": [
    "sock_merchant([])"
   ]
  },
  {
   "cell_type": "markdown",
   "id": "938e9988",
   "metadata": {},
   "source": [
    "5. Create a function that takes a string containing integers as well as other characters and return the sum of the negative integers only."
   ]
  },
  {
   "cell_type": "code",
   "execution_count": 180,
   "id": "a51afdb9",
   "metadata": {},
   "outputs": [],
   "source": [
    "import re\n",
    "def negative_sum(string):\n",
    "    x = map(int, re.findall('\\-\\d+', string))\n",
    "    return sum(x)"
   ]
  },
  {
   "cell_type": "code",
   "execution_count": 181,
   "id": "f39aa52b",
   "metadata": {},
   "outputs": [
    {
     "data": {
      "text/plain": [
       "-23"
      ]
     },
     "execution_count": 181,
     "metadata": {},
     "output_type": "execute_result"
    }
   ],
   "source": [
    "negative_sum(\"-12 13%14&-11\") "
   ]
  },
  {
   "cell_type": "code",
   "execution_count": 182,
   "id": "fc4cb4a2",
   "metadata": {},
   "outputs": [
    {
     "data": {
      "text/plain": [
       "-33"
      ]
     },
     "execution_count": 182,
     "metadata": {},
     "output_type": "execute_result"
    }
   ],
   "source": [
    "negative_sum(\"22 13%14&-11-22 13 12\") "
   ]
  },
  {
   "cell_type": "code",
   "execution_count": null,
   "id": "8670f1bb",
   "metadata": {},
   "outputs": [],
   "source": []
  }
 ],
 "metadata": {
  "kernelspec": {
   "display_name": "Python 3",
   "language": "python",
   "name": "python3"
  },
  "language_info": {
   "codemirror_mode": {
    "name": "ipython",
    "version": 3
   },
   "file_extension": ".py",
   "mimetype": "text/x-python",
   "name": "python",
   "nbconvert_exporter": "python",
   "pygments_lexer": "ipython3",
   "version": "3.8.5"
  }
 },
 "nbformat": 4,
 "nbformat_minor": 5
}
