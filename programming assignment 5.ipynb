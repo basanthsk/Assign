{
 "cells": [
  {
   "cell_type": "markdown",
   "id": "678ca89e",
   "metadata": {},
   "source": [
    "1.\tWrite a Python Program to Find LCM?"
   ]
  },
  {
   "cell_type": "code",
   "execution_count": 9,
   "id": "d6146515",
   "metadata": {},
   "outputs": [
    {
     "name": "stdout",
     "output_type": "stream",
     "text": [
      "Enter two value: 54 24\n",
      "The L. C. M is: 216\n"
     ]
    }
   ],
   "source": [
    "a = int(input(\"Enter the value of a\"))\n",
    "b = int(input(\"Enter the value of b\"))\n",
    "\n",
    "big = 1\n",
    "if a> b:\n",
    "    big = a\n",
    "else:\n",
    "    big = b\n",
    "\n",
    "while(True):\n",
    "       if((big % a == 0) and (big % b == 0)):\n",
    "           lcm = big\n",
    "           break\n",
    "       big += 1\n",
    "print(\"The L. C. M is:\",lcm)    "
   ]
  },
  {
   "cell_type": "markdown",
   "id": "cff570b8",
   "metadata": {},
   "source": [
    "2.\tWrite a Python Program to Find HCF?"
   ]
  },
  {
   "cell_type": "code",
   "execution_count": 10,
   "id": "c7125275",
   "metadata": {},
   "outputs": [
    {
     "name": "stdout",
     "output_type": "stream",
     "text": [
      "Enter two value: 54 24\n",
      "The H. C. F is: 6\n"
     ]
    }
   ],
   "source": [
    "a = int(input(\"Enter the value of a\"))\n",
    "b = int(input(\"Enter the value of b\"))\n",
    "small = 1\n",
    "if a > b:\n",
    "    small = b\n",
    "else:\n",
    "    small = a\n",
    "\n",
    "for i in range(1, small+1):\n",
    "    if((a % i == 0) and (b % i == 0)):\n",
    "        hcf = i\n",
    "print(\"The H. C. F is:\",hcf)"
   ]
  },
  {
   "cell_type": "markdown",
   "id": "a87799ca",
   "metadata": {},
   "source": [
    "3.\tWrite a Python Program to Convert Decimal to Binary, Octal and Hexadecimal?"
   ]
  },
  {
   "cell_type": "code",
   "execution_count": 15,
   "id": "e6d26bf8",
   "metadata": {},
   "outputs": [
    {
     "name": "stdout",
     "output_type": "stream",
     "text": [
      "Enter the decimal number56\n",
      "0b111000 in binary\n",
      "0x38 in hexadecimal\n",
      "0o70 in octal\n"
     ]
    }
   ],
   "source": [
    "num = int(input(\"Enter the decimal number\"))\n",
    "print(bin(num),\"in binary\")\n",
    "print(hex(num), \"in hexadecimal\")\n",
    "print(oct(num),\"in octal\")"
   ]
  },
  {
   "cell_type": "markdown",
   "id": "c80adc3a",
   "metadata": {},
   "source": [
    "4.\tWrite a Python Program To Find ASCII value of a character?"
   ]
  },
  {
   "cell_type": "code",
   "execution_count": 18,
   "id": "f4165bcd",
   "metadata": {},
   "outputs": [
    {
     "name": "stdout",
     "output_type": "stream",
     "text": [
      "Enter the charactert\n",
      "ascii value of t is 116\n"
     ]
    }
   ],
   "source": [
    "num = input(\"Enter the character\")\n",
    "print(f\"ascii value of {num} is {ord(num)}\")"
   ]
  },
  {
   "cell_type": "markdown",
   "id": "bddd4598",
   "metadata": {},
   "source": [
    "5.\tWrite a Python Program to Make a Simple Calculator with 4 basic mathematical operations?"
   ]
  },
  {
   "cell_type": "code",
   "execution_count": 30,
   "id": "6166acb1",
   "metadata": {},
   "outputs": [
    {
     "name": "stdout",
     "output_type": "stream",
     "text": [
      "selcect the operation\n",
      "1. Add (a+b)\n",
      "2. Subtract (a-b)\n",
      "3. Multiply (a*b)\n",
      "4. Divide (a/b)\n",
      "Please enter you choice of operation 1/2/3/4: 5\n",
      "Enter valid choice between 1-4\n"
     ]
    }
   ],
   "source": [
    "print(\"selcect the operation\")\n",
    "print(\"1. Add (a+b)\")\n",
    "print(\"2. Subtract (a-b)\")\n",
    "print(\"3. Multiply (a*b)\")\n",
    "print(\"4. Divide (a/b)\")\n",
    "operation = int(input(\"Please enter you choice of operation 1/2/3/4: \"))\n",
    "if operation <= 4:\n",
    "    a = int(input(\"Enter the value of a: \"))\n",
    "    b = int(input(\"Enter the value of b: \"))\n",
    "    if operation == 1:\n",
    "        print(f\"Addition of a and b is : {(a+b)}\")\n",
    "    elif operation == 2:\n",
    "        print(f\"Subtraction of a and b is : {(a-b)}\")    \n",
    "    elif operation == 3:\n",
    "        print(f\"Multiplication of a and b is : {(a*b)}\")\n",
    "    elif operation == 4:\n",
    "        if b==0:\n",
    "            print(\"Zero Division is not valid input\")\n",
    "        else:    \n",
    "            print(f\"Division of a and b is : {(a/b)}\")    \n",
    "else:        \n",
    "    print(\"Enter valid choice between 1-4\")\n"
   ]
  }
 ],
 "metadata": {
  "kernelspec": {
   "display_name": "Python 3",
   "language": "python",
   "name": "python3"
  },
  "language_info": {
   "codemirror_mode": {
    "name": "ipython",
    "version": 3
   },
   "file_extension": ".py",
   "mimetype": "text/x-python",
   "name": "python",
   "nbconvert_exporter": "python",
   "pygments_lexer": "ipython3",
   "version": "3.8.5"
  }
 },
 "nbformat": 4,
 "nbformat_minor": 5
}
