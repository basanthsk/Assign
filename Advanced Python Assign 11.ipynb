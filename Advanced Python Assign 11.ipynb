{
 "cells": [
  {
   "cell_type": "markdown",
   "id": "8c3ee648",
   "metadata": {},
   "source": [
    "1. Create a function that takes a list and returns a new list containing only prime numbers."
   ]
  },
  {
   "cell_type": "code",
   "execution_count": 10,
   "id": "2dcd6271",
   "metadata": {},
   "outputs": [],
   "source": [
    "def filter_primes(lst): \n",
    "    filter_lst =[]\n",
    "    for num in lst:\n",
    "        if num > 1:\n",
    "            for i in range(2,num):\n",
    "                if (num % i) == 0:\n",
    "                    break\n",
    "            else:        \n",
    "                filter_lst.append(num)\n",
    "    return filter_lst            "
   ]
  },
  {
   "cell_type": "code",
   "execution_count": 11,
   "id": "6e6469f4",
   "metadata": {},
   "outputs": [
    {
     "data": {
      "text/plain": [
       "[7, 3, 11]"
      ]
     },
     "execution_count": 11,
     "metadata": {},
     "output_type": "execute_result"
    }
   ],
   "source": [
    "filter_primes([7, 9, 3, 9, 10, 11, 27]) "
   ]
  },
  {
   "cell_type": "code",
   "execution_count": 12,
   "id": "96c9544e",
   "metadata": {},
   "outputs": [
    {
     "data": {
      "text/plain": [
       "[10007, 1009]"
      ]
     },
     "execution_count": 12,
     "metadata": {},
     "output_type": "execute_result"
    }
   ],
   "source": [
    "filter_primes([10007, 1009, 1007, 27, 147, 77, 1001, 70])"
   ]
  },
  {
   "cell_type": "code",
   "execution_count": 13,
   "id": "46044302",
   "metadata": {},
   "outputs": [
    {
     "data": {
      "text/plain": [
       "[1009, 3, 61, 1087, 1091, 1093, 1097]"
      ]
     },
     "execution_count": 13,
     "metadata": {},
     "output_type": "execute_result"
    }
   ],
   "source": [
    "filter_primes([1009, 10, 10, 10, 3, 33, 9, 4, 1, 61, 63, 69, 1087, 1091, 1093, 1097])"
   ]
  },
  {
   "cell_type": "markdown",
   "id": "15f40b5e",
   "metadata": {},
   "source": [
    "2. Once a water balloon pops, is soaks the area around it. The ground gets drier the further away you travel from the balloon.\n",
    "The effect of a water balloon popping can be modeled using a list. Create a function that takes a list which takes the pre-pop state and returns the state after the balloon is popped. The pre-pop state will contain at most a single balloon, whose size is represented by the only non-zero element."
   ]
  },
  {
   "cell_type": "code",
   "execution_count": 26,
   "id": "c53d454b",
   "metadata": {},
   "outputs": [],
   "source": [
    "def pop(lst):\n",
    "    n=0\n",
    "    for i in range(len(lst)):\n",
    "        if lst[i] == 0:\n",
    "            lst[i] = abs(n)\n",
    "            n+=1\n",
    "        else:\n",
    "            n=-i+1\n",
    "    return lst        "
   ]
  },
  {
   "cell_type": "code",
   "execution_count": 27,
   "id": "95069894",
   "metadata": {},
   "outputs": [
    {
     "data": {
      "text/plain": [
       "[0, 1, 2, 3, 4, 3, 2, 1, 0]"
      ]
     },
     "execution_count": 27,
     "metadata": {},
     "output_type": "execute_result"
    }
   ],
   "source": [
    "pop([0, 0, 0, 0, 4, 0, 0, 0, 0]) "
   ]
  },
  {
   "cell_type": "code",
   "execution_count": 28,
   "id": "4b87f5c4",
   "metadata": {},
   "outputs": [
    {
     "data": {
      "text/plain": [
       "[0, 1, 2, 3, 2, 1, 0]"
      ]
     },
     "execution_count": 28,
     "metadata": {},
     "output_type": "execute_result"
    }
   ],
   "source": [
    "pop([0, 0, 0, 3, 0, 0, 0]) "
   ]
  },
  {
   "cell_type": "code",
   "execution_count": 29,
   "id": "58c63dbb",
   "metadata": {},
   "outputs": [
    {
     "data": {
      "text/plain": [
       "[0, 1, 2, 1, 0]"
      ]
     },
     "execution_count": 29,
     "metadata": {},
     "output_type": "execute_result"
    }
   ],
   "source": [
    "pop([0, 0, 2, 0, 0]) "
   ]
  },
  {
   "cell_type": "code",
   "execution_count": 30,
   "id": "b6dbaad2",
   "metadata": {},
   "outputs": [
    {
     "data": {
      "text/plain": [
       "[0, 1, 2, 1, 0]"
      ]
     },
     "execution_count": 30,
     "metadata": {},
     "output_type": "execute_result"
    }
   ],
   "source": [
    "pop([0, 0, 2, 0, 0]) "
   ]
  },
  {
   "cell_type": "code",
   "execution_count": 31,
   "id": "702a8c7c",
   "metadata": {},
   "outputs": [
    {
     "data": {
      "text/plain": [
       "[0]"
      ]
     },
     "execution_count": 31,
     "metadata": {},
     "output_type": "execute_result"
    }
   ],
   "source": [
    "pop([0]) "
   ]
  },
  {
   "cell_type": "markdown",
   "id": "cb242d4d",
   "metadata": {},
   "source": [
    "3. \"Loves me, loves me not\" is a traditional game in which a person plucks off all the petals of a flower one by one, saying the phrase \"Loves me\" and \"Loves me not\" when determining whether the one that they love, loves them back.\n",
    "\n",
    "Given a number of petals, return a string which repeats the phrases \"Loves me\" and \"Loves me not\" for every alternating petal, and return the last phrase in all caps. Remember to put a comma and space between phrases\n"
   ]
  },
  {
   "cell_type": "code",
   "execution_count": 20,
   "id": "aad3086b",
   "metadata": {},
   "outputs": [],
   "source": [
    "def loves_me(num):\n",
    "    string = []\n",
    "    str1 = 'loves me not'\n",
    "    str2 ='loves me'\n",
    "    for i in range(num):\n",
    "        if i%2==0:\n",
    "            string.append('loves me')\n",
    "        else:\n",
    "            string.append('loves me not')\n",
    "    string[-1] = string[-1].upper()        \n",
    "    return ','.join(string)    \n",
    "            \n",
    "    "
   ]
  },
  {
   "cell_type": "code",
   "execution_count": 21,
   "id": "69333402",
   "metadata": {},
   "outputs": [
    {
     "data": {
      "text/plain": [
       "'loves me,loves me not,LOVES ME'"
      ]
     },
     "execution_count": 21,
     "metadata": {},
     "output_type": "execute_result"
    }
   ],
   "source": [
    "loves_me(3) "
   ]
  },
  {
   "cell_type": "code",
   "execution_count": 22,
   "id": "c248cdbf",
   "metadata": {},
   "outputs": [
    {
     "data": {
      "text/plain": [
       "'loves me,loves me not,loves me,loves me not,loves me,LOVES ME NOT'"
      ]
     },
     "execution_count": 22,
     "metadata": {},
     "output_type": "execute_result"
    }
   ],
   "source": [
    "loves_me(6) "
   ]
  },
  {
   "cell_type": "code",
   "execution_count": 23,
   "id": "b01bacb2",
   "metadata": {},
   "outputs": [
    {
     "data": {
      "text/plain": [
       "'LOVES ME'"
      ]
     },
     "execution_count": 23,
     "metadata": {},
     "output_type": "execute_result"
    }
   ],
   "source": [
    "loves_me(1) "
   ]
  },
  {
   "cell_type": "markdown",
   "id": "190d42bf",
   "metadata": {},
   "source": [
    "4. Write a function that sorts each string in a list by the letter in alphabetic ascending order (a-z)."
   ]
  },
  {
   "cell_type": "code",
   "execution_count": 92,
   "id": "2374756f",
   "metadata": {},
   "outputs": [],
   "source": [
    "import re\n",
    "def sort_by_letter(lst):\n",
    "    convert = lambda text: int(text) if text.isdigit() else text\n",
    "    alphanum_key = lambda key: [convert(c) for c in re.split('([0-9]+)', key)]\n",
    "    return sorted(lst, key = alphanum_key)\n",
    "        "
   ]
  },
  {
   "cell_type": "code",
   "execution_count": 93,
   "id": "97de813b",
   "metadata": {},
   "outputs": [
    {
     "data": {
      "text/plain": [
       "['832u32', '932c', '2344b']"
      ]
     },
     "execution_count": 93,
     "metadata": {},
     "output_type": "execute_result"
    }
   ],
   "source": [
    "sort_by_letter([\"932c\", \"832u32\", \"2344b\"])"
   ]
  },
  {
   "cell_type": "code",
   "execution_count": 94,
   "id": "c931c89a",
   "metadata": {},
   "outputs": [
    {
     "data": {
      "text/plain": [
       "['11d', '78b', '99a', 'c2345']"
      ]
     },
     "execution_count": 94,
     "metadata": {},
     "output_type": "execute_result"
    }
   ],
   "source": [
    "sort_by_letter([\"99a\", \"78b\", \"c2345\", \"11d\"])"
   ]
  },
  {
   "cell_type": "code",
   "execution_count": null,
   "id": "0dd98d00",
   "metadata": {},
   "outputs": [],
   "source": []
  }
 ],
 "metadata": {
  "kernelspec": {
   "display_name": "Python 3",
   "language": "python",
   "name": "python3"
  },
  "language_info": {
   "codemirror_mode": {
    "name": "ipython",
    "version": 3
   },
   "file_extension": ".py",
   "mimetype": "text/x-python",
   "name": "python",
   "nbconvert_exporter": "python",
   "pygments_lexer": "ipython3",
   "version": "3.8.5"
  }
 },
 "nbformat": 4,
 "nbformat_minor": 5
}
