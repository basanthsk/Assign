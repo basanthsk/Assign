{
 "cells": [
  {
   "cell_type": "markdown",
   "id": "ed4597c0",
   "metadata": {},
   "source": [
    "1. Create a class Smoothie and do the following:\n",
    "\n",
    "    - Create an instance attribute called ingredients.\n",
    "    - Create a get_cost method which calculates the total cost of the ingredients used to make the smoothie.\n",
    "    - Create a get_price method which returns the number from get_cost plus the number from get_cost multiplied by 1.5. Round to two decimal places.\n",
    "    - Create a get_name method which gets the ingredients and puts them in alphabetical order into a nice descriptive sentence. If there are multiple ingredients, add the word \"Fusion\" to the end but otherwise, add \"Smoothie\". Remember to change \"-berries\" to \"-berry\". See the examples below.\n"
   ]
  },
  {
   "cell_type": "code",
   "execution_count": 63,
   "id": "aa594e61",
   "metadata": {},
   "outputs": [],
   "source": [
    "class Smoothie:\n",
    "    ingredient_dict={\n",
    "        'Strawberries':'$1.50',\n",
    "        'Banana': '$0.50',\n",
    "        'Mango':'$2.50',\n",
    "        'Blueberries' :'$1.00',\n",
    "        'Raspberries':'$1.00',\n",
    "        'Apple':'$1.75',\n",
    "        'Pineapple':'$3.50',\n",
    "    }\n",
    "    \n",
    "    def __init__(self,ingredients):\n",
    "        self.ingredients = ingredients\n",
    "        \n",
    "        \n",
    "    def get_cost(self):\n",
    "        self.cost = 0\n",
    "        for ingr in self.ingredients:\n",
    "            p = self.__class__.ingredient_dict[ingr].split('$')[1]\n",
    "            self.cost+=float(p)\n",
    "        return f'${self.cost}'    \n",
    "    \n",
    "    def get_price(self):\n",
    "        self.get_cost()\n",
    "        print(self.cost)\n",
    "        price = self.cost+self.cost*1.5\n",
    "        return f'${price}'\n",
    "    \n",
    "    def get_name(self):\n",
    "        name = ' '.join(sorted(self.ingredients))\n",
    "        if len(self.ingredients)>1:\n",
    "            return f'{name} Fusion'\n",
    "        else:\n",
    "            return f'{name} Smoothie'\n",
    "            "
   ]
  },
  {
   "cell_type": "code",
   "execution_count": 58,
   "id": "fa2c7d40",
   "metadata": {},
   "outputs": [],
   "source": [
    "s1 = Smoothie([\"Banana\"])"
   ]
  },
  {
   "cell_type": "code",
   "execution_count": 59,
   "id": "8f012a3f",
   "metadata": {},
   "outputs": [
    {
     "data": {
      "text/plain": [
       "['Banana']"
      ]
     },
     "execution_count": 59,
     "metadata": {},
     "output_type": "execute_result"
    }
   ],
   "source": [
    "s1.ingredients"
   ]
  },
  {
   "cell_type": "code",
   "execution_count": 60,
   "id": "074c50d9",
   "metadata": {},
   "outputs": [
    {
     "data": {
      "text/plain": [
       "'$0.5'"
      ]
     },
     "execution_count": 60,
     "metadata": {},
     "output_type": "execute_result"
    }
   ],
   "source": [
    "s1.get_cost()"
   ]
  },
  {
   "cell_type": "code",
   "execution_count": 61,
   "id": "04185074",
   "metadata": {},
   "outputs": [
    {
     "name": "stdout",
     "output_type": "stream",
     "text": [
      "0.5\n"
     ]
    },
    {
     "data": {
      "text/plain": [
       "'$1.25'"
      ]
     },
     "execution_count": 61,
     "metadata": {},
     "output_type": "execute_result"
    }
   ],
   "source": [
    "s1.get_price()"
   ]
  },
  {
   "cell_type": "code",
   "execution_count": 62,
   "id": "5c63ef90",
   "metadata": {},
   "outputs": [
    {
     "data": {
      "text/plain": [
       "'Banana Smoothie'"
      ]
     },
     "execution_count": 62,
     "metadata": {},
     "output_type": "execute_result"
    }
   ],
   "source": [
    "s1.get_name() "
   ]
  },
  {
   "cell_type": "code",
   "execution_count": 64,
   "id": "5aae11ad",
   "metadata": {},
   "outputs": [],
   "source": [
    "s2 = Smoothie([\"Raspberries\", \"Strawberries\", \"Blueberries\"])"
   ]
  },
  {
   "cell_type": "code",
   "execution_count": 66,
   "id": "047ec079",
   "metadata": {},
   "outputs": [
    {
     "data": {
      "text/plain": [
       "['Raspberries', 'Strawberries', 'Blueberries']"
      ]
     },
     "execution_count": 66,
     "metadata": {},
     "output_type": "execute_result"
    }
   ],
   "source": [
    "s2.ingredients "
   ]
  },
  {
   "cell_type": "code",
   "execution_count": 67,
   "id": "48593e4f",
   "metadata": {},
   "outputs": [
    {
     "data": {
      "text/plain": [
       "'$3.5'"
      ]
     },
     "execution_count": 67,
     "metadata": {},
     "output_type": "execute_result"
    }
   ],
   "source": [
    "s2.get_cost() "
   ]
  },
  {
   "cell_type": "code",
   "execution_count": 68,
   "id": "71043683",
   "metadata": {},
   "outputs": [
    {
     "name": "stdout",
     "output_type": "stream",
     "text": [
      "3.5\n"
     ]
    },
    {
     "data": {
      "text/plain": [
       "'$8.75'"
      ]
     },
     "execution_count": 68,
     "metadata": {},
     "output_type": "execute_result"
    }
   ],
   "source": [
    "s2.get_price() "
   ]
  },
  {
   "cell_type": "code",
   "execution_count": 69,
   "id": "8d6fa9be",
   "metadata": {},
   "outputs": [
    {
     "data": {
      "text/plain": [
       "'Blueberries Raspberries Strawberries Fusion'"
      ]
     },
     "execution_count": 69,
     "metadata": {},
     "output_type": "execute_result"
    }
   ],
   "source": [
    "s2.get_name()"
   ]
  },
  {
   "cell_type": "markdown",
   "id": "321df151",
   "metadata": {},
   "source": [
    "2. Your task is to write a program which allows teachers to create a multiple choice test in a class called Testpaper and to be also able to assign a minimum pass mark. The testpaper's subject should also be included. The attributes are in the following order:"
   ]
  },
  {
   "cell_type": "code",
   "execution_count": 3,
   "id": "7a5ec276",
   "metadata": {},
   "outputs": [],
   "source": [
    "class Testpaper:\n",
    "    def __init__(self,subject,markscheme,pass_mark):\n",
    "        self.subject = subject\n",
    "        self. markscheme = markscheme\n",
    "        self.pass_mark = pass_mark\n",
    "    \n",
    "    \n"
   ]
  },
  {
   "cell_type": "code",
   "execution_count": 51,
   "id": "aed37b6d",
   "metadata": {},
   "outputs": [],
   "source": [
    "class Student:\n",
    "    def __init__(self):\n",
    "        self.tests_taken = 'No tests taken'\n",
    "    \n",
    "    def take_test(self,paper,answer):\n",
    "        count = 0\n",
    "        for i in range(len(answer)):\n",
    "            if paper.markscheme[i] == answer[i]:\n",
    "                count+=1\n",
    "        mark_obtained = (count*100//len(paper.markscheme))\n",
    "        if mark_obtained > int(paper.pass_mark.split('%')[0]):\n",
    "            result = 'Passed!'\n",
    "        else:\n",
    "            result = 'Failed!'\n",
    "        if isinstance(self.tests_taken,str):\n",
    "             self.tests_taken ={paper.subject:f'{result}({mark_obtained}%)'}\n",
    "        else:\n",
    "            self.tests_taken[paper.subject] = f'{result}({mark_obtained}%)'\n",
    "        "
   ]
  },
  {
   "cell_type": "code",
   "execution_count": 52,
   "id": "bdb3ec46",
   "metadata": {},
   "outputs": [],
   "source": [
    "paper1 = Testpaper(\"Maths\", [\"1A\", \"2C\", \"3D\", \"4A\", \"5A\"], \"60%\")\n",
    "paper2 = Testpaper(\"Chemistry\", [\"1C\", \"2C\", \"3D\", \"4A\"], \"75%\")\n",
    "paper3 = Testpaper(\"Computing\", [\"1D\", \"2C\", \"3C\", \"4B\", \"5D\", \"6C\", \"7A\"], \"75%\")\n"
   ]
  },
  {
   "cell_type": "code",
   "execution_count": 53,
   "id": "10673269",
   "metadata": {},
   "outputs": [],
   "source": [
    "student1 = Student()\n",
    "student2 = Student()\n"
   ]
  },
  {
   "cell_type": "code",
   "execution_count": 54,
   "id": "33884c4e",
   "metadata": {},
   "outputs": [
    {
     "data": {
      "text/plain": [
       "'No tests taken'"
      ]
     },
     "execution_count": 54,
     "metadata": {},
     "output_type": "execute_result"
    }
   ],
   "source": [
    "student1.tests_taken"
   ]
  },
  {
   "cell_type": "code",
   "execution_count": 55,
   "id": "11e9e075",
   "metadata": {},
   "outputs": [],
   "source": [
    "student1.take_test(paper1, [\"1A\", \"2D\", \"3D\", \"4A\", \"5A\"])"
   ]
  },
  {
   "cell_type": "code",
   "execution_count": 56,
   "id": "c0ed6f37",
   "metadata": {},
   "outputs": [
    {
     "data": {
      "text/plain": [
       "{'Maths': 'Passed!(80%)'}"
      ]
     },
     "execution_count": 56,
     "metadata": {},
     "output_type": "execute_result"
    }
   ],
   "source": [
    "student1.tests_taken "
   ]
  },
  {
   "cell_type": "code",
   "execution_count": 57,
   "id": "f4a19403",
   "metadata": {},
   "outputs": [],
   "source": [
    "student2.take_test(paper2, [\"1C\", \"2D\", \"3A\", \"4C\"])\n",
    "student2.take_test(paper3, [\"1A\", \"2C\", \"3A\", \"4C\", \"5D\", \"6C\", \"7B\"])\n"
   ]
  },
  {
   "cell_type": "code",
   "execution_count": 58,
   "id": "f1b82a22",
   "metadata": {},
   "outputs": [
    {
     "data": {
      "text/plain": [
       "{'Chemistry': 'Failed!(25%)', 'Computing': 'Failed!(42%)'}"
      ]
     },
     "execution_count": 58,
     "metadata": {},
     "output_type": "execute_result"
    }
   ],
   "source": [
    "student2.tests_taken "
   ]
  },
  {
   "cell_type": "markdown",
   "id": "37a70a09",
   "metadata": {},
   "source": [
    "3. Due to unforseen circumstances in Suburbia, the trains will be delayed by a further 10 minutes.\n",
    "\n",
    "Create a function that will help to plan out and manage these delays! Create a function called manage_delays that does the following:\n",
    "\n",
    "   - Parameters will be the train object, a destination and number of minutes the delay is.\n",
    "   - Increment to the train object's expected_time by the delay, if the destination given is in the train object's destinations.\n"
   ]
  },
  {
   "cell_type": "code",
   "execution_count": 48,
   "id": "6aef8141",
   "metadata": {},
   "outputs": [],
   "source": [
    "from datetime import datetime\n",
    "class Train:\n",
    "    def __init__(self,stations,time):\n",
    "        self.stations = stations\n",
    "        self.expected_time = time\n",
    "        \n",
    "    def update_time(self,t):\n",
    "        h,m= self.expected_time.split(\":\")\n",
    "        h= int(h)+t//60\n",
    "        m=int(m)+t%60\n",
    "        self.expected_time = f'{h}:{m}'\n",
    "        \n",
    "    \n",
    "        \n",
    "\n",
    "trains = [\n",
    "  Train([\"Townsville\", \"Suburbia\", \"Urbantska\"], \"13:04\"),\n",
    "  Train([\"Farmsdale\", \"Suburbia\", \"Lakeside Valley\"], \"13:20\"),\n",
    "  Train([\"Suburbia\", \"Townsville\", \"Lakeside Valley\"], \"13:22\")\n",
    "]\n",
    "        \n",
    "\n",
    "    "
   ]
  },
  {
   "cell_type": "code",
   "execution_count": 49,
   "id": "1ccd7600",
   "metadata": {},
   "outputs": [],
   "source": [
    "def manage_delays(t,station_name,delay):\n",
    "    if station_name in t.stations:\n",
    "        t.update_time(delay)\n",
    "        "
   ]
  },
  {
   "cell_type": "code",
   "execution_count": 50,
   "id": "4addc9ad",
   "metadata": {},
   "outputs": [],
   "source": [
    "for t in trains:\n",
    "    manage_delays(t, \"Lakeside Valley\", 60)\n"
   ]
  },
  {
   "cell_type": "code",
   "execution_count": 51,
   "id": "333e604e",
   "metadata": {},
   "outputs": [
    {
     "data": {
      "text/plain": [
       "'13:04'"
      ]
     },
     "execution_count": 51,
     "metadata": {},
     "output_type": "execute_result"
    }
   ],
   "source": [
    "trains[0].expected_time"
   ]
  },
  {
   "cell_type": "code",
   "execution_count": 52,
   "id": "d4202172",
   "metadata": {},
   "outputs": [
    {
     "data": {
      "text/plain": [
       "'14:20'"
      ]
     },
     "execution_count": 52,
     "metadata": {},
     "output_type": "execute_result"
    }
   ],
   "source": [
    "trains[1].expected_time"
   ]
  },
  {
   "cell_type": "code",
   "execution_count": 53,
   "id": "72347e56",
   "metadata": {},
   "outputs": [
    {
     "data": {
      "text/plain": [
       "'14:22'"
      ]
     },
     "execution_count": 53,
     "metadata": {},
     "output_type": "execute_result"
    }
   ],
   "source": [
    "trains[2].expected_time"
   ]
  }
 ],
 "metadata": {
  "kernelspec": {
   "display_name": "Python 3",
   "language": "python",
   "name": "python3"
  },
  "language_info": {
   "codemirror_mode": {
    "name": "ipython",
    "version": 3
   },
   "file_extension": ".py",
   "mimetype": "text/x-python",
   "name": "python",
   "nbconvert_exporter": "python",
   "pygments_lexer": "ipython3",
   "version": "3.8.5"
  }
 },
 "nbformat": 4,
 "nbformat_minor": 5
}
