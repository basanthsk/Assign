{
 "cells": [
  {
   "cell_type": "markdown",
   "id": "72de78f6",
   "metadata": {},
   "source": [
    "1. Create a function that transposes a 2D matrix."
   ]
  },
  {
   "cell_type": "code",
   "execution_count": 103,
   "id": "eecd5d00",
   "metadata": {},
   "outputs": [],
   "source": [
    "def transpose_matrix(mat):\n",
    "    n = len(mat)\n",
    "    m = len(mat[0])\n",
    "    trans = []\n",
    "    for i in range(m):\n",
    "        l =[]\n",
    "        for j in range(n):\n",
    "            l.append(mat[j][i])\n",
    "        trans.append(l)   \n",
    "    return trans    \n",
    "        "
   ]
  },
  {
   "cell_type": "code",
   "execution_count": 104,
   "id": "5d61914b",
   "metadata": {},
   "outputs": [
    {
     "data": {
      "text/plain": [
       "[[1, 2, 3], [1, 2, 3], [1, 2, 3]]"
      ]
     },
     "execution_count": 104,
     "metadata": {},
     "output_type": "execute_result"
    }
   ],
   "source": [
    "transpose_matrix([\n",
    "  [1, 1, 1],\n",
    "  [2, 2, 2],\n",
    "  [3, 3, 3]])\n"
   ]
  },
  {
   "cell_type": "code",
   "execution_count": 105,
   "id": "34d47997",
   "metadata": {},
   "outputs": [
    {
     "data": {
      "text/plain": [
       "[[5, 6, 9], [5, 7, 1]]"
      ]
     },
     "execution_count": 105,
     "metadata": {},
     "output_type": "execute_result"
    }
   ],
   "source": [
    "transpose_matrix([\n",
    "  [5, 5],\n",
    "  [6, 7],\n",
    "  [9, 1]\n",
    "]) \n"
   ]
  },
  {
   "cell_type": "markdown",
   "id": "4658b991",
   "metadata": {},
   "source": [
    "2. Create a function that determines whether a string is a valid hex code.\n",
    "\n",
    "A hex code must begin with a pound key # and is exactly 6 characters in length. Each character must be a digit from 0-9 or an alphabetic character from A-F. All alphabetic characters may be uppercase or lowercase.\n"
   ]
  },
  {
   "cell_type": "code",
   "execution_count": 51,
   "id": "7d5569f9",
   "metadata": {},
   "outputs": [],
   "source": [
    "def is_valid_hex_code(string):\n",
    "    s = list(string)\n",
    "    valid =False\n",
    "    if s[0]=='#' and len(s)==7:\n",
    "        s =s[1:]\n",
    "        for ch in s:\n",
    "            asc = ord(ch.lower())\n",
    "            if ch.isdigit() or 96 < asc< 103:\n",
    "                valid = True\n",
    "            else:\n",
    "                valid =  False\n",
    "                break\n",
    "    else:\n",
    "        valid = False\n",
    "    return valid    "
   ]
  },
  {
   "cell_type": "code",
   "execution_count": 52,
   "id": "702190b9",
   "metadata": {},
   "outputs": [
    {
     "data": {
      "text/plain": [
       "True"
      ]
     },
     "execution_count": 52,
     "metadata": {},
     "output_type": "execute_result"
    }
   ],
   "source": [
    "is_valid_hex_code(\"#CD5C5C\") "
   ]
  },
  {
   "cell_type": "code",
   "execution_count": 53,
   "id": "778700b4",
   "metadata": {},
   "outputs": [
    {
     "data": {
      "text/plain": [
       "True"
      ]
     },
     "execution_count": 53,
     "metadata": {},
     "output_type": "execute_result"
    }
   ],
   "source": [
    "is_valid_hex_code(\"#EAECEE\") "
   ]
  },
  {
   "cell_type": "code",
   "execution_count": 54,
   "id": "017c7ad0",
   "metadata": {},
   "outputs": [
    {
     "data": {
      "text/plain": [
       "True"
      ]
     },
     "execution_count": 54,
     "metadata": {},
     "output_type": "execute_result"
    }
   ],
   "source": [
    "is_valid_hex_code(\"#eaecee\") "
   ]
  },
  {
   "cell_type": "code",
   "execution_count": 55,
   "id": "7375aa2a",
   "metadata": {},
   "outputs": [
    {
     "data": {
      "text/plain": [
       "False"
      ]
     },
     "execution_count": 55,
     "metadata": {},
     "output_type": "execute_result"
    }
   ],
   "source": [
    "is_valid_hex_code(\"#CD5C58C\")"
   ]
  },
  {
   "cell_type": "code",
   "execution_count": 56,
   "id": "dd8be275",
   "metadata": {},
   "outputs": [
    {
     "data": {
      "text/plain": [
       "False"
      ]
     },
     "execution_count": 56,
     "metadata": {},
     "output_type": "execute_result"
    }
   ],
   "source": [
    "is_valid_hex_code(\"#CD5C5Z\") "
   ]
  },
  {
   "cell_type": "code",
   "execution_count": 57,
   "id": "a1fd7783",
   "metadata": {},
   "outputs": [
    {
     "data": {
      "text/plain": [
       "False"
      ]
     },
     "execution_count": 57,
     "metadata": {},
     "output_type": "execute_result"
    }
   ],
   "source": [
    "is_valid_hex_code(\"#CD5C&C\") "
   ]
  },
  {
   "cell_type": "code",
   "execution_count": 58,
   "id": "ede91f02",
   "metadata": {},
   "outputs": [
    {
     "data": {
      "text/plain": [
       "False"
      ]
     },
     "execution_count": 58,
     "metadata": {},
     "output_type": "execute_result"
    }
   ],
   "source": [
    "is_valid_hex_code(\"CD5C5C\") "
   ]
  },
  {
   "cell_type": "markdown",
   "id": "049acae0",
   "metadata": {},
   "source": [
    "3. Given a list of math equations (given as strings), return the percentage of correct answers as a string. Round to the nearest whole number.\n"
   ]
  },
  {
   "cell_type": "code",
   "execution_count": 86,
   "id": "e78f188a",
   "metadata": {},
   "outputs": [],
   "source": [
    "def mark_maths(math_lst):\n",
    "    count = 0\n",
    "    n = len(math_lst)\n",
    "    for el in math_lst:\n",
    "        lhs, rhs = el.split(\"=\")\n",
    "        if '+' in lhs:\n",
    "            a,b =lhs.split(\"+\")\n",
    "            r = int(a)+int(b)\n",
    "        elif '-' in lhs:\n",
    "            a,b =lhs.split(\"-\")\n",
    "            r = int(a)-int(b)\n",
    "        if r == int(rhs):\n",
    "            count+=1\n",
    "    return str(round(count*100/n))+\"%\"        "
   ]
  },
  {
   "cell_type": "code",
   "execution_count": 87,
   "id": "739c2591",
   "metadata": {},
   "outputs": [
    {
     "data": {
      "text/plain": [
       "'75%'"
      ]
     },
     "execution_count": 87,
     "metadata": {},
     "output_type": "execute_result"
    }
   ],
   "source": [
    "mark_maths([\"2+2=4\", \"3+2=5\", \"10-3=3\", \"5+5=10\"]) "
   ]
  },
  {
   "cell_type": "code",
   "execution_count": 88,
   "id": "81abdfda",
   "metadata": {},
   "outputs": [
    {
     "data": {
      "text/plain": [
       "'0%'"
      ]
     },
     "execution_count": 88,
     "metadata": {},
     "output_type": "execute_result"
    }
   ],
   "source": [
    "mark_maths([\"1-2=-2\"])"
   ]
  },
  {
   "cell_type": "code",
   "execution_count": 89,
   "id": "e0fd8dc2",
   "metadata": {},
   "outputs": [
    {
     "data": {
      "text/plain": [
       "'67%'"
      ]
     },
     "execution_count": 89,
     "metadata": {},
     "output_type": "execute_result"
    }
   ],
   "source": [
    "mark_maths([\"2+3=5\", \"4+4=9\", \"3-1=2\"]) "
   ]
  },
  {
   "cell_type": "markdown",
   "id": "92b41c76",
   "metadata": {},
   "source": [
    "4. There are two players, Alice and Bob, each with a 3-by-3 grid. A referee tells Alice to fill out one particular row in the grid (say the second row) by putting either a 1 or a 0 in each box, such that the sum of the numbers in that row is odd. The referee tells Bob to fill out one column in the grid (say the first column) by putting either a 1 or a 0 in each box, such that the sum of the numbers in that column is even.\n",
    "\n",
    "Alice and Bob win the game if Alice’s numbers give an odd sum, Bob’s give an even sum, and (most important) they’ve each written down the same number in the one square where their row and column intersect.\n"
   ]
  },
  {
   "cell_type": "code",
   "execution_count": 104,
   "id": "b04025ac",
   "metadata": {},
   "outputs": [],
   "source": [
    "def magic_square_game(alice,bob):\n",
    "    alice_choice = alice[1][bob[0]-1]\n",
    "    bob_choice = bob[1][alice[0]-1]\n",
    "    if alice_choice == bob_choice:\n",
    "        return True\n",
    "    else:\n",
    "        return False"
   ]
  },
  {
   "cell_type": "code",
   "execution_count": 105,
   "id": "2631318a",
   "metadata": {},
   "outputs": [
    {
     "data": {
      "text/plain": [
       "False"
      ]
     },
     "execution_count": 105,
     "metadata": {},
     "output_type": "execute_result"
    }
   ],
   "source": [
    "magic_square_game([2, \"100\"], [1, \"101\"])"
   ]
  },
  {
   "cell_type": "code",
   "execution_count": 106,
   "id": "f6fdd617",
   "metadata": {},
   "outputs": [
    {
     "data": {
      "text/plain": [
       "True"
      ]
     },
     "execution_count": 106,
     "metadata": {},
     "output_type": "execute_result"
    }
   ],
   "source": [
    "magic_square_game([2, \"001\"], [1, \"101\"]) "
   ]
  },
  {
   "cell_type": "code",
   "execution_count": 107,
   "id": "70a2472f",
   "metadata": {},
   "outputs": [
    {
     "data": {
      "text/plain": [
       "True"
      ]
     },
     "execution_count": 107,
     "metadata": {},
     "output_type": "execute_result"
    }
   ],
   "source": [
    "magic_square_game([3, \"111\"], [2, \"011\"]) "
   ]
  },
  {
   "cell_type": "code",
   "execution_count": 108,
   "id": "fce6faef",
   "metadata": {},
   "outputs": [
    {
     "data": {
      "text/plain": [
       "False"
      ]
     },
     "execution_count": 108,
     "metadata": {},
     "output_type": "execute_result"
    }
   ],
   "source": [
    "magic_square_game([1, \"010\"], [3, \"101\"]) "
   ]
  },
  {
   "cell_type": "markdown",
   "id": "34b9bc36",
   "metadata": {},
   "source": [
    "5. From point A, an object is moving towards point B at constant velocity va (in km/hr). From point B, another object is moving towards point A at constant velocity vb (in km/hr). Knowing this and the distance between point A and B (in km), write a function that returns how much time passes until both objects meet."
   ]
  },
  {
   "cell_type": "code",
   "execution_count": 220,
   "id": "32f3647c",
   "metadata": {},
   "outputs": [],
   "source": [
    "def lets_meet(l,v1 ,v2):\n",
    "    x = (l*v1)/(v1+v2)\n",
    "    time = x/v1\n",
    "    x = str(datetime.timedelta(hours = time))\n",
    "    h,m,s = x.split(':')\n",
    "    s = s.split('.')[0]\n",
    "    return f'{h}h {m}min {int(s)}s'"
   ]
  },
  {
   "cell_type": "code",
   "execution_count": 221,
   "id": "7104abd2",
   "metadata": {},
   "outputs": [
    {
     "data": {
      "text/plain": [
       "'2h 30min 0s'"
      ]
     },
     "execution_count": 221,
     "metadata": {},
     "output_type": "execute_result"
    }
   ],
   "source": [
    "lets_meet(100, 10, 30) "
   ]
  },
  {
   "cell_type": "code",
   "execution_count": 222,
   "id": "e5b14db2",
   "metadata": {},
   "outputs": [
    {
     "data": {
      "text/plain": [
       "'1h 52min 0s'"
      ]
     },
     "execution_count": 222,
     "metadata": {},
     "output_type": "execute_result"
    }
   ],
   "source": [
    "lets_meet(280, 70, 80) "
   ]
  },
  {
   "cell_type": "code",
   "execution_count": 223,
   "id": "92e0eaee",
   "metadata": {},
   "outputs": [
    {
     "data": {
      "text/plain": [
       "'0h 38min 34s'"
      ]
     },
     "execution_count": 223,
     "metadata": {},
     "output_type": "execute_result"
    }
   ],
   "source": [
    "lets_meet(90, 75, 65) "
   ]
  }
 ],
 "metadata": {
  "kernelspec": {
   "display_name": "Python 3",
   "language": "python",
   "name": "python3"
  },
  "language_info": {
   "codemirror_mode": {
    "name": "ipython",
    "version": 3
   },
   "file_extension": ".py",
   "mimetype": "text/x-python",
   "name": "python",
   "nbconvert_exporter": "python",
   "pygments_lexer": "ipython3",
   "version": "3.8.5"
  }
 },
 "nbformat": 4,
 "nbformat_minor": 5
}
