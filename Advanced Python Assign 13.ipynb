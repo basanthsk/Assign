{
 "cells": [
  {
   "cell_type": "markdown",
   "id": "2a856fb9",
   "metadata": {},
   "source": [
    "1. Create a function that takes a list and string. The function should remove the letters in the string from the list, and return the list."
   ]
  },
  {
   "cell_type": "code",
   "execution_count": 4,
   "id": "d0e79157",
   "metadata": {},
   "outputs": [],
   "source": [
    "def remove_letters(lst,word):\n",
    "    for ch in word:\n",
    "        if ch in lst:   \n",
    "            lst.pop(lst.index(ch))\n",
    "    return lst        \n",
    "        \n",
    "    "
   ]
  },
  {
   "cell_type": "code",
   "execution_count": 5,
   "id": "0162a11d",
   "metadata": {},
   "outputs": [
    {
     "data": {
      "text/plain": [
       "['w']"
      ]
     },
     "execution_count": 5,
     "metadata": {},
     "output_type": "execute_result"
    }
   ],
   "source": [
    "remove_letters([\"s\", \"t\", \"r\", \"i\", \"n\", \"g\", \"w\"], \"string\") "
   ]
  },
  {
   "cell_type": "code",
   "execution_count": 6,
   "id": "971a7624",
   "metadata": {},
   "outputs": [
    {
     "data": {
      "text/plain": [
       "['b', 'g', 'w']"
      ]
     },
     "execution_count": 6,
     "metadata": {},
     "output_type": "execute_result"
    }
   ],
   "source": [
    "remove_letters([\"b\", \"b\", \"l\", \"l\", \"g\", \"n\", \"o\", \"a\", \"w\"], \"balloon\") "
   ]
  },
  {
   "cell_type": "code",
   "execution_count": 7,
   "id": "3c7ab273",
   "metadata": {},
   "outputs": [
    {
     "data": {
      "text/plain": [
       "[]"
      ]
     },
     "execution_count": 7,
     "metadata": {},
     "output_type": "execute_result"
    }
   ],
   "source": [
    "remove_letters([\"d\", \"b\", \"t\", \"e\", \"a\", \"i\"], \"edabit\")"
   ]
  },
  {
   "cell_type": "markdown",
   "id": "5f4bfd0a",
   "metadata": {},
   "source": [
    "2. A block sequence in three dimensions. We can write a formula for this one:"
   ]
  },
  {
   "cell_type": "code",
   "execution_count": 21,
   "id": "3ffcfe71",
   "metadata": {},
   "outputs": [],
   "source": [
    "def blocks(n):\n",
    "    a =1\n",
    "    b= 11\n",
    "    c= -2\n",
    "    return int((a*n**2+b*n+c)/2)"
   ]
  },
  {
   "cell_type": "code",
   "execution_count": 25,
   "id": "2956ad1d",
   "metadata": {},
   "outputs": [
    {
     "data": {
      "text/plain": [
       "5"
      ]
     },
     "execution_count": 25,
     "metadata": {},
     "output_type": "execute_result"
    }
   ],
   "source": [
    "blocks(1) "
   ]
  },
  {
   "cell_type": "code",
   "execution_count": 26,
   "id": "5bccc4f9",
   "metadata": {},
   "outputs": [
    {
     "data": {
      "text/plain": [
       "12"
      ]
     },
     "execution_count": 26,
     "metadata": {},
     "output_type": "execute_result"
    }
   ],
   "source": [
    "blocks(2) "
   ]
  },
  {
   "cell_type": "code",
   "execution_count": 27,
   "id": "7c3b11ac",
   "metadata": {},
   "outputs": [
    {
     "data": {
      "text/plain": [
       "20"
      ]
     },
     "execution_count": 27,
     "metadata": {},
     "output_type": "execute_result"
    }
   ],
   "source": [
    "blocks(3) "
   ]
  },
  {
   "cell_type": "code",
   "execution_count": 28,
   "id": "a6a19110",
   "metadata": {},
   "outputs": [
    {
     "data": {
      "text/plain": [
       "29"
      ]
     },
     "execution_count": 28,
     "metadata": {},
     "output_type": "execute_result"
    }
   ],
   "source": [
    "blocks(4) "
   ]
  },
  {
   "cell_type": "code",
   "execution_count": 29,
   "id": "cbcf7061",
   "metadata": {},
   "outputs": [
    {
     "data": {
      "text/plain": [
       "39"
      ]
     },
     "execution_count": 29,
     "metadata": {},
     "output_type": "execute_result"
    }
   ],
   "source": [
    "blocks(5) "
   ]
  },
  {
   "cell_type": "markdown",
   "id": "da55efc6",
   "metadata": {},
   "source": [
    "3. Create a function that subtracts one positive integer from another, without using any arithmetic operators such as -, %, /, +, etc."
   ]
  },
  {
   "cell_type": "code",
   "execution_count": 14,
   "id": "a7a4f56c",
   "metadata": {},
   "outputs": [],
   "source": [
    "def my_sub(a,b):\n",
    "        borrow = (~a) & b\n",
    "        d = a ^ b\n",
    "        b = borrow << 1\n",
    "        return b"
   ]
  },
  {
   "cell_type": "code",
   "execution_count": 15,
   "id": "f2642c0a",
   "metadata": {},
   "outputs": [
    {
     "data": {
      "text/plain": [
       "16"
      ]
     },
     "execution_count": 15,
     "metadata": {},
     "output_type": "execute_result"
    }
   ],
   "source": [
    "my_sub(5, 9) "
   ]
  },
  {
   "cell_type": "code",
   "execution_count": 16,
   "id": "d9919832",
   "metadata": {},
   "outputs": [
    {
     "data": {
      "text/plain": [
       "0"
      ]
     },
     "execution_count": 16,
     "metadata": {},
     "output_type": "execute_result"
    }
   ],
   "source": [
    "my_sub(12,8) "
   ]
  },
  {
   "cell_type": "markdown",
   "id": "59e5d785",
   "metadata": {},
   "source": [
    "4. Create a function that takes a string containing money in dollars and pounds sterling (seperated by comma) and returns the sum of dollar bills only, as an integer."
   ]
  },
  {
   "cell_type": "code",
   "execution_count": 57,
   "id": "d1d0198f",
   "metadata": {},
   "outputs": [],
   "source": [
    "def add_bill(string):\n",
    "    sum = 0\n",
    "    lst = string.split(',')\n",
    "    for el in lst:\n",
    "        if 'k'in el:\n",
    "            el=el.replace('k', '000')\n",
    "        if 'd' in el:\n",
    "            sum+=int(el[1:])\n",
    "    return sum        "
   ]
  },
  {
   "cell_type": "code",
   "execution_count": 58,
   "id": "f76d1a6a",
   "metadata": {},
   "outputs": [
    {
     "data": {
      "text/plain": [
       "70"
      ]
     },
     "execution_count": 58,
     "metadata": {},
     "output_type": "execute_result"
    }
   ],
   "source": [
    "add_bill(\"d20,p40,p60,d50\") "
   ]
  },
  {
   "cell_type": "code",
   "execution_count": 59,
   "id": "1b474bce",
   "metadata": {},
   "outputs": [
    {
     "data": {
      "text/plain": [
       "170"
      ]
     },
     "execution_count": 59,
     "metadata": {},
     "output_type": "execute_result"
    }
   ],
   "source": [
    "add_bill(\"p30,d20,p60,d150,p360\") "
   ]
  },
  {
   "cell_type": "code",
   "execution_count": 60,
   "id": "803d109a",
   "metadata": {},
   "outputs": [
    {
     "data": {
      "text/plain": [
       "2200"
      ]
     },
     "execution_count": 60,
     "metadata": {},
     "output_type": "execute_result"
    }
   ],
   "source": [
    "add_bill(\"p30,d2k,p60,d200,p360\") "
   ]
  },
  {
   "cell_type": "markdown",
   "id": "8038ee8e",
   "metadata": {},
   "source": [
    "5. Create a function that flips a horizontal list into a vertical list, and a vertical list into a horizontal list.\n",
    "\n",
    "In other words, take an 1 x n list (1 row + n columns) and flip it into a n x 1 list (n rows and 1 column), and vice versa.\n"
   ]
  },
  {
   "cell_type": "code",
   "execution_count": 69,
   "id": "678695d5",
   "metadata": {},
   "outputs": [],
   "source": [
    "def flip_list(lst):\n",
    "    flip =[]\n",
    "    for el in lst:\n",
    "        if el is list:\n",
    "            print(el[0])\n",
    "        else:\n",
    "            flip.append([el])\n",
    "    return flip        \n",
    "            "
   ]
  },
  {
   "cell_type": "code",
   "execution_count": 70,
   "id": "3ea9a1c8",
   "metadata": {},
   "outputs": [
    {
     "data": {
      "text/plain": [
       "[[1], [2], [3], [4]]"
      ]
     },
     "execution_count": 70,
     "metadata": {},
     "output_type": "execute_result"
    }
   ],
   "source": [
    "flip_list([1, 2, 3, 4]) "
   ]
  },
  {
   "cell_type": "code",
   "execution_count": 71,
   "id": "4e898438",
   "metadata": {},
   "outputs": [
    {
     "data": {
      "text/plain": [
       "[[[5]], [[6]], [[9]]]"
      ]
     },
     "execution_count": 71,
     "metadata": {},
     "output_type": "execute_result"
    }
   ],
   "source": [
    "flip_list([[5], [6], [9]]) "
   ]
  },
  {
   "cell_type": "code",
   "execution_count": null,
   "id": "cee00b2b",
   "metadata": {},
   "outputs": [],
   "source": []
  }
 ],
 "metadata": {
  "kernelspec": {
   "display_name": "Python 3",
   "language": "python",
   "name": "python3"
  },
  "language_info": {
   "codemirror_mode": {
    "name": "ipython",
    "version": 3
   },
   "file_extension": ".py",
   "mimetype": "text/x-python",
   "name": "python",
   "nbconvert_exporter": "python",
   "pygments_lexer": "ipython3",
   "version": "3.8.5"
  }
 },
 "nbformat": 4,
 "nbformat_minor": 5
}
