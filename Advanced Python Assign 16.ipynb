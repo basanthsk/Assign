{
 "cells": [
  {
   "cell_type": "markdown",
   "id": "f849f4b9",
   "metadata": {},
   "source": [
    "1. Rondo Form is a type of musical structure, in which there is a recurring theme/refrain, notated as A. Here are the rules for valid rondo forms:\n",
    "\n",
    "   - Rondo forms always start and end with an A section.\n",
    "   - In between the A sections, there should be contrasting sections notated as B, then C, then D, etc... No letter should be skipped.\n",
    "   - There shouldn't be any repeats in the sequence (such as ABBACCA).\n",
    "\n",
    "Create a function which validates whether a given string is a valid Rondo Form\n"
   ]
  },
  {
   "cell_type": "code",
   "execution_count": 43,
   "id": "49455adf",
   "metadata": {},
   "outputs": [],
   "source": [
    "def valid_rondo(string):\n",
    "    string = list(string)\n",
    "    n = len(string)\n",
    "    c = 66\n",
    "    rondo = False\n",
    "    for i in range(n):\n",
    "        if i%2!= 0:\n",
    "            if ord(string[i]) == c:\n",
    "                rondo = True\n",
    "            else:\n",
    "                rondo = False\n",
    "                break\n",
    "            c+=1\n",
    "                \n",
    "                \n",
    "    return rondo     "
   ]
  },
  {
   "cell_type": "code",
   "execution_count": 44,
   "id": "31c37c1b",
   "metadata": {},
   "outputs": [
    {
     "data": {
      "text/plain": [
       "True"
      ]
     },
     "execution_count": 44,
     "metadata": {},
     "output_type": "execute_result"
    }
   ],
   "source": [
    "valid_rondo(\"ABACADAEAFAGAHAIAJA\") "
   ]
  },
  {
   "cell_type": "code",
   "execution_count": 45,
   "id": "b4489917",
   "metadata": {},
   "outputs": [
    {
     "data": {
      "text/plain": [
       "True"
      ]
     },
     "execution_count": 45,
     "metadata": {},
     "output_type": "execute_result"
    }
   ],
   "source": [
    "valid_rondo(\"ABA\")"
   ]
  },
  {
   "cell_type": "code",
   "execution_count": 46,
   "id": "a51acd45",
   "metadata": {},
   "outputs": [
    {
     "data": {
      "text/plain": [
       "False"
      ]
     },
     "execution_count": 46,
     "metadata": {},
     "output_type": "execute_result"
    }
   ],
   "source": [
    "valid_rondo(\"ACAC\") "
   ]
  },
  {
   "cell_type": "code",
   "execution_count": 47,
   "id": "5062bf82",
   "metadata": {},
   "outputs": [
    {
     "data": {
      "text/plain": [
       "False"
      ]
     },
     "execution_count": 47,
     "metadata": {},
     "output_type": "execute_result"
    }
   ],
   "source": [
    "valid_rondo(\"A\")"
   ]
  },
  {
   "cell_type": "code",
   "execution_count": 48,
   "id": "395e3512",
   "metadata": {},
   "outputs": [
    {
     "data": {
      "text/plain": [
       "False"
      ]
     },
     "execution_count": 48,
     "metadata": {},
     "output_type": "execute_result"
    }
   ],
   "source": [
    "valid_rondo(\"ABBACCA\") "
   ]
  },
  {
   "cell_type": "markdown",
   "id": "60e3ecca",
   "metadata": {},
   "source": [
    "2. Create a function that returns the whole of the first sentence which contains a specific word. Include the full stop at the end of the sentence."
   ]
  },
  {
   "cell_type": "code",
   "execution_count": 50,
   "id": "39295ca2",
   "metadata": {},
   "outputs": [],
   "source": [
    "txt = \"I have a cat. I have a mat. Things are going swell.\""
   ]
  },
  {
   "cell_type": "code",
   "execution_count": 80,
   "id": "bbdc7478",
   "metadata": {},
   "outputs": [],
   "source": [
    "def sentence_searcher(txt, string):\n",
    "    words = txt.split('.')\n",
    "    for s in words:\n",
    "        if s.lower().find(string.lower()) != -1:\n",
    "            return s\n",
    "        \n",
    "    "
   ]
  },
  {
   "cell_type": "code",
   "execution_count": 81,
   "id": "2b47bab3",
   "metadata": {},
   "outputs": [
    {
     "data": {
      "text/plain": [
       "'I have a cat'"
      ]
     },
     "execution_count": 81,
     "metadata": {},
     "output_type": "execute_result"
    }
   ],
   "source": [
    "sentence_searcher(txt, \"have\") "
   ]
  },
  {
   "cell_type": "code",
   "execution_count": 82,
   "id": "9969b695",
   "metadata": {},
   "outputs": [
    {
     "data": {
      "text/plain": [
       "' I have a mat'"
      ]
     },
     "execution_count": 82,
     "metadata": {},
     "output_type": "execute_result"
    }
   ],
   "source": [
    "sentence_searcher(txt, \"MAT\") "
   ]
  },
  {
   "cell_type": "code",
   "execution_count": 83,
   "id": "3cd9440e",
   "metadata": {},
   "outputs": [
    {
     "data": {
      "text/plain": [
       "' Things are going swell'"
      ]
     },
     "execution_count": 83,
     "metadata": {},
     "output_type": "execute_result"
    }
   ],
   "source": [
    "sentence_searcher(txt, \"things\") "
   ]
  },
  {
   "cell_type": "code",
   "execution_count": 84,
   "id": "6e2320f5",
   "metadata": {},
   "outputs": [],
   "source": [
    "sentence_searcher(txt, \"flat\") "
   ]
  },
  {
   "cell_type": "markdown",
   "id": "400a2ba3",
   "metadata": {},
   "source": [
    "3. Given a number, find the \"round \"of each digit of the number. An integer is called \"round\" if all its digits except the leftmost (most significant) are equal to zero."
   ]
  },
  {
   "cell_type": "code",
   "execution_count": 137,
   "id": "a2d70365",
   "metadata": {},
   "outputs": [],
   "source": [
    "def sum_round(num):\n",
    "    i = 0\n",
    "    n = len(str(num)) \n",
    "    l =[]\n",
    "    while(i<n):\n",
    "        r = num % 10 \n",
    "        d = num//10\n",
    "        num = d\n",
    "        if r!=0:\n",
    "            l.append(str(r*10**i))\n",
    "        i+=1\n",
    "    return ' '.join(l)\n",
    "        "
   ]
  },
  {
   "cell_type": "code",
   "execution_count": 138,
   "id": "c19514aa",
   "metadata": {},
   "outputs": [
    {
     "data": {
      "text/plain": [
       "'1 100'"
      ]
     },
     "execution_count": 138,
     "metadata": {},
     "output_type": "execute_result"
    }
   ],
   "source": [
    "sum_round(101) "
   ]
  },
  {
   "cell_type": "code",
   "execution_count": 139,
   "id": "e65a5857",
   "metadata": {},
   "outputs": [
    {
     "data": {
      "text/plain": [
       "'4 30 200 1000'"
      ]
     },
     "execution_count": 139,
     "metadata": {},
     "output_type": "execute_result"
    }
   ],
   "source": [
    "sum_round(1234) "
   ]
  },
  {
   "cell_type": "code",
   "execution_count": 140,
   "id": "11a27fcf",
   "metadata": {},
   "outputs": [
    {
     "data": {
      "text/plain": [
       "'10 200 4000 50000'"
      ]
     },
     "execution_count": 140,
     "metadata": {},
     "output_type": "execute_result"
    }
   ],
   "source": [
    "sum_round(54210) "
   ]
  },
  {
   "cell_type": "markdown",
   "id": "81f89422",
   "metadata": {},
   "source": [
    "4. Your task, is to create N x N multiplication table, of size n provided in parameter.\n",
    "\n",
    "For example, when n is 5, the multiplication table is:\n"
   ]
  },
  {
   "cell_type": "code",
   "execution_count": 146,
   "id": "9e074107",
   "metadata": {},
   "outputs": [],
   "source": [
    "def multiplication_table(n):\n",
    "    m =[]\n",
    "    for i in range(1,n+1):\n",
    "        t=[]\n",
    "        for j in range(1,n+1):\n",
    "            t.append(i*j)\n",
    "        m.append(t)\n",
    "    return m      "
   ]
  },
  {
   "cell_type": "code",
   "execution_count": 147,
   "id": "d7e8ad6f",
   "metadata": {},
   "outputs": [
    {
     "data": {
      "text/plain": [
       "[[1]]"
      ]
     },
     "execution_count": 147,
     "metadata": {},
     "output_type": "execute_result"
    }
   ],
   "source": [
    "multiplication_table(1) "
   ]
  },
  {
   "cell_type": "code",
   "execution_count": 148,
   "id": "50035dbb",
   "metadata": {},
   "outputs": [
    {
     "data": {
      "text/plain": [
       "[[1, 2, 3], [2, 4, 6], [3, 6, 9]]"
      ]
     },
     "execution_count": 148,
     "metadata": {},
     "output_type": "execute_result"
    }
   ],
   "source": [
    "multiplication_table(3) "
   ]
  },
  {
   "cell_type": "markdown",
   "id": "dd7ea8f0",
   "metadata": {},
   "source": [
    "5. Create a function that returns True if two lines rhyme and False otherwise. For the purposes of this exercise, two lines rhyme if the last word from each sentence contains the same vowels."
   ]
  },
  {
   "cell_type": "code",
   "execution_count": 161,
   "id": "b585a81b",
   "metadata": {},
   "outputs": [],
   "source": [
    "def does_rhyme(line1,line2):\n",
    "    vowels = '\"AaEeIiOoUu\"'\n",
    "    v1 = []\n",
    "    v2 = []\n",
    "    last2 = line2.split()[-1]\n",
    "    for ch in line1.split()[-1]:\n",
    "            if ch in vowels:\n",
    "                v1.append(ch.lower())\n",
    "    for ch in line2.split()[-1]:\n",
    "        if ch in vowels:\n",
    "            v2.append(ch.lower())\n",
    "    return v1==v2"
   ]
  },
  {
   "cell_type": "code",
   "execution_count": 162,
   "id": "4ca2b669",
   "metadata": {},
   "outputs": [
    {
     "data": {
      "text/plain": [
       "True"
      ]
     },
     "execution_count": 162,
     "metadata": {},
     "output_type": "execute_result"
    }
   ],
   "source": [
    "does_rhyme(\"Sam I am!\", \"Green eggs and ham.\")"
   ]
  },
  {
   "cell_type": "code",
   "execution_count": 163,
   "id": "fc9c609b",
   "metadata": {},
   "outputs": [
    {
     "data": {
      "text/plain": [
       "False"
      ]
     },
     "execution_count": 163,
     "metadata": {},
     "output_type": "execute_result"
    }
   ],
   "source": [
    "does_rhyme(\"You are off to the races\", \"a splendid day.\")"
   ]
  },
  {
   "cell_type": "code",
   "execution_count": 164,
   "id": "3740c911",
   "metadata": {},
   "outputs": [
    {
     "data": {
      "text/plain": [
       "True"
      ]
     },
     "execution_count": 164,
     "metadata": {},
     "output_type": "execute_result"
    }
   ],
   "source": [
    "does_rhyme(\"Sam I am!\", \"Green eggs and HAM.\") "
   ]
  },
  {
   "cell_type": "code",
   "execution_count": 165,
   "id": "b23e9ab0",
   "metadata": {},
   "outputs": [
    {
     "data": {
      "text/plain": [
       "False"
      ]
     },
     "execution_count": 165,
     "metadata": {},
     "output_type": "execute_result"
    }
   ],
   "source": [
    "does_rhyme(\"and frequently do?\", \"you gotta move.\")"
   ]
  },
  {
   "cell_type": "code",
   "execution_count": null,
   "id": "ee15dcc8",
   "metadata": {},
   "outputs": [],
   "source": []
  }
 ],
 "metadata": {
  "kernelspec": {
   "display_name": "Python 3",
   "language": "python",
   "name": "python3"
  },
  "language_info": {
   "codemirror_mode": {
    "name": "ipython",
    "version": 3
   },
   "file_extension": ".py",
   "mimetype": "text/x-python",
   "name": "python",
   "nbconvert_exporter": "python",
   "pygments_lexer": "ipython3",
   "version": "3.8.5"
  }
 },
 "nbformat": 4,
 "nbformat_minor": 5
}
