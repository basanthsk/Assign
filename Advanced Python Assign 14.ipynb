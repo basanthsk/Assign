{
 "cells": [
  {
   "cell_type": "markdown",
   "id": "2f59b3e8",
   "metadata": {},
   "source": [
    "1. Given a list of numbers, create a function that removes 25% from every number in the list except the smallest number, and adds the total amount removed to the smallest number."
   ]
  },
  {
   "cell_type": "code",
   "execution_count": 11,
   "id": "272c2647",
   "metadata": {},
   "outputs": [],
   "source": [
    "def show_the_love(lst):\n",
    "    sum = 0\n",
    "    small = min(lst)\n",
    "    for el in lst:\n",
    "        if el != small:\n",
    "            p = el*0.25\n",
    "            i = lst.index(el)\n",
    "            lst[i]-= p\n",
    "            sum += p\n",
    "    j = lst.index(small)\n",
    "    lst[j]+=sum\n",
    "    return lst"
   ]
  },
  {
   "cell_type": "code",
   "execution_count": 12,
   "id": "64cab6bb",
   "metadata": {},
   "outputs": [
    {
     "data": {
      "text/plain": [
       "[3.0, 3.0, 3.0]"
      ]
     },
     "execution_count": 12,
     "metadata": {},
     "output_type": "execute_result"
    }
   ],
   "source": [
    "show_the_love([4, 1, 4]) "
   ]
  },
  {
   "cell_type": "code",
   "execution_count": 13,
   "id": "0bd6db0d",
   "metadata": {},
   "outputs": [
    {
     "data": {
      "text/plain": [
       "[12.0, 7.5, 14.5]"
      ]
     },
     "execution_count": 13,
     "metadata": {},
     "output_type": "execute_result"
    }
   ],
   "source": [
    "show_the_love([16, 10, 8]) "
   ]
  },
  {
   "cell_type": "code",
   "execution_count": 14,
   "id": "87561bc1",
   "metadata": {},
   "outputs": [
    {
     "data": {
      "text/plain": [
       "[27.0, 75.0]"
      ]
     },
     "execution_count": 14,
     "metadata": {},
     "output_type": "execute_result"
    }
   ],
   "source": [
    "show_the_love([2, 100]) "
   ]
  },
  {
   "cell_type": "markdown",
   "id": "0df2753c",
   "metadata": {},
   "source": [
    "\n",
    "2. Create a function that takes in two words as input and returns a list of three elements, in the following order:\n",
    "\n",
    "   1.Shared letters between two words.\n",
    "   2.Letters unique to word 1.\n",
    "   3.Letters unique to word 2.\n",
    "\n",
    "Each element should have unique letters, and have each letter be alphabetically sorted.\n"
   ]
  },
  {
   "cell_type": "code",
   "execution_count": 56,
   "id": "f4de765b",
   "metadata": {},
   "outputs": [],
   "source": [
    "def letters(str1,str2 ):\n",
    "    str1 = set(str1)\n",
    "    str2 = set(str2)\n",
    "    shared =''.join(sorted(str1&str2))\n",
    "    unique1 = ''.join(sorted(str1-str2))\n",
    "    unique2 = ''.join(sorted(str2-str1))\n",
    "    return [shared,unique1,unique2]"
   ]
  },
  {
   "cell_type": "code",
   "execution_count": 57,
   "id": "54b503ba",
   "metadata": {},
   "outputs": [
    {
     "data": {
      "text/plain": [
       "['aps', 'hr', 'o']"
      ]
     },
     "execution_count": 57,
     "metadata": {},
     "output_type": "execute_result"
    }
   ],
   "source": [
    "letters(\"sharp\", \"soap\") "
   ]
  },
  {
   "cell_type": "code",
   "execution_count": 58,
   "id": "6ab2f70e",
   "metadata": {},
   "outputs": [
    {
     "data": {
      "text/plain": [
       "['bdor', 'a', 'e']"
      ]
     },
     "execution_count": 58,
     "metadata": {},
     "output_type": "execute_result"
    }
   ],
   "source": [
    "letters(\"board\", \"bored\") "
   ]
  },
  {
   "cell_type": "code",
   "execution_count": 59,
   "id": "d8495fbe",
   "metadata": {},
   "outputs": [
    {
     "data": {
      "text/plain": [
       "['enp', 'ahis', 'lov']"
      ]
     },
     "execution_count": 59,
     "metadata": {},
     "output_type": "execute_result"
    }
   ],
   "source": [
    "letters(\"happiness\", \"envelope\") "
   ]
  },
  {
   "cell_type": "code",
   "execution_count": 60,
   "id": "a7c1975f",
   "metadata": {},
   "outputs": [
    {
     "data": {
      "text/plain": [
       "['flu', 'ekr', 'y']"
      ]
     },
     "execution_count": 60,
     "metadata": {},
     "output_type": "execute_result"
    }
   ],
   "source": [
    "letters(\"kerfuffle\", \"fluffy\")"
   ]
  },
  {
   "cell_type": "code",
   "execution_count": 61,
   "id": "3d21b6bb",
   "metadata": {},
   "outputs": [
    {
     "data": {
      "text/plain": [
       "['ahm', 'ct', '']"
      ]
     },
     "execution_count": 61,
     "metadata": {},
     "output_type": "execute_result"
    }
   ],
   "source": [
    "letters(\"match\", \"ham\")"
   ]
  },
  {
   "cell_type": "markdown",
   "id": "2403a02a",
   "metadata": {},
   "source": [
    "3. Write a function that pairs the first number in an array with the last, the second number with the second to last, etc."
   ]
  },
  {
   "cell_type": "code",
   "execution_count": 78,
   "id": "e8947b0c",
   "metadata": {},
   "outputs": [],
   "source": [
    "def pairs(lst):\n",
    "    p = []\n",
    "    j = len(lst)-1\n",
    "    i= 0\n",
    "    while i<=j:\n",
    "        p.append([lst[i],lst[j]])\n",
    "        i+=1\n",
    "        j-=1\n",
    "    return p      "
   ]
  },
  {
   "cell_type": "code",
   "execution_count": 79,
   "id": "3de09d19",
   "metadata": {},
   "outputs": [
    {
     "data": {
      "text/plain": [
       "[[1, 7], [2, 6], [3, 5], [4, 4]]"
      ]
     },
     "execution_count": 79,
     "metadata": {},
     "output_type": "execute_result"
    }
   ],
   "source": [
    "pairs([1, 2, 3, 4, 5, 6, 7])"
   ]
  },
  {
   "cell_type": "code",
   "execution_count": 80,
   "id": "7e158af1",
   "metadata": {},
   "outputs": [
    {
     "data": {
      "text/plain": [
       "[[1, 6], [2, 5], [3, 4]]"
      ]
     },
     "execution_count": 80,
     "metadata": {},
     "output_type": "execute_result"
    }
   ],
   "source": [
    "pairs([1, 2, 3, 4, 5, 6]) "
   ]
  },
  {
   "cell_type": "code",
   "execution_count": 81,
   "id": "77b3aabf",
   "metadata": {},
   "outputs": [
    {
     "data": {
      "text/plain": [
       "[[5, 2], [9, 1], [8, 8]]"
      ]
     },
     "execution_count": 81,
     "metadata": {},
     "output_type": "execute_result"
    }
   ],
   "source": [
    "pairs([5, 9, 8, 1, 2]) "
   ]
  },
  {
   "cell_type": "code",
   "execution_count": 82,
   "id": "6ffb3888",
   "metadata": {},
   "outputs": [
    {
     "data": {
      "text/plain": [
       "[]"
      ]
     },
     "execution_count": 82,
     "metadata": {},
     "output_type": "execute_result"
    }
   ],
   "source": [
    "pairs([]) "
   ]
  },
  {
   "cell_type": "markdown",
   "id": "8830f894",
   "metadata": {},
   "source": [
    "4. Write a function that adds two numbers. The catch, however, is that the numbers will be strings."
   ]
  },
  {
   "cell_type": "code",
   "execution_count": 108,
   "id": "0e6e3b39",
   "metadata": {},
   "outputs": [],
   "source": [
    "def add_str_nums(a,b):\n",
    "    if not a:\n",
    "        a='0'\n",
    "    if not b:\n",
    "        b='0'\n",
    "    if a.isdigit() and b.isdigit():\n",
    "        return str(int(a)+int(b))\n",
    "    else:\n",
    "        return -1"
   ]
  },
  {
   "cell_type": "code",
   "execution_count": 109,
   "id": "93299300",
   "metadata": {},
   "outputs": [
    {
     "data": {
      "text/plain": [
       "'9'"
      ]
     },
     "execution_count": 109,
     "metadata": {},
     "output_type": "execute_result"
    }
   ],
   "source": [
    "add_str_nums(\"4\", \"5\") "
   ]
  },
  {
   "cell_type": "code",
   "execution_count": 110,
   "id": "d52cf721",
   "metadata": {},
   "outputs": [
    {
     "data": {
      "text/plain": [
       "-1"
      ]
     },
     "execution_count": 110,
     "metadata": {},
     "output_type": "execute_result"
    }
   ],
   "source": [
    "add_str_nums(\"abcdefg\", \"3\") "
   ]
  },
  {
   "cell_type": "code",
   "execution_count": 111,
   "id": "385c0d0c",
   "metadata": {},
   "outputs": [
    {
     "data": {
      "text/plain": [
       "'1'"
      ]
     },
     "execution_count": 111,
     "metadata": {},
     "output_type": "execute_result"
    }
   ],
   "source": [
    "add_str_nums(\"1\", \"\") "
   ]
  },
  {
   "cell_type": "code",
   "execution_count": 112,
   "id": "43bb2819",
   "metadata": {},
   "outputs": [
    {
     "data": {
      "text/plain": [
       "'1874682736267235927391936562808774986'"
      ]
     },
     "execution_count": 112,
     "metadata": {},
     "output_type": "execute_result"
    }
   ],
   "source": [
    "add_str_nums(\"1874682736267235927359283579235789257\", \"32652983572985729\") "
   ]
  },
  {
   "cell_type": "markdown",
   "id": "34525eed",
   "metadata": {},
   "source": [
    "5. lPaeesh le pemu mnxit ehess rtnisg! Oh, sorry, that was supposed to say: Please help me unmix these strings!\n",
    "\n",
    "Somehow my strings have all become mixed up; every pair of characters has been swapped. Help me undo this so I can understand my strings again\n"
   ]
  },
  {
   "cell_type": "code",
   "execution_count": 3,
   "id": "03879a4c",
   "metadata": {},
   "outputs": [],
   "source": [
    "def unmix(string):\n",
    "    lst = list(string)\n",
    "    n = len(lst)\n",
    "    for i in range(n):\n",
    "        if i%2 !=0:\n",
    "            lst[i-1],lst[i] = lst[i],lst[i-1]\n",
    "    return ''.join(lst)        \n",
    "            "
   ]
  },
  {
   "cell_type": "code",
   "execution_count": 4,
   "id": "e8fa61d9",
   "metadata": {},
   "outputs": [
    {
     "data": {
      "text/plain": [
       "'214365'"
      ]
     },
     "execution_count": 4,
     "metadata": {},
     "output_type": "execute_result"
    }
   ],
   "source": [
    "unmix(\"123456\") "
   ]
  },
  {
   "cell_type": "code",
   "execution_count": 5,
   "id": "d62f9554",
   "metadata": {},
   "outputs": [
    {
     "data": {
      "text/plain": [
       "'This is a mixed up string.'"
      ]
     },
     "execution_count": 5,
     "metadata": {},
     "output_type": "execute_result"
    }
   ],
   "source": [
    "unmix(\"hTsii  s aimex dpus rtni.g\") "
   ]
  },
  {
   "cell_type": "code",
   "execution_count": 6,
   "id": "04952481",
   "metadata": {},
   "outputs": [
    {
     "data": {
      "text/plain": [
       "'abcde'"
      ]
     },
     "execution_count": 6,
     "metadata": {},
     "output_type": "execute_result"
    }
   ],
   "source": [
    "unmix(\"badce\") "
   ]
  },
  {
   "cell_type": "code",
   "execution_count": null,
   "id": "809ceb04",
   "metadata": {},
   "outputs": [],
   "source": []
  }
 ],
 "metadata": {
  "kernelspec": {
   "display_name": "Python 3",
   "language": "python",
   "name": "python3"
  },
  "language_info": {
   "codemirror_mode": {
    "name": "ipython",
    "version": 3
   },
   "file_extension": ".py",
   "mimetype": "text/x-python",
   "name": "python",
   "nbconvert_exporter": "python",
   "pygments_lexer": "ipython3",
   "version": "3.8.5"
  }
 },
 "nbformat": 4,
 "nbformat_minor": 5
}
