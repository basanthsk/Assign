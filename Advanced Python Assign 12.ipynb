{
 "cells": [
  {
   "cell_type": "markdown",
   "id": "87737229",
   "metadata": {},
   "source": [
    "1. For this challenge, forget how to add two numbers together. The best explanation on what to do for this function is this meme:"
   ]
  },
  {
   "cell_type": "code",
   "execution_count": 73,
   "id": "e2b56742",
   "metadata": {},
   "outputs": [],
   "source": [
    "def meme_sum(a,b):\n",
    "    a = list(map(int,str(a)))\n",
    "    b = list(map(int,str(b)))\n",
    "    n = len(a)\n",
    "    m = len(b)\n",
    "    if m == n:\n",
    "        r = map(lambda x, y: str(x + y), a, b)\n",
    "    elif m > n:\n",
    "        a = (m-n)*[0]+a\n",
    "        r = map(lambda x, y: str(x + y), a, b)\n",
    "    else:\n",
    "        b = (n-m)*[0]+b\n",
    "        r = map(lambda x, y: str(x + y), a, b)\n",
    "    \n",
    "    return int(''.join(r))"
   ]
  },
  {
   "cell_type": "code",
   "execution_count": 74,
   "id": "82bc30a0",
   "metadata": {},
   "outputs": [
    {
     "data": {
      "text/plain": [
       "515"
      ]
     },
     "execution_count": 74,
     "metadata": {},
     "output_type": "execute_result"
    }
   ],
   "source": [
    "meme_sum(26, 39) "
   ]
  },
  {
   "cell_type": "code",
   "execution_count": 75,
   "id": "841af45d",
   "metadata": {},
   "outputs": [
    {
     "data": {
      "text/plain": [
       "1103"
      ]
     },
     "execution_count": 75,
     "metadata": {},
     "output_type": "execute_result"
    }
   ],
   "source": [
    "meme_sum(122, 81) "
   ]
  },
  {
   "cell_type": "code",
   "execution_count": 76,
   "id": "22f2eb03",
   "metadata": {},
   "outputs": [
    {
     "data": {
      "text/plain": [
       "31499"
      ]
     },
     "execution_count": 76,
     "metadata": {},
     "output_type": "execute_result"
    }
   ],
   "source": [
    "meme_sum(1222, 30277) "
   ]
  },
  {
   "cell_type": "markdown",
   "id": "cd784288",
   "metadata": {},
   "source": [
    "2. Given an integer, create a function that returns the next prime. If the number is prime, return the number itself."
   ]
  },
  {
   "cell_type": "code",
   "execution_count": 103,
   "id": "6e3c450b",
   "metadata": {},
   "outputs": [],
   "source": [
    "def next_prime(num):\n",
    "    i = 2\n",
    "    while(i<num):\n",
    "        if num%i == 0:\n",
    "            num+=1\n",
    "            i=2\n",
    "        i=i+1\n",
    "    return num               "
   ]
  },
  {
   "cell_type": "code",
   "execution_count": 104,
   "id": "87c5b5ca",
   "metadata": {},
   "outputs": [
    {
     "data": {
      "text/plain": [
       "13"
      ]
     },
     "execution_count": 104,
     "metadata": {},
     "output_type": "execute_result"
    }
   ],
   "source": [
    "next_prime(12) "
   ]
  },
  {
   "cell_type": "code",
   "execution_count": 105,
   "id": "f6ae6832",
   "metadata": {},
   "outputs": [
    {
     "data": {
      "text/plain": [
       "29"
      ]
     },
     "execution_count": 105,
     "metadata": {},
     "output_type": "execute_result"
    }
   ],
   "source": [
    "next_prime(24) "
   ]
  },
  {
   "cell_type": "code",
   "execution_count": 106,
   "id": "12dd6518",
   "metadata": {},
   "outputs": [
    {
     "data": {
      "text/plain": [
       "11"
      ]
     },
     "execution_count": 106,
     "metadata": {},
     "output_type": "execute_result"
    }
   ],
   "source": [
    "next_prime(11)"
   ]
  },
  {
   "cell_type": "markdown",
   "id": "758fd954",
   "metadata": {},
   "source": [
    "3. If a person traveled up a hill for 18mins at 20mph and then traveled back down the same path at 60mph then their average speed traveled was 30mph. Write a function that returns the average speed traveled given an uphill time, uphill rate and a downhill rate. Uphill time is given in minutes. Return the rate as an integer (mph). No rounding is necessary."
   ]
  },
  {
   "cell_type": "code",
   "execution_count": 107,
   "id": "2523707b",
   "metadata": {},
   "outputs": [],
   "source": [
    "def ave_spd(t1, v1, v2):\n",
    "    return (2*v1*v2)/(v1+v2)\n",
    "    "
   ]
  },
  {
   "cell_type": "code",
   "execution_count": 108,
   "id": "3633730f",
   "metadata": {},
   "outputs": [
    {
     "data": {
      "text/plain": [
       "30.0"
      ]
     },
     "execution_count": 108,
     "metadata": {},
     "output_type": "execute_result"
    }
   ],
   "source": [
    "ave_spd(18, 20, 60) "
   ]
  },
  {
   "cell_type": "code",
   "execution_count": 109,
   "id": "e363d511",
   "metadata": {},
   "outputs": [
    {
     "data": {
      "text/plain": [
       "15.0"
      ]
     },
     "execution_count": 109,
     "metadata": {},
     "output_type": "execute_result"
    }
   ],
   "source": [
    "ave_spd(30, 10, 30) "
   ]
  },
  {
   "cell_type": "code",
   "execution_count": 110,
   "id": "1e61312a",
   "metadata": {},
   "outputs": [
    {
     "data": {
      "text/plain": [
       "12.0"
      ]
     },
     "execution_count": 110,
     "metadata": {},
     "output_type": "execute_result"
    }
   ],
   "source": [
    "ave_spd(30, 8, 24) "
   ]
  },
  {
   "cell_type": "markdown",
   "id": "d7d6a2fe",
   "metadata": {},
   "source": [
    "4. The Kempner Function, applied to a composite number, permits to find the smallest integer greater than zero whose factorial is exactly divided by the number."
   ]
  },
  {
   "cell_type": "code",
   "execution_count": 139,
   "id": "c690734f",
   "metadata": {},
   "outputs": [],
   "source": [
    "from functools import reduce\n",
    "def kempner(num):\n",
    "    for i in range(1,num+1):\n",
    "        f = reduce(lambda x, y: x*y, range(1,i+1))\n",
    "        if f%num == 0:\n",
    "            return i \n",
    "            break"
   ]
  },
  {
   "cell_type": "code",
   "execution_count": 140,
   "id": "b21c3aec",
   "metadata": {},
   "outputs": [
    {
     "data": {
      "text/plain": [
       "3"
      ]
     },
     "execution_count": 140,
     "metadata": {},
     "output_type": "execute_result"
    }
   ],
   "source": [
    "kempner(6) "
   ]
  },
  {
   "cell_type": "code",
   "execution_count": 141,
   "id": "449e8b54",
   "metadata": {},
   "outputs": [
    {
     "data": {
      "text/plain": [
       "5"
      ]
     },
     "execution_count": 141,
     "metadata": {},
     "output_type": "execute_result"
    }
   ],
   "source": [
    "kempner(10) "
   ]
  },
  {
   "cell_type": "code",
   "execution_count": 142,
   "id": "a9ea324e",
   "metadata": {},
   "outputs": [
    {
     "data": {
      "text/plain": [
       "5"
      ]
     },
     "execution_count": 142,
     "metadata": {},
     "output_type": "execute_result"
    }
   ],
   "source": [
    "kempner(5) "
   ]
  },
  {
   "cell_type": "code",
   "execution_count": 143,
   "id": "8bfaf2c6",
   "metadata": {},
   "outputs": [
    {
     "data": {
      "text/plain": [
       "2"
      ]
     },
     "execution_count": 143,
     "metadata": {},
     "output_type": "execute_result"
    }
   ],
   "source": [
    "kempner(2) "
   ]
  },
  {
   "cell_type": "markdown",
   "id": "1cd792e4",
   "metadata": {},
   "source": [
    "5. You work in a factory, and your job is to take items from a conveyor belt and pack them into boxes. Each box can hold a maximum of 10 kgs. Given a list containing the weight (in kg) of each item, how many boxes would you need to pack all of the items?"
   ]
  },
  {
   "cell_type": "code",
   "execution_count": 154,
   "id": "beecf21a",
   "metadata": {},
   "outputs": [],
   "source": [
    "def boxes(item_lst):\n",
    "    box =0\n",
    "    sum =0\n",
    "    for item in item_lst:\n",
    "        sum+=item\n",
    "        if sum >= 10:\n",
    "            box+=1\n",
    "            sum = item\n",
    "            \n",
    "    return box    "
   ]
  },
  {
   "cell_type": "code",
   "execution_count": 155,
   "id": "7d3358be",
   "metadata": {},
   "outputs": [
    {
     "data": {
      "text/plain": [
       "5"
      ]
     },
     "execution_count": 155,
     "metadata": {},
     "output_type": "execute_result"
    }
   ],
   "source": [
    "boxes([2, 1, 2, 5, 4, 3, 6, 1, 1, 9, 3, 2]) "
   ]
  },
  {
   "cell_type": "code",
   "execution_count": null,
   "id": "603adc03",
   "metadata": {},
   "outputs": [],
   "source": []
  }
 ],
 "metadata": {
  "kernelspec": {
   "display_name": "Python 3",
   "language": "python",
   "name": "python3"
  },
  "language_info": {
   "codemirror_mode": {
    "name": "ipython",
    "version": 3
   },
   "file_extension": ".py",
   "mimetype": "text/x-python",
   "name": "python",
   "nbconvert_exporter": "python",
   "pygments_lexer": "ipython3",
   "version": "3.8.5"
  }
 },
 "nbformat": 4,
 "nbformat_minor": 5
}
