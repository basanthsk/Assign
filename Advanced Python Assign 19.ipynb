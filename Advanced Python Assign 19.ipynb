{
 "cells": [
  {
   "cell_type": "markdown",
   "id": "7c32c540",
   "metadata": {},
   "source": [
    "1. Create a checker board generator, which takes as inputs n and 2 elements to generate an n x n checkerboard with those two elements as alternating squares.\n",
    "\n"
   ]
  },
  {
   "cell_type": "code",
   "execution_count": 28,
   "id": "06b96c5e",
   "metadata": {},
   "outputs": [],
   "source": [
    "def checker_board(n,el1,el2):\n",
    "    board = []\n",
    "    x = el1\n",
    "    if el1 != el2:\n",
    "        for i in range(n):\n",
    "            l =[]\n",
    "            for j in range(n):\n",
    "                l.append(x)\n",
    "                if x == el1:\n",
    "                    x =el2\n",
    "                else:\n",
    "                    x = el1\n",
    "            board.append(l)\n",
    "            if i%2==0:\n",
    "                x = el2\n",
    "            else:\n",
    "                x = el1\n",
    "        return board    \n",
    "    else:\n",
    "        return 'invalid'\n",
    "        \n",
    "    "
   ]
  },
  {
   "cell_type": "code",
   "execution_count": 29,
   "id": "a580743a",
   "metadata": {},
   "outputs": [
    {
     "data": {
      "text/plain": [
       "[[7, 6], [6, 7]]"
      ]
     },
     "execution_count": 29,
     "metadata": {},
     "output_type": "execute_result"
    }
   ],
   "source": [
    "checker_board(2, 7, 6) "
   ]
  },
  {
   "cell_type": "code",
   "execution_count": 30,
   "id": "e405b710",
   "metadata": {},
   "outputs": [
    {
     "data": {
      "text/plain": [
       "[['A', 'B', 'A'], ['B', 'A', 'B'], ['A', 'B', 'A']]"
      ]
     },
     "execution_count": 30,
     "metadata": {},
     "output_type": "execute_result"
    }
   ],
   "source": [
    "checker_board(3, \"A\", \"B\") \n"
   ]
  },
  {
   "cell_type": "code",
   "execution_count": 31,
   "id": "6dd779bf",
   "metadata": {},
   "outputs": [
    {
     "data": {
      "text/plain": [
       "[['c', 'd', 'c', 'd'],\n",
       " ['d', 'c', 'd', 'c'],\n",
       " ['c', 'd', 'c', 'd'],\n",
       " ['d', 'c', 'd', 'c']]"
      ]
     },
     "execution_count": 31,
     "metadata": {},
     "output_type": "execute_result"
    }
   ],
   "source": [
    "checker_board(4, \"c\", \"d\")\n"
   ]
  },
  {
   "cell_type": "code",
   "execution_count": 32,
   "id": "6b71f897",
   "metadata": {},
   "outputs": [
    {
     "data": {
      "text/plain": [
       "'invalid'"
      ]
     },
     "execution_count": 32,
     "metadata": {},
     "output_type": "execute_result"
    }
   ],
   "source": [
    "checker_board(4, \"c\", \"c\")"
   ]
  },
  {
   "cell_type": "markdown",
   "id": "befe1751",
   "metadata": {},
   "source": [
    "2. A string is an almost-palindrome if, by changing only one character, you can make it a palindrome. Create a function that returns True if a string is an almost-palindrome and False otherwise."
   ]
  },
  {
   "cell_type": "code",
   "execution_count": 14,
   "id": "5476b75e",
   "metadata": {},
   "outputs": [],
   "source": [
    "def almost_palindrome(string):\n",
    "    n =len(string)\n",
    "    l = n//2\n",
    "    lstr = string[:l]\n",
    "    count = 0\n",
    "# saparate the left and right part of the string    \n",
    "    if n%2 == 0:\n",
    "        rstr = string[l:][::-1]\n",
    "    else:\n",
    "        rstr = string[l+1:][::-1]\n",
    "# chech left and right string characters one by one    \n",
    "    for i in range(len(lstr)):\n",
    "        if lstr[i]!=rstr[i]:\n",
    "            count+=1\n",
    "    if count<=1:\n",
    "        return True\n",
    "    else:\n",
    "        return False\n",
    "    return rstr,lstr"
   ]
  },
  {
   "cell_type": "code",
   "execution_count": 15,
   "id": "28c256d2",
   "metadata": {},
   "outputs": [
    {
     "data": {
      "text/plain": [
       "True"
      ]
     },
     "execution_count": 15,
     "metadata": {},
     "output_type": "execute_result"
    }
   ],
   "source": [
    "almost_palindrome(\"abcdcbg\") "
   ]
  },
  {
   "cell_type": "code",
   "execution_count": 16,
   "id": "2e7847b9",
   "metadata": {},
   "outputs": [
    {
     "data": {
      "text/plain": [
       "True"
      ]
     },
     "execution_count": 16,
     "metadata": {},
     "output_type": "execute_result"
    }
   ],
   "source": [
    "almost_palindrome(\"abccia\") "
   ]
  },
  {
   "cell_type": "code",
   "execution_count": 17,
   "id": "3116ae4d",
   "metadata": {},
   "outputs": [
    {
     "data": {
      "text/plain": [
       "False"
      ]
     },
     "execution_count": 17,
     "metadata": {},
     "output_type": "execute_result"
    }
   ],
   "source": [
    "almost_palindrome(\"abcdaaa\") "
   ]
  },
  {
   "cell_type": "code",
   "execution_count": 18,
   "id": "4490112a",
   "metadata": {},
   "outputs": [
    {
     "data": {
      "text/plain": [
       "False"
      ]
     },
     "execution_count": 18,
     "metadata": {},
     "output_type": "execute_result"
    }
   ],
   "source": [
    "almost_palindrome(\"1234312\")"
   ]
  },
  {
   "cell_type": "markdown",
   "id": "c501d954",
   "metadata": {},
   "source": [
    "3. Create a function that finds how many prime numbers there are, up to the given integer."
   ]
  },
  {
   "cell_type": "code",
   "execution_count": 15,
   "id": "ab30f137",
   "metadata": {},
   "outputs": [],
   "source": [
    "def prime_numbers(n):\n",
    "    count = 0\n",
    "    for num in range(2,n):\n",
    "        for i in range(2,num):\n",
    "            if (num % i) == 0:\n",
    "                break\n",
    "        else:\n",
    "             count+=1 \n",
    "    return count            "
   ]
  },
  {
   "cell_type": "code",
   "execution_count": 16,
   "id": "495213d0",
   "metadata": {},
   "outputs": [
    {
     "data": {
      "text/plain": [
       "4"
      ]
     },
     "execution_count": 16,
     "metadata": {},
     "output_type": "execute_result"
    }
   ],
   "source": [
    "prime_numbers(10) "
   ]
  },
  {
   "cell_type": "code",
   "execution_count": 17,
   "id": "dafe4566",
   "metadata": {},
   "outputs": [
    {
     "data": {
      "text/plain": [
       "8"
      ]
     },
     "execution_count": 17,
     "metadata": {},
     "output_type": "execute_result"
    }
   ],
   "source": [
    "prime_numbers(20) "
   ]
  },
  {
   "cell_type": "code",
   "execution_count": 18,
   "id": "3aef9e68",
   "metadata": {},
   "outputs": [
    {
     "data": {
      "text/plain": [
       "10"
      ]
     },
     "execution_count": 18,
     "metadata": {},
     "output_type": "execute_result"
    }
   ],
   "source": [
    "prime_numbers(30) "
   ]
  },
  {
   "cell_type": "markdown",
   "id": "0d2f58d6",
   "metadata": {},
   "source": [
    "4. If today was Monday, in two days, it would be Wednesday.\n",
    "\n",
    "Create a function that takes in a list of days as input and the number of days to increment by. Return a list of days after n number of days has passed.\n"
   ]
  },
  {
   "cell_type": "code",
   "execution_count": 32,
   "id": "4b097906",
   "metadata": {},
   "outputs": [],
   "source": [
    "week_dict = {'Monday':1,'Tuesday':2,'Wednesday':3,'Thursday':4,'Friday':5,'Saturday':6,'Sunday':0}\n",
    "def after_n_days(days,n):\n",
    "    next_days =[]\n",
    "    for week_name in days:\n",
    "        day_num = (week_dict[week_name]+n)%7\n",
    "        next_days+=[k for k, v in week_dict.items() if v == day_num]\n",
    "    return next_days         \n",
    "    "
   ]
  },
  {
   "cell_type": "code",
   "execution_count": 33,
   "id": "95efa7a2",
   "metadata": {},
   "outputs": [
    {
     "data": {
      "text/plain": [
       "['Monday', 'Friday']"
      ]
     },
     "execution_count": 33,
     "metadata": {},
     "output_type": "execute_result"
    }
   ],
   "source": [
    "after_n_days([\"Thursday\", \"Monday\"], 4) "
   ]
  },
  {
   "cell_type": "code",
   "execution_count": 34,
   "id": "b3ac46ce",
   "metadata": {},
   "outputs": [
    {
     "data": {
      "text/plain": [
       "['Monday', 'Monday', 'Monday']"
      ]
     },
     "execution_count": 34,
     "metadata": {},
     "output_type": "execute_result"
    }
   ],
   "source": [
    "after_n_days([\"Sunday\", \"Sunday\", \"Sunday\"], 1) "
   ]
  },
  {
   "cell_type": "code",
   "execution_count": 35,
   "id": "3ca2e5c1",
   "metadata": {},
   "outputs": [
    {
     "data": {
      "text/plain": [
       "['Tuesday', 'Wednesday', 'Saturday']"
      ]
     },
     "execution_count": 35,
     "metadata": {},
     "output_type": "execute_result"
    }
   ],
   "source": [
    "after_n_days([\"Monday\", \"Tuesday\", \"Friday\"], 1)"
   ]
  },
  {
   "cell_type": "markdown",
   "id": "78d3234c",
   "metadata": {},
   "source": [
    "5. You are in the process of creating a chat application and want to add an anonymous name feature. This anonymous name feature will create an alias that consists of two capitalized words beginning with the same letter as the users first name.\n",
    "\n",
    "Create a function that determines if the list of users is mapped to a list of anonymous names correctly\n"
   ]
  },
  {
   "cell_type": "code",
   "execution_count": 1,
   "id": "2fd0237d",
   "metadata": {},
   "outputs": [],
   "source": [
    "def is_correct_aliases(name,anonymous):\n",
    "    n = len(name)\n",
    "    for i in range(n):\n",
    "        an = anonymous[i].split()\n",
    "        if name[i][0] == an[0][0] and name[i][0] == an[1][0]:\n",
    "            return True\n",
    "        else:\n",
    "            return False\n",
    "        "
   ]
  },
  {
   "cell_type": "code",
   "execution_count": 2,
   "id": "eb94efad",
   "metadata": {},
   "outputs": [
    {
     "data": {
      "text/plain": [
       "True"
      ]
     },
     "execution_count": 2,
     "metadata": {},
     "output_type": "execute_result"
    }
   ],
   "source": [
    "is_correct_aliases([\"Adrian M.\", \"Harriet S.\", \"Mandy T.\"], [\"Amazing Artichoke\", \"Hopeful Hedgehog\", \"Marvelous Mouse\"])"
   ]
  },
  {
   "cell_type": "code",
   "execution_count": 3,
   "id": "8ae184c5",
   "metadata": {},
   "outputs": [
    {
     "data": {
      "text/plain": [
       "True"
      ]
     },
     "execution_count": 3,
     "metadata": {},
     "output_type": "execute_result"
    }
   ],
   "source": [
    "is_correct_aliases([\"Rachel F.\", \"Pam G.\", \"Fred Z.\", \"Nancy K.\"], [\"Reassuring Rat\", \"Peaceful Panda\", \"Fantastic Frog\", \"Notable Nickel\"])"
   ]
  },
  {
   "cell_type": "code",
   "execution_count": 4,
   "id": "e318d796",
   "metadata": {},
   "outputs": [
    {
     "data": {
      "text/plain": [
       "False"
      ]
     },
     "execution_count": 4,
     "metadata": {},
     "output_type": "execute_result"
    }
   ],
   "source": [
    "is_correct_aliases([\"Beth T.\"], [\"Brandishing Mimosa\"])"
   ]
  },
  {
   "cell_type": "code",
   "execution_count": null,
   "id": "4c997575",
   "metadata": {},
   "outputs": [],
   "source": []
  }
 ],
 "metadata": {
  "kernelspec": {
   "display_name": "Python 3",
   "language": "python",
   "name": "python3"
  },
  "language_info": {
   "codemirror_mode": {
    "name": "ipython",
    "version": 3
   },
   "file_extension": ".py",
   "mimetype": "text/x-python",
   "name": "python",
   "nbconvert_exporter": "python",
   "pygments_lexer": "ipython3",
   "version": "3.8.5"
  }
 },
 "nbformat": 4,
 "nbformat_minor": 5
}
