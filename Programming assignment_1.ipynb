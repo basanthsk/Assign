{
 "cells": [
  {
   "cell_type": "code",
   "execution_count": 13,
   "id": "bfb5419d",
   "metadata": {},
   "outputs": [
    {
     "name": "stdout",
     "output_type": "stream",
     "text": [
      "Hello Python\n"
     ]
    }
   ],
   "source": [
    "#1.\tWrite a Python program to print \"Hello Python\"?\n",
    "print(\"Hello Python\")"
   ]
  },
  {
   "cell_type": "code",
   "execution_count": 14,
   "id": "98ec5ace",
   "metadata": {},
   "outputs": [
    {
     "name": "stdout",
     "output_type": "stream",
     "text": [
      "2\n",
      "3\n",
      "addition of two numbers\n",
      "5.0\n",
      "division of two numbers\n",
      "0.6666666666666666\n"
     ]
    }
   ],
   "source": [
    "#2.\tWrite a Python program to do arithmetical operations addition and division.?\n",
    "a=float(input())\n",
    "b=float(input())\n",
    "add = a+b\n",
    "div = a/b\n",
    "print(\"addition of two numbers\")\n",
    "print(add)\n",
    "print(\"division of two numbers\")\n",
    "print(div)\n"
   ]
  },
  {
   "cell_type": "code",
   "execution_count": 15,
   "id": "f12c9e5b",
   "metadata": {},
   "outputs": [
    {
     "name": "stdout",
     "output_type": "stream",
     "text": [
      "Enter the base of traingle\n",
      "3\n",
      "Enter the hieght of the traingle\n",
      "5\n",
      "7.5\n"
     ]
    }
   ],
   "source": [
    "#3.\tWrite a Python program to find the area of a triangle?\n",
    "print(\"Enter the base of traingle\")\n",
    "b=float(input())\n",
    "print(\"Enter the hieght of the traingle\")\n",
    "h=float(input())\n",
    "area = 0.5*b*h\n",
    "print(area)"
   ]
  },
  {
   "cell_type": "code",
   "execution_count": 18,
   "id": "78c93cee",
   "metadata": {},
   "outputs": [
    {
     "name": "stdout",
     "output_type": "stream",
     "text": [
      "Enter the first variable\n",
      "2\n",
      "Enter the second varaible\n",
      "3\n",
      "the value in varaibles of before swap\n",
      "a = 2 and b =3\n",
      "the value of varaible after swap\n",
      "a = 3 and b =2\n"
     ]
    }
   ],
   "source": [
    "#4.\tWrite a Python program to swap two variables?\n",
    "print(\"Enter the first variable\")\n",
    "a=int(input())\n",
    "print(\"Enter the second varaible\")\n",
    "b=int(input())\n",
    "print(\"the value in varaibles of before swap\")\n",
    "print(f\"a = {a} and b ={b}\")\n",
    "temp = a\n",
    "a = b\n",
    "b = temp\n",
    "print(\"the value of varaible after swap\" )\n",
    "print(f\"a = {a} and b ={b}\")\n",
    "\n"
   ]
  },
  {
   "cell_type": "code",
   "execution_count": 23,
   "id": "2ee21e8c",
   "metadata": {},
   "outputs": [
    {
     "name": "stdout",
     "output_type": "stream",
     "text": [
      "0.720089267274355\n"
     ]
    }
   ],
   "source": [
    "#5.\tWrite a Python program to generate a random number?\n",
    "import random\n",
    "r = random.random()\n",
    "print(r)"
   ]
  }
 ],
 "metadata": {
  "kernelspec": {
   "display_name": "Python 3",
   "language": "python",
   "name": "python3"
  },
  "language_info": {
   "codemirror_mode": {
    "name": "ipython",
    "version": 3
   },
   "file_extension": ".py",
   "mimetype": "text/x-python",
   "name": "python",
   "nbconvert_exporter": "python",
   "pygments_lexer": "ipython3",
   "version": "3.8.5"
  }
 },
 "nbformat": 4,
 "nbformat_minor": 5
}
