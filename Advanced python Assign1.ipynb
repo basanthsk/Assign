{
 "cells": [
  {
   "cell_type": "markdown",
   "id": "a5355a5a",
   "metadata": {},
   "source": [
    "1 Write a function that takes a list of lists and returns the value of all of the symbols in it, where each symbol adds or takes something from the total score. Symbol values:\n",
    "\n"
   ]
  },
  {
   "cell_type": "code",
   "execution_count": 5,
   "id": "ba805085",
   "metadata": {},
   "outputs": [],
   "source": [
    "def check_score(lst):\n",
    "    my_dict = {\"#\":5,\"O\":3,\"X\":1,\"!\":-1,\"!!\":-3,\"!!!\":-5}\n",
    "    sum =0\n",
    "    for l1 in lst:\n",
    "        for el in l1:\n",
    "            sum+=my_dict[el]\n",
    "    if sum<0:\n",
    "        return 0\n",
    "    else:\n",
    "        return sum"
   ]
  },
  {
   "cell_type": "code",
   "execution_count": 6,
   "id": "706aa032",
   "metadata": {},
   "outputs": [
    {
     "data": {
      "text/plain": [
       "2"
      ]
     },
     "execution_count": 6,
     "metadata": {},
     "output_type": "execute_result"
    }
   ],
   "source": [
    "check_score([[\"#\", \"!\"],  [\"!!\", \"X\"]]) \n",
    "\n"
   ]
  },
  {
   "cell_type": "code",
   "execution_count": 7,
   "id": "45b6ab48",
   "metadata": {},
   "outputs": [
    {
     "data": {
      "text/plain": [
       "0"
      ]
     },
     "execution_count": 7,
     "metadata": {},
     "output_type": "execute_result"
    }
   ],
   "source": [
    "check_score([\n",
    "  [\"!!!\", \"O\", \"!\"],\n",
    "  [\"X\", \"#\", \"!!!\"],\n",
    "  [\"!!\", \"X\", \"O\"]\n",
    "])\n"
   ]
  },
  {
   "cell_type": "markdown",
   "id": "a4ce34ef",
   "metadata": {},
   "source": [
    "2. Create a function that takes a variable number of arguments, each argument representing the number of items in a group, and returns the number of permutations (combinations) of items that you could get by taking one item from each group.\n",
    "\n"
   ]
  },
  {
   "cell_type": "code",
   "execution_count": 4,
   "id": "a8753869",
   "metadata": {},
   "outputs": [],
   "source": [
    "def combinations(*args):\n",
    "    mul =1\n",
    "    for i in args:\n",
    "        mul*=i\n",
    "    return mul "
   ]
  },
  {
   "cell_type": "code",
   "execution_count": 5,
   "id": "15fadf39",
   "metadata": {},
   "outputs": [
    {
     "data": {
      "text/plain": [
       "6"
      ]
     },
     "execution_count": 5,
     "metadata": {},
     "output_type": "execute_result"
    }
   ],
   "source": [
    "combinations(2, 3) "
   ]
  },
  {
   "cell_type": "code",
   "execution_count": 6,
   "id": "20e1949f",
   "metadata": {},
   "outputs": [
    {
     "data": {
      "text/plain": [
       "84"
      ]
     },
     "execution_count": 6,
     "metadata": {},
     "output_type": "execute_result"
    }
   ],
   "source": [
    "combinations(3, 7, 4)"
   ]
  },
  {
   "cell_type": "code",
   "execution_count": 7,
   "id": "1f73f223",
   "metadata": {},
   "outputs": [
    {
     "data": {
      "text/plain": [
       "120"
      ]
     },
     "execution_count": 7,
     "metadata": {},
     "output_type": "execute_result"
    }
   ],
   "source": [
    "combinations(2, 3, 4, 5)"
   ]
  },
  {
   "cell_type": "markdown",
   "id": "8f261101",
   "metadata": {},
   "source": [
    "3. Create a function that takes a string as an argument and returns the Morse code equivalent."
   ]
  },
  {
   "cell_type": "code",
   "execution_count": 16,
   "id": "728c39b7",
   "metadata": {},
   "outputs": [],
   "source": [
    "def encode_morse(sentence):\n",
    "    char_to_dots = {\n",
    "  'A': '.-', 'B': '-...', 'C': '-.-.', 'D': '-..', 'E': '.', 'F': '..-.',\n",
    "  'G': '--.', 'H': '....', 'I': '..', 'J': '.---', 'K': '-.-', 'L': '.-..',\n",
    "  'M': '--', 'N': '-.', 'O': '---', 'P': '.--.', 'Q': '--.-', 'R': '.-.',\n",
    "  'S': '...', 'T': '-', 'U': '..-', 'V': '...-', 'W': '.--', 'X': '-..-',\n",
    "  'Y': '-.--', 'Z': '--..', ' ': ' ', '0': '-----',\n",
    "  '1': '.----', '2': '..---', '3': '...--', '4': '....-', '5': '.....',\n",
    "  '6': '-....', '7': '--...', '8': '---..', '9': '----.',\n",
    "  '&': '.-...', \"'\": '.----.', '@': '.--.-.', ')': '-.--.-', '(': '-.--.',\n",
    "  ':': '---...', ',': '--..--', '=': '-...-', '!': '-.-.--', '.': '.-.-.-',\n",
    "  '-': '-....-', '+': '.-.-.', '\"': '.-..-.', '?': '..--..', '/': '-..-.'\n",
    "}\n",
    "\n",
    "    mosrse = \"\"\n",
    "    for s in sentence:\n",
    "        mosrse = mosrse+\" \"+char_to_dots[s]    \n",
    "    return mosrse\n"
   ]
  },
  {
   "cell_type": "code",
   "execution_count": 17,
   "id": "4874ef0f",
   "metadata": {},
   "outputs": [
    {
     "data": {
      "text/plain": [
       "' . -.. .- -... -... .. -   -.-. .... .- .-.. .-.. . -. --. .'"
      ]
     },
     "execution_count": 17,
     "metadata": {},
     "output_type": "execute_result"
    }
   ],
   "source": [
    "encode_morse(\"EDABBIT CHALLENGE\") \n"
   ]
  },
  {
   "cell_type": "code",
   "execution_count": 18,
   "id": "c1ae6019",
   "metadata": {},
   "outputs": [
    {
     "data": {
      "text/plain": [
       "' .... . .-.. .--.   -- .   -.-.--'"
      ]
     },
     "execution_count": 18,
     "metadata": {},
     "output_type": "execute_result"
    }
   ],
   "source": [
    "encode_morse(\"HELP ME !\")"
   ]
  },
  {
   "cell_type": "markdown",
   "id": "97c0c7f3",
   "metadata": {},
   "source": [
    "4.  Write a function that takes a number and returns True if it's a prime; False otherwise. The number can be 2^64-1 (2 to the power of 63, not XOR). With the standard technique it would be O(2^64-1), which is much too large for the 10 second time limit."
   ]
  },
  {
   "cell_type": "code",
   "execution_count": 8,
   "id": "9eecd0bc",
   "metadata": {},
   "outputs": [],
   "source": [
    "import math\n",
    "def prime(num):\n",
    "    if num <= 1:\n",
    "        return False\n",
    "    if num == 2:\n",
    "        return True\n",
    "    if num > 2 and num % 2 == 0:\n",
    "        return False\n",
    " \n",
    "    div = math.floor(math.sqrt(num))\n",
    "    for i in range(3, 1 + div, 2):\n",
    "        if num % i == 0:\n",
    "            return False\n",
    "    return True"
   ]
  },
  {
   "cell_type": "code",
   "execution_count": 9,
   "id": "b43e670e",
   "metadata": {},
   "outputs": [
    {
     "data": {
      "text/plain": [
       "True"
      ]
     },
     "execution_count": 9,
     "metadata": {},
     "output_type": "execute_result"
    }
   ],
   "source": [
    "prime(7) "
   ]
  },
  {
   "cell_type": "code",
   "execution_count": 11,
   "id": "c69deb0f",
   "metadata": {},
   "outputs": [
    {
     "data": {
      "text/plain": [
       "False"
      ]
     },
     "execution_count": 11,
     "metadata": {},
     "output_type": "execute_result"
    }
   ],
   "source": [
    "prime(5151512515524) "
   ]
  },
  {
   "cell_type": "code",
   "execution_count": 12,
   "id": "6035d375",
   "metadata": {},
   "outputs": [
    {
     "data": {
      "text/plain": [
       "True"
      ]
     },
     "execution_count": 12,
     "metadata": {},
     "output_type": "execute_result"
    }
   ],
   "source": [
    "prime(56963) "
   ]
  },
  {
   "cell_type": "markdown",
   "id": "c23a9818",
   "metadata": {},
   "source": [
    "5.  Create a function that converts a word to a bitstring and then to a boolean list based on the following criteria:"
   ]
  },
  {
   "cell_type": "code",
   "execution_count": 17,
   "id": "a33c6752",
   "metadata": {},
   "outputs": [],
   "source": [
    "def to_boolean_list(word):\n",
    "    b=[]\n",
    "    for s in word:\n",
    "        pos = ord(s)&31\n",
    "        if pos%2 == 0:\n",
    "            b.append(False)\n",
    "        else:\n",
    "            b.append(True)\n",
    "    return b      "
   ]
  },
  {
   "cell_type": "code",
   "execution_count": 18,
   "id": "41bf46fa",
   "metadata": {},
   "outputs": [
    {
     "data": {
      "text/plain": [
       "[False, True, True, False]"
      ]
     },
     "execution_count": 18,
     "metadata": {},
     "output_type": "execute_result"
    }
   ],
   "source": [
    "to_boolean_list(\"deep\")"
   ]
  },
  {
   "cell_type": "code",
   "execution_count": 20,
   "id": "0a9fa4ae",
   "metadata": {},
   "outputs": [
    {
     "data": {
      "text/plain": [
       "[False, True, False, True, True]"
      ]
     },
     "execution_count": 20,
     "metadata": {},
     "output_type": "execute_result"
    }
   ],
   "source": [
    "to_boolean_list(\"loves\") "
   ]
  },
  {
   "cell_type": "code",
   "execution_count": 21,
   "id": "6f877521",
   "metadata": {},
   "outputs": [
    {
     "data": {
      "text/plain": [
       "[False, True, True, False]"
      ]
     },
     "execution_count": 21,
     "metadata": {},
     "output_type": "execute_result"
    }
   ],
   "source": [
    "to_boolean_list(\"tesh\") "
   ]
  },
  {
   "cell_type": "code",
   "execution_count": null,
   "id": "85bea8c9",
   "metadata": {},
   "outputs": [],
   "source": []
  }
 ],
 "metadata": {
  "kernelspec": {
   "display_name": "Python 3",
   "language": "python",
   "name": "python3"
  },
  "language_info": {
   "codemirror_mode": {
    "name": "ipython",
    "version": 3
   },
   "file_extension": ".py",
   "mimetype": "text/x-python",
   "name": "python",
   "nbconvert_exporter": "python",
   "pygments_lexer": "ipython3",
   "version": "3.8.5"
  }
 },
 "nbformat": 4,
 "nbformat_minor": 5
}
