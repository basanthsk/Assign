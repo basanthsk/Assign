{
 "cells": [
  {
   "cell_type": "markdown",
   "id": "6c9ea4aa",
   "metadata": {},
   "source": [
    "1. Create a function based on the input and output. Look at the examples, there is a pattern."
   ]
  },
  {
   "cell_type": "code",
   "execution_count": 34,
   "id": "a4c17780",
   "metadata": {},
   "outputs": [],
   "source": [
    "def secret(string):\n",
    "    s = string.split('.')\n",
    "    f = ''\n",
    "    for i in range(len(s)):\n",
    "        if i ==0:\n",
    "            f+='<p class=\\''\n",
    "        else:\n",
    "            f+=s[i]+' '\n",
    "    return f.strip()+'\\'></p>'"
   ]
  },
  {
   "cell_type": "code",
   "execution_count": 35,
   "id": "a3649705",
   "metadata": {},
   "outputs": [
    {
     "data": {
      "text/plain": [
       "\"<p class='one two three'></p>\""
      ]
     },
     "execution_count": 35,
     "metadata": {},
     "output_type": "execute_result"
    }
   ],
   "source": [
    "secret(\"p.one.two.three\") "
   ]
  },
  {
   "cell_type": "code",
   "execution_count": 36,
   "id": "1d750ed0",
   "metadata": {},
   "outputs": [
    {
     "data": {
      "text/plain": [
       "\"<p class='one'></p>\""
      ]
     },
     "execution_count": 36,
     "metadata": {},
     "output_type": "execute_result"
    }
   ],
   "source": [
    "secret(\"p.one\")"
   ]
  },
  {
   "cell_type": "code",
   "execution_count": 37,
   "id": "ce96612d",
   "metadata": {},
   "outputs": [
    {
     "data": {
      "text/plain": [
       "\"<p class='four five'></p>\""
      ]
     },
     "execution_count": 37,
     "metadata": {},
     "output_type": "execute_result"
    }
   ],
   "source": [
    "secret(\"p.four.five\") "
   ]
  },
  {
   "cell_type": "markdown",
   "id": "e05a63bf",
   "metadata": {},
   "source": [
    "2. Create a function which counts how many lone 1s appear in a given number. Lone means the number doesn't appear twice or more in a row."
   ]
  },
  {
   "cell_type": "code",
   "execution_count": 57,
   "id": "9a4c0744",
   "metadata": {},
   "outputs": [],
   "source": [
    "def count_lone_ones(num):\n",
    "    num = list(str(num))\n",
    "    count = 0\n",
    "    i = 0\n",
    "    while (i<len(num)):\n",
    "        if num[i] == '1':\n",
    "            try:\n",
    "                if num[i+1]!='1':\n",
    "                    count+=1\n",
    "                else:\n",
    "                    i+=1\n",
    "            except IndexError:\n",
    "                if num[i] == '1':\n",
    "                    count+=1\n",
    "        i+=1          \n",
    "    return count    "
   ]
  },
  {
   "cell_type": "code",
   "execution_count": 58,
   "id": "379f2db4",
   "metadata": {},
   "outputs": [
    {
     "data": {
      "text/plain": [
       "2"
      ]
     },
     "execution_count": 58,
     "metadata": {},
     "output_type": "execute_result"
    }
   ],
   "source": [
    "count_lone_ones(101) "
   ]
  },
  {
   "cell_type": "code",
   "execution_count": 59,
   "id": "5d2f5fca",
   "metadata": {},
   "outputs": [
    {
     "data": {
      "text/plain": [
       "1"
      ]
     },
     "execution_count": 59,
     "metadata": {},
     "output_type": "execute_result"
    }
   ],
   "source": [
    "count_lone_ones(1191) "
   ]
  },
  {
   "cell_type": "code",
   "execution_count": 60,
   "id": "cbeb7033",
   "metadata": {},
   "outputs": [
    {
     "data": {
      "text/plain": [
       "0"
      ]
     },
     "execution_count": 60,
     "metadata": {},
     "output_type": "execute_result"
    }
   ],
   "source": [
    "count_lone_ones(1111) "
   ]
  },
  {
   "cell_type": "code",
   "execution_count": 61,
   "id": "c8b4f294",
   "metadata": {},
   "outputs": [
    {
     "data": {
      "text/plain": [
       "0"
      ]
     },
     "execution_count": 61,
     "metadata": {},
     "output_type": "execute_result"
    }
   ],
   "source": [
    "count_lone_ones(462) "
   ]
  },
  {
   "cell_type": "markdown",
   "id": "cebc3f11",
   "metadata": {},
   "source": [
    "3. Write a method that accepts two integer parameters rows and cols. The output is a 2d array of numbers displayed in column-major order, meaning the numbers shown increase sequentially down each column and wrap to the top of the next column to the right once the bottom of the current column is reached."
   ]
  },
  {
   "cell_type": "code",
   "execution_count": 97,
   "id": "a40831d9",
   "metadata": {},
   "outputs": [],
   "source": [
    "def printGrid(row,col):\n",
    "    grid = []\n",
    "    for i in range(row):\n",
    "        l=[]\n",
    "        for j in range(1,col+1):\n",
    "            if j==1:\n",
    "                l.append(j+i)\n",
    "            else:\n",
    "                l.append(l[j-2]+row)\n",
    "        grid.append(l)        \n",
    "    return grid"
   ]
  },
  {
   "cell_type": "code",
   "execution_count": 98,
   "id": "abd6dd6c",
   "metadata": {},
   "outputs": [
    {
     "data": {
      "text/plain": [
       "[[1, 4, 7, 10, 13, 16], [2, 5, 8, 11, 14, 17], [3, 6, 9, 12, 15, 18]]"
      ]
     },
     "execution_count": 98,
     "metadata": {},
     "output_type": "execute_result"
    }
   ],
   "source": [
    "printGrid(3, 6) "
   ]
  },
  {
   "cell_type": "code",
   "execution_count": 99,
   "id": "7bae20c9",
   "metadata": {},
   "outputs": [
    {
     "data": {
      "text/plain": [
       "[[1, 6, 11], [2, 7, 12], [3, 8, 13], [4, 9, 14], [5, 10, 15]]"
      ]
     },
     "execution_count": 99,
     "metadata": {},
     "output_type": "execute_result"
    }
   ],
   "source": [
    "printGrid(5, 3) "
   ]
  },
  {
   "cell_type": "code",
   "execution_count": 100,
   "id": "35314150",
   "metadata": {},
   "outputs": [
    {
     "data": {
      "text/plain": [
       "[[1], [2], [3], [4]]"
      ]
     },
     "execution_count": 100,
     "metadata": {},
     "output_type": "execute_result"
    }
   ],
   "source": [
    "printGrid(4, 1) "
   ]
  },
  {
   "cell_type": "markdown",
   "id": "b2cf5185",
   "metadata": {},
   "source": [
    "4. Given a list of integers, return the smallest positive integer not present in the list.\n",
    "\n",
    "Here is a representative example. Consider the list:\n"
   ]
  },
  {
   "cell_type": "code",
   "execution_count": 108,
   "id": "acb8030a",
   "metadata": {},
   "outputs": [],
   "source": [
    "def min_miss_pos(lst):\n",
    "    lst = set(sorted(lst))\n",
    "    for i in range(1,len(lst)):\n",
    "        if i not in lst:\n",
    "            return i"
   ]
  },
  {
   "cell_type": "code",
   "execution_count": 109,
   "id": "851bb93f",
   "metadata": {},
   "outputs": [
    {
     "data": {
      "text/plain": [
       "8"
      ]
     },
     "execution_count": 109,
     "metadata": {},
     "output_type": "execute_result"
    }
   ],
   "source": [
    "min_miss_pos([-2, 6, 4, 5, 7, -1, 1, 3, 6, -2, 9, 10, 2, 2]) "
   ]
  },
  {
   "cell_type": "code",
   "execution_count": 110,
   "id": "9f74e74a",
   "metadata": {},
   "outputs": [
    {
     "data": {
      "text/plain": [
       "2"
      ]
     },
     "execution_count": 110,
     "metadata": {},
     "output_type": "execute_result"
    }
   ],
   "source": [
    "min_miss_pos([5, 9, -2, 0, 1, 3, 9, 3, 8, 9]) "
   ]
  },
  {
   "cell_type": "code",
   "execution_count": 111,
   "id": "daf0ebf8",
   "metadata": {},
   "outputs": [
    {
     "data": {
      "text/plain": [
       "1"
      ]
     },
     "execution_count": 111,
     "metadata": {},
     "output_type": "execute_result"
    }
   ],
   "source": [
    "min_miss_pos([0, 4, 4, -1, 9, 4, 5, 2, 10, 7, 6, 3, 10, 9]) "
   ]
  },
  {
   "cell_type": "markdown",
   "id": "fe8b2538",
   "metadata": {},
   "source": [
    "5. Google is launching a network of autonomous pizza delivery drones and wants you to create a flexible rewards system (Pizza Points™) that can be tweaked in the future. The rules are simple: if a customer has made at least N orders of at least Y price, they get a FREE pizza!"
   ]
  },
  {
   "cell_type": "code",
   "execution_count": 126,
   "id": "2a34b6cc",
   "metadata": {},
   "outputs": [],
   "source": [
    "customers = {\n",
    "  \"Batman\": [22, 30, 11, 17, 15, 52, 27, 12],\n",
    "  \"Spider-Man\": [5, 17, 30, 33, 40, 22, 26, 10, 11, 45]\n",
    "}\n",
    "def pizza_points(customers, min_orders,min_price):\n",
    "    c = []\n",
    "    for k,v in customers.items():\n",
    "        count = sum(i > min_price for i in v)\n",
    "        if count >=min_orders:\n",
    "            c.append(k)\n",
    "    return c    "
   ]
  },
  {
   "cell_type": "code",
   "execution_count": 127,
   "id": "c615cd62",
   "metadata": {},
   "outputs": [
    {
     "data": {
      "text/plain": [
       "['Spider-Man']"
      ]
     },
     "execution_count": 127,
     "metadata": {},
     "output_type": "execute_result"
    }
   ],
   "source": [
    "pizza_points(customers, 5, 20) \n"
   ]
  },
  {
   "cell_type": "code",
   "execution_count": 128,
   "id": "e59317d0",
   "metadata": {},
   "outputs": [
    {
     "data": {
      "text/plain": [
       "['Batman', 'Spider-Man']"
      ]
     },
     "execution_count": 128,
     "metadata": {},
     "output_type": "execute_result"
    }
   ],
   "source": [
    "pizza_points(customers, 3, 10) "
   ]
  },
  {
   "cell_type": "code",
   "execution_count": 129,
   "id": "4bd79a5c",
   "metadata": {},
   "outputs": [
    {
     "data": {
      "text/plain": [
       "[]"
      ]
     },
     "execution_count": 129,
     "metadata": {},
     "output_type": "execute_result"
    }
   ],
   "source": [
    "pizza_points(customers, 5, 100) "
   ]
  },
  {
   "cell_type": "code",
   "execution_count": null,
   "id": "df15ce13",
   "metadata": {},
   "outputs": [],
   "source": []
  }
 ],
 "metadata": {
  "kernelspec": {
   "display_name": "Python 3",
   "language": "python",
   "name": "python3"
  },
  "language_info": {
   "codemirror_mode": {
    "name": "ipython",
    "version": 3
   },
   "file_extension": ".py",
   "mimetype": "text/x-python",
   "name": "python",
   "nbconvert_exporter": "python",
   "pygments_lexer": "ipython3",
   "version": "3.8.5"
  }
 },
 "nbformat": 4,
 "nbformat_minor": 5
}
